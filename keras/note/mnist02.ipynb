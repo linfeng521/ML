{
 "cells": [
  {
   "cell_type": "code",
   "execution_count": 1,
   "metadata": {},
   "outputs": [],
   "source": [
    "import matplotlib.pyplot as plt\n",
    "import tensorflow as tf\n",
    "from tensorflow import keras\n",
    "from tensorflow.keras import layers, optimizers, datasets"
   ]
  },
  {
   "cell_type": "code",
   "execution_count": 2,
   "metadata": {},
   "outputs": [],
   "source": [
    "(x_train, y_train), (x_test, y_test) = datasets.mnist.load_data()"
   ]
  },
  {
   "cell_type": "code",
   "execution_count": 3,
   "metadata": {},
   "outputs": [
    {
     "data": {
      "text/plain": [
       "((60000, 28, 28), (60000,))"
      ]
     },
     "execution_count": 3,
     "metadata": {},
     "output_type": "execute_result"
    }
   ],
   "source": [
    "x_train.shape,y_train.shape"
   ]
  },
  {
   "cell_type": "code",
   "execution_count": 4,
   "metadata": {},
   "outputs": [],
   "source": [
    "import numpy as np"
   ]
  },
  {
   "cell_type": "code",
   "execution_count": 5,
   "metadata": {},
   "outputs": [
    {
     "data": {
      "text/plain": [
       "255"
      ]
     },
     "execution_count": 5,
     "metadata": {},
     "output_type": "execute_result"
    }
   ],
   "source": [
    "np.max(x_train[0])"
   ]
  },
  {
   "cell_type": "code",
   "execution_count": 6,
   "metadata": {},
   "outputs": [],
   "source": [
    "x_train = x_train/255.0\n",
    "x_test = x_test/255.0"
   ]
  },
  {
   "cell_type": "code",
   "execution_count": 7,
   "metadata": {},
   "outputs": [
    {
     "data": {
      "text/plain": [
       "5"
      ]
     },
     "execution_count": 7,
     "metadata": {},
     "output_type": "execute_result"
    },
    {
     "data": {
      "image/png": "[encoded data removed]",
      "text/plain": [
       "<Figure size 432x288 with 1 Axes>"
      ]
     },
     "metadata": {
      "needs_background": "light"
     },
     "output_type": "display_data"
    }
   ],
   "source": [
    "plt.title=y_train[0]\n",
    "plt.imshow(x_train[0])\n",
    "y_train[0]"
   ]
  },
  {
   "cell_type": "code",
   "execution_count": 8,
   "metadata": {},
   "outputs": [
    {
     "data": {
      "text/plain": [
       "1.0"
      ]
     },
     "execution_count": 8,
     "metadata": {},
     "output_type": "execute_result"
    }
   ],
   "source": [
    "np.max(x_train[0])# 训练集数据归一化"
   ]
  },
  {
   "cell_type": "code",
   "execution_count": 9,
   "metadata": {},
   "outputs": [],
   "source": [
    "x_train_dataset = tf.data.Dataset.from_tensor_slices(x_train)\n",
    "y_train_dataset = tf.data.Dataset.from_tensor_slices(y_train)\n",
    "train_dataset = tf.data.Dataset.zip((x_train_dataset,y_train_dataset))\n",
    "test_dataset = tf.data.Dataset.from_tensor_slices((x_test, y_test))"
   ]
  },
  {
   "cell_type": "code",
   "execution_count": 10,
   "metadata": {},
   "outputs": [
    {
     "data": {
      "text/plain": [
       "<ZipDataset shapes: ((28, 28), ()), types: (tf.float64, tf.uint8)>"
      ]
     },
     "execution_count": 10,
     "metadata": {},
     "output_type": "execute_result"
    }
   ],
   "source": [
    "train_dataset"
   ]
  },
  {
   "cell_type": "code",
   "execution_count": 11,
   "metadata": {},
   "outputs": [
    {
     "name": "stdout",
     "output_type": "stream",
     "text": [
      "tf.Tensor(5, shape=(), dtype=uint8)\n",
      "tf.Tensor(0, shape=(), dtype=uint8)\n"
     ]
    },
    {
     "data": {
      "image/png": "[encoded data removed]",
      "text/plain": [
       "<Figure size 432x288 with 1 Axes>"
      ]
     },
     "metadata": {
      "needs_background": "light"
     },
     "output_type": "display_data"
    }
   ],
   "source": [
    "for data,label in train_dataset.take(2):\n",
    "    plt.imshow(data)\n",
    "    print(label)"
   ]
  },
  {
   "cell_type": "code",
   "execution_count": 12,
   "metadata": {},
   "outputs": [],
   "source": [
    "train_data = train_dataset.shuffle(60000).repeat().batch(64)\n",
    "test_data = test_dataset.repeat().batch(64)"
   ]
  },
  {
   "cell_type": "code",
   "execution_count": 13,
   "metadata": {},
   "outputs": [],
   "source": [
    "model = keras.Sequential([\n",
    "   tf.keras.layers.Flatten(input_shape=(28,28)),\n",
    "    tf.keras.layers.Dense(128,activation='relu'),\n",
    "    tf.keras.layers.Dense(10,activation='softmax')])"
   ]
  },
  {
   "cell_type": "code",
   "execution_count": 14,
   "metadata": {},
   "outputs": [
    {
     "name": "stdout",
     "output_type": "stream",
     "text": [
      "Model: \"sequential\"\n",
      "_________________________________________________________________\n",
      "Layer (type)                 Output Shape              Param #   \n",
      "=================================================================\n",
      "flatten (Flatten)            (None, 784)               0         \n",
      "_________________________________________________________________\n",
      "dense (Dense)                (None, 128)               100480    \n",
      "_________________________________________________________________\n",
      "dense_1 (Dense)              (None, 10)                1290      \n",
      "=================================================================\n",
      "Total params: 101,770\n",
      "Trainable params: 101,770\n",
      "Non-trainable params: 0\n",
      "_________________________________________________________________\n"
     ]
    }
   ],
   "source": [
    "model.summary()"
   ]
  },
  {
   "cell_type": "code",
   "execution_count": 15,
   "metadata": {},
   "outputs": [],
   "source": [
    "#model.compile(optimizer='SGD',loss=keras.losses.CategoricalCrossentropy(),metrics=['sparse_categorical_accuracy'])"
   ]
  },
  {
   "cell_type": "code",
   "execution_count": 16,
   "metadata": {},
   "outputs": [],
   "source": [
    "model.compile(optimizer='adam',loss=tf.keras.losses.SparseCategoricalCrossentropy(from_logits=False),metrics=['sparse_categorical_accuracy'])"
   ]
  },
  {
   "cell_type": "code",
   "execution_count": 17,
   "metadata": {},
   "outputs": [],
   "source": [
    "steps_per_epochs = x_train.shape[0]//64"
   ]
  },
  {
   "cell_type": "code",
   "execution_count": 18,
   "metadata": {},
   "outputs": [
    {
     "name": "stdout",
     "output_type": "stream",
     "text": [
      "Epoch 1/50\n",
      "WARNING:tensorflow:From /usr/local/lib/python3.6/site-packages/tensorflow/python/ops/math_grad.py:1250: add_dispatch_support.<locals>.wrapper (from tensorflow.python.ops.array_ops) is deprecated and will be removed in a future version.\n",
      "Instructions for updating:\n",
      "Use tf.where in 2.0, which has the same broadcast rule as np.where\n",
      "937/937 [==============================] - 7s 7ms/step - loss: 0.3005 - sparse_categorical_accuracy: 0.9156\n",
      "Epoch 2/50\n",
      "937/937 [==============================] - 4s 4ms/step - loss: 0.1392 - sparse_categorical_accuracy: 0.9592\n",
      "Epoch 3/50\n",
      "937/937 [==============================] - 4s 4ms/step - loss: 0.0983 - sparse_categorical_accuracy: 0.9716\n",
      "Epoch 4/50\n",
      "937/937 [==============================] - 4s 4ms/step - loss: 0.0751 - sparse_categorical_accuracy: 0.9774\n",
      "Epoch 5/50\n",
      "937/937 [==============================] - 4s 4ms/step - loss: 0.0591 - sparse_categorical_accuracy: 0.9822\n",
      "Epoch 6/50\n",
      "937/937 [==============================] - 4s 4ms/step - loss: 0.0476 - sparse_categorical_accuracy: 0.9856\n",
      "Epoch 7/50\n",
      "937/937 [==============================] - 4s 4ms/step - loss: 0.0397 - sparse_categorical_accuracy: 0.9884\n",
      "Epoch 8/50\n",
      "937/937 [==============================] - 4s 5ms/step - loss: 0.0334 - sparse_categorical_accuracy: 0.9896\n",
      "Epoch 9/50\n",
      "937/937 [==============================] - 17s 19ms/step - loss: 0.0271 - sparse_categorical_accuracy: 0.9921\n",
      "Epoch 10/50\n",
      "937/937 [==============================] - 21s 22ms/step - loss: 0.0224 - sparse_categorical_accuracy: 0.9938 - val_loss: 0.0737 - val_sparse_categorical_accuracy: 0.9788\n",
      "Epoch 11/50\n",
      "937/937 [==============================] - 4s 4ms/step - loss: 0.0192 - sparse_categorical_accuracy: 0.9944\n",
      "Epoch 12/50\n",
      "937/937 [==============================] - 4s 4ms/step - loss: 0.0158 - sparse_categorical_accuracy: 0.9960\n",
      "Epoch 13/50\n",
      "937/937 [==============================] - 4s 5ms/step - loss: 0.0132 - sparse_categorical_accuracy: 0.9964\n",
      "Epoch 14/50\n",
      "937/937 [==============================] - 4s 4ms/step - loss: 0.0116 - sparse_categorical_accuracy: 0.9970\n",
      "Epoch 15/50\n",
      "937/937 [==============================] - 5s 5ms/step - loss: 0.0103 - sparse_categorical_accuracy: 0.9972\n",
      "Epoch 16/50\n",
      "937/937 [==============================] - 4s 4ms/step - loss: 0.0091 - sparse_categorical_accuracy: 0.9976\n",
      "Epoch 17/50\n",
      "937/937 [==============================] - 4s 4ms/step - loss: 0.0071 - sparse_categorical_accuracy: 0.9984\n",
      "Epoch 18/50\n",
      "937/937 [==============================] - 4s 4ms/step - loss: 0.0074 - sparse_categorical_accuracy: 0.9980\n",
      "Epoch 19/50\n",
      "937/937 [==============================] - 4s 4ms/step - loss: 0.0055 - sparse_categorical_accuracy: 0.9987\n",
      "Epoch 20/50\n",
      "937/937 [==============================] - 6s 6ms/step - loss: 0.0065 - sparse_categorical_accuracy: 0.9984 - val_loss: 0.0988 - val_sparse_categorical_accuracy: 0.9772\n",
      "Epoch 21/50\n",
      "937/937 [==============================] - 5s 5ms/step - loss: 0.0070 - sparse_categorical_accuracy: 0.9980\n",
      "Epoch 22/50\n",
      "937/937 [==============================] - 4s 5ms/step - loss: 0.0042 - sparse_categorical_accuracy: 0.9990\n",
      "Epoch 23/50\n",
      "937/937 [==============================] - 4s 5ms/step - loss: 0.0055 - sparse_categorical_accuracy: 0.9986\n",
      "Epoch 24/50\n",
      "937/937 [==============================] - 4s 4ms/step - loss: 0.0025 - sparse_categorical_accuracy: 0.9996\n",
      "Epoch 25/50\n",
      "937/937 [==============================] - 4s 4ms/step - loss: 0.0050 - sparse_categorical_accuracy: 0.9987\n",
      "Epoch 26/50\n",
      "937/937 [==============================] - 4s 5ms/step - loss: 0.0046 - sparse_categorical_accuracy: 0.9988\n",
      "Epoch 27/50\n",
      "937/937 [==============================] - 4s 4ms/step - loss: 0.0037 - sparse_categorical_accuracy: 0.9989\n",
      "Epoch 28/50\n",
      "937/937 [==============================] - 4s 4ms/step - loss: 0.0023 - sparse_categorical_accuracy: 0.9994\n",
      "Epoch 29/50\n",
      "937/937 [==============================] - 4s 4ms/step - loss: 0.0026 - sparse_categorical_accuracy: 0.9993\n",
      "Epoch 30/50\n",
      "937/937 [==============================] - 4s 5ms/step - loss: 0.0047 - sparse_categorical_accuracy: 0.9986 - val_loss: 0.1057 - val_sparse_categorical_accuracy: 0.9793\n",
      "Epoch 31/50\n",
      "937/937 [==============================] - 4s 4ms/step - loss: 0.0041 - sparse_categorical_accuracy: 0.9988\n",
      "Epoch 32/50\n",
      "937/937 [==============================] - 4s 4ms/step - loss: 0.0026 - sparse_categorical_accuracy: 0.9993\n",
      "Epoch 33/50\n",
      "937/937 [==============================] - 4s 4ms/step - loss: 5.8073e-04 - sparse_categorical_accuracy: 1.0000\n",
      "Epoch 34/50\n",
      "937/937 [==============================] - 4s 4ms/step - loss: 2.1856e-04 - sparse_categorical_accuracy: 1.0000\n",
      "Epoch 35/50\n",
      "937/937 [==============================] - 4s 4ms/step - loss: 1.7948e-04 - sparse_categorical_accuracy: 1.0000\n",
      "Epoch 36/50\n",
      "937/937 [==============================] - 4s 5ms/step - loss: 1.4724e-04 - sparse_categorical_accuracy: 1.0000\n",
      "Epoch 37/50\n",
      "937/937 [==============================] - 4s 4ms/step - loss: 0.0102 - sparse_categorical_accuracy: 0.9968\n",
      "Epoch 38/50\n",
      "937/937 [==============================] - 4s 4ms/step - loss: 0.0028 - sparse_categorical_accuracy: 0.9991\n",
      "Epoch 39/50\n",
      "937/937 [==============================] - 4s 4ms/step - loss: 6.3082e-04 - sparse_categorical_accuracy: 0.9999\n",
      "Epoch 40/50\n",
      "937/937 [==============================] - 4s 4ms/step - loss: 1.6757e-04 - sparse_categorical_accuracy: 1.0000 - val_loss: 0.1035 - val_sparse_categorical_accuracy: 0.9821\n",
      "Epoch 41/50\n",
      "937/937 [==============================] - 4s 4ms/step - loss: 1.2183e-04 - sparse_categorical_accuracy: 1.0000\n",
      "Epoch 42/50\n",
      "937/937 [==============================] - 4s 4ms/step - loss: 1.0010e-04 - sparse_categorical_accuracy: 1.0000\n",
      "Epoch 43/50\n",
      "937/937 [==============================] - 4s 4ms/step - loss: 8.9347e-05 - sparse_categorical_accuracy: 1.0000\n",
      "Epoch 44/50\n",
      "937/937 [==============================] - 4s 4ms/step - loss: 0.0126 - sparse_categorical_accuracy: 0.9966\n",
      "Epoch 45/50\n",
      "937/937 [==============================] - 4s 4ms/step - loss: 0.0018 - sparse_categorical_accuracy: 0.9996\n",
      "Epoch 46/50\n",
      "937/937 [==============================] - 4s 4ms/step - loss: 4.2280e-04 - sparse_categorical_accuracy: 1.0000\n",
      "Epoch 47/50\n",
      "937/937 [==============================] - 4s 4ms/step - loss: 1.1892e-04 - sparse_categorical_accuracy: 1.0000\n",
      "Epoch 48/50\n",
      "937/937 [==============================] - 4s 4ms/step - loss: 8.3977e-05 - sparse_categorical_accuracy: 1.0000\n",
      "Epoch 49/50\n",
      "937/937 [==============================] - 4s 4ms/step - loss: 6.7937e-05 - sparse_categorical_accuracy: 1.0000\n",
      "Epoch 50/50\n",
      "937/937 [==============================] - 4s 5ms/step - loss: 6.0863e-05 - sparse_categorical_accuracy: 1.0000 - val_loss: 0.1085 - val_sparse_categorical_accuracy: 0.9808\n"
     ]
    },
    {
     "data": {
      "text/plain": [
       "<tensorflow.python.keras.callbacks.History at 0x7f3c426f0da0>"
      ]
     },
     "execution_count": 18,
     "metadata": {},
     "output_type": "execute_result"
    }
   ],
   "source": [
    "model.fit(train_data,\n",
    "          epochs=50,\n",
    "          steps_per_epoch=steps_per_epochs,\n",
    "          validation_data=test_data,\n",
    "          validation_steps=10000//64,\n",
    "            validation_freq=10\n",
    "         \n",
    "         )"
   ]
  },
  {
   "cell_type": "code",
   "execution_count": 19,
   "metadata": {},
   "outputs": [
    {
     "name": "stdout",
     "output_type": "stream",
     "text": [
      "(<tf.Tensor: id=524021, shape=(64, 28, 28), dtype=float64, numpy=\n",
      "array([[[0., 0., 0., ..., 0., 0., 0.],\n",
      "        [0., 0., 0., ..., 0., 0., 0.],\n",
      "        [0., 0., 0., ..., 0., 0., 0.],\n",
      "        ...,\n",
      "        [0., 0., 0., ..., 0., 0., 0.],\n",
      "        [0., 0., 0., ..., 0., 0., 0.],\n",
      "        [0., 0., 0., ..., 0., 0., 0.]],\n",
      "\n",
      "       [[0., 0., 0., ..., 0., 0., 0.],\n",
      "        [0., 0., 0., ..., 0., 0., 0.],\n",
      "        [0., 0., 0., ..., 0., 0., 0.],\n",
      "        ...,\n",
      "        [0., 0., 0., ..., 0., 0., 0.],\n",
      "        [0., 0., 0., ..., 0., 0., 0.],\n",
      "        [0., 0., 0., ..., 0., 0., 0.]],\n",
      "\n",
      "       [[0., 0., 0., ..., 0., 0., 0.],\n",
      "        [0., 0., 0., ..., 0., 0., 0.],\n",
      "        [0., 0., 0., ..., 0., 0., 0.],\n",
      "        ...,\n",
      "        [0., 0., 0., ..., 0., 0., 0.],\n",
      "        [0., 0., 0., ..., 0., 0., 0.],\n",
      "        [0., 0., 0., ..., 0., 0., 0.]],\n",
      "\n",
      "       ...,\n",
      "\n",
      "       [[0., 0., 0., ..., 0., 0., 0.],\n",
      "        [0., 0., 0., ..., 0., 0., 0.],\n",
      "        [0., 0., 0., ..., 0., 0., 0.],\n",
      "        ...,\n",
      "        [0., 0., 0., ..., 0., 0., 0.],\n",
      "        [0., 0., 0., ..., 0., 0., 0.],\n",
      "        [0., 0., 0., ..., 0., 0., 0.]],\n",
      "\n",
      "       [[0., 0., 0., ..., 0., 0., 0.],\n",
      "        [0., 0., 0., ..., 0., 0., 0.],\n",
      "        [0., 0., 0., ..., 0., 0., 0.],\n",
      "        ...,\n",
      "        [0., 0., 0., ..., 0., 0., 0.],\n",
      "        [0., 0., 0., ..., 0., 0., 0.],\n",
      "        [0., 0., 0., ..., 0., 0., 0.]],\n",
      "\n",
      "       [[0., 0., 0., ..., 0., 0., 0.],\n",
      "        [0., 0., 0., ..., 0., 0., 0.],\n",
      "        [0., 0., 0., ..., 0., 0., 0.],\n",
      "        ...,\n",
      "        [0., 0., 0., ..., 0., 0., 0.],\n",
      "        [0., 0., 0., ..., 0., 0., 0.],\n",
      "        [0., 0., 0., ..., 0., 0., 0.]]])>, <tf.Tensor: id=524022, shape=(64,), dtype=uint8, numpy=\n",
      "array([4, 3, 8, 2, 5, 3, 6, 2, 7, 7, 6, 9, 1, 6, 5, 9, 0, 8, 7, 8, 4, 9,\n",
      "       0, 4, 5, 5, 7, 3, 7, 8, 6, 0, 7, 2, 0, 0, 3, 0, 8, 4, 7, 9, 0, 2,\n",
      "       5, 0, 8, 2, 7, 1, 1, 2, 7, 3, 0, 2, 8, 9, 1, 5, 0, 2, 0, 1],\n",
      "      dtype=uint8)>)\n"
     ]
    }
   ],
   "source": [
    "for i in train_data.take(1):\n",
    "    print(i)"
   ]
  },
  {
   "cell_type": "code",
   "execution_count": null,
   "metadata": {},
   "outputs": [],
   "source": []
  },
  {
   "cell_type": "code",
   "execution_count": null,
   "metadata": {},
   "outputs": [],
   "source": []
  }
 ],
 "metadata": {
  "kernelspec": {
   "display_name": "Python 3",
   "language": "python",
   "name": "python3"
  },
  "language_info": {
   "codemirror_mode": {
    "name": "ipython",
    "version": 3
   },
   "file_extension": ".py",
   "mimetype": "text/x-python",
   "name": "python",
   "nbconvert_exporter": "python",
   "pygments_lexer": "ipython3",
   "version": "3.6.8"
  }
 },
 "nbformat": 4,
 "nbformat_minor": 2
}
