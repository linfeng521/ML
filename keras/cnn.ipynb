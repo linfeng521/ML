{
 "cells": [
  {
   "cell_type": "code",
   "execution_count": 42,
   "metadata": {},
   "outputs": [],
   "source": [
    "import keras\n",
    "import numpy as np\n",
    "from keras.models import Sequential\n",
    "from keras.layers import Dense,Activation,Conv2D\n",
    "from keras.layers import MaxPool2D #池化层;下采样,最大值\n",
    "import tensorflow as tf"
   ]
  },
  {
   "cell_type": "code",
   "execution_count": 11,
   "metadata": {},
   "outputs": [],
   "source": [
    "import matplotlib.pyplot as plt\n",
    "%matplotlib inline"
   ]
  },
  {
   "cell_type": "code",
   "execution_count": 12,
   "metadata": {},
   "outputs": [],
   "source": [
    "from keras.datasets import fashion_mnist"
   ]
  },
  {
   "cell_type": "code",
   "execution_count": 37,
   "metadata": {},
   "outputs": [],
   "source": [
    "(x_train, y_train), (x_test, y_test) = fashion_mnist.load_data()"
   ]
  },
  {
   "cell_type": "code",
   "execution_count": 17,
   "metadata": {},
   "outputs": [
    {
     "data": {
      "text/plain": [
       "((60000, 28, 28), (10000, 28, 28))"
      ]
     },
     "execution_count": 17,
     "metadata": {},
     "output_type": "execute_result"
    }
   ],
   "source": [
    "x_train.shape,x_test.shape"
   ]
  },
  {
   "cell_type": "code",
   "execution_count": 19,
   "metadata": {},
   "outputs": [
    {
     "data": {
      "text/plain": [
       "((60000,), (10000,))"
      ]
     },
     "execution_count": 19,
     "metadata": {},
     "output_type": "execute_result"
    }
   ],
   "source": [
    "y_train.shape,y_test.shape"
   ]
  },
  {
   "cell_type": "code",
   "execution_count": 26,
   "metadata": {
    "scrolled": true
   },
   "outputs": [
    {
     "data": {
      "text/plain": [
       "Text(0.5, 1.0, 'this is 0')"
      ]
     },
     "execution_count": 26,
     "metadata": {},
     "output_type": "execute_result"
    },
    {
     "data": {
      "image/png": "[encoded data removed]",
      "text/plain": [
       "<Figure size 432x288 with 1 Axes>"
      ]
     },
     "metadata": {
      "needs_background": "light"
     },
     "output_type": "display_data"
    }
   ],
   "source": [
    "plt.imshow(x_train[1])\n",
    "plt.title('this is ' + str(y_train[1]))"
   ]
  },
  {
   "cell_type": "code",
   "execution_count": 28,
   "metadata": {},
   "outputs": [
    {
     "data": {
      "text/plain": [
       "0"
      ]
     },
     "execution_count": 28,
     "metadata": {},
     "output_type": "execute_result"
    }
   ],
   "source": [
    "y_train[1] # T-shit"
   ]
  },
  {
   "cell_type": "code",
   "execution_count": 38,
   "metadata": {},
   "outputs": [],
   "source": [
    "x_train = np.expand_dims(x_train,-1) # 拓展维度"
   ]
  },
  {
   "cell_type": "code",
   "execution_count": 39,
   "metadata": {},
   "outputs": [
    {
     "data": {
      "text/plain": [
       "(60000, 28, 28, 1)"
      ]
     },
     "execution_count": 39,
     "metadata": {},
     "output_type": "execute_result"
    }
   ],
   "source": [
    "x_train.shape # 图像宽,高, 通道数(rgb)"
   ]
  },
  {
   "cell_type": "code",
   "execution_count": 41,
   "metadata": {},
   "outputs": [
    {
     "data": {
      "text/plain": [
       "(10000, 28, 28, 1)"
      ]
     },
     "execution_count": 41,
     "metadata": {},
     "output_type": "execute_result"
    }
   ],
   "source": [
    "x_test = np.expand_dims(x_test,-1)\n",
    "x_test.shape"
   ]
  },
  {
   "cell_type": "code",
   "execution_count": 43,
   "metadata": {},
   "outputs": [],
   "source": [
    "model = keras.Sequential()"
   ]
  },
  {
   "cell_type": "code",
   "execution_count": 44,
   "metadata": {},
   "outputs": [],
   "source": [
    "model.add(Conv2D(32,(3,3),input_shape=x_test.shape[1:],activation='relu'))"
   ]
  },
  {
   "cell_type": "code",
   "execution_count": 45,
   "metadata": {},
   "outputs": [],
   "source": [
    "model.add(MaxPool2D()) # 28*28 -> 14*14"
   ]
  },
  {
   "cell_type": "code",
   "execution_count": 46,
   "metadata": {},
   "outputs": [],
   "source": [
    "model.add(Conv2D(32,(3,3),activation='relu'))\n",
    "model.add(keras.layers.GlobalAveragePooling2D())\n",
    "model.add(Dense(10,activation='softmax'))"
   ]
  },
  {
   "cell_type": "code",
   "execution_count": 47,
   "metadata": {},
   "outputs": [
    {
     "name": "stdout",
     "output_type": "stream",
     "text": [
      "Model: \"sequential_1\"\n",
      "_________________________________________________________________\n",
      "Layer (type)                 Output Shape              Param #   \n",
      "=================================================================\n",
      "conv2d_1 (Conv2D)            (None, 26, 26, 32)        320       \n",
      "_________________________________________________________________\n",
      "max_pooling2d_1 (MaxPooling2 (None, 13, 13, 32)        0         \n",
      "_________________________________________________________________\n",
      "conv2d_2 (Conv2D)            (None, 11, 11, 32)        9248      \n",
      "_________________________________________________________________\n",
      "global_average_pooling2d_1 ( (None, 32)                0         \n",
      "_________________________________________________________________\n",
      "dense_1 (Dense)              (None, 10)                330       \n",
      "=================================================================\n",
      "Total params: 9,898\n",
      "Trainable params: 9,898\n",
      "Non-trainable params: 0\n",
      "_________________________________________________________________\n"
     ]
    }
   ],
   "source": [
    "model.summary()"
   ]
  },
  {
   "cell_type": "code",
   "execution_count": 48,
   "metadata": {},
   "outputs": [
    {
     "data": {
      "text/plain": [
       "(None, 10)"
      ]
     },
     "execution_count": 48,
     "metadata": {},
     "output_type": "execute_result"
    }
   ],
   "source": [
    "model.output_shape"
   ]
  },
  {
   "cell_type": "code",
   "execution_count": 49,
   "metadata": {},
   "outputs": [],
   "source": [
    "model.compile(optimizer='adam',loss='sparse_categorical_crossentropy',metrics=['acc'])"
   ]
  },
  {
   "cell_type": "code",
   "execution_count": 50,
   "metadata": {},
   "outputs": [
    {
     "name": "stdout",
     "output_type": "stream",
     "text": [
      "Train on 60000 samples, validate on 10000 samples\n",
      "Epoch 1/30\n",
      "60000/60000 [==============================] - 44s 740us/step - loss: 0.9113 - acc: 0.7194 - val_loss: 0.5960 - val_acc: 0.7923\n",
      "Epoch 2/30\n",
      "60000/60000 [==============================] - 43s 718us/step - loss: 0.5330 - acc: 0.8164 - val_loss: 0.5658 - val_acc: 0.8005\n",
      "Epoch 3/30\n",
      "60000/60000 [==============================] - 43s 714us/step - loss: 0.4777 - acc: 0.8345 - val_loss: 0.5025 - val_acc: 0.8284\n",
      "Epoch 4/30\n",
      "60000/60000 [==============================] - 43s 713us/step - loss: 0.4374 - acc: 0.8473 - val_loss: 0.4522 - val_acc: 0.8435\n",
      "Epoch 5/30\n",
      "60000/60000 [==============================] - 42s 708us/step - loss: 0.4086 - acc: 0.8577 - val_loss: 0.4510 - val_acc: 0.8381\n",
      "Epoch 6/30\n",
      "60000/60000 [==============================] - 43s 715us/step - loss: 0.3874 - acc: 0.8638 - val_loss: 0.4087 - val_acc: 0.8564\n",
      "Epoch 7/30\n",
      "60000/60000 [==============================] - 43s 711us/step - loss: 0.3695 - acc: 0.8688 - val_loss: 0.3886 - val_acc: 0.8629\n",
      "Epoch 8/30\n",
      "60000/60000 [==============================] - 43s 718us/step - loss: 0.3578 - acc: 0.8729 - val_loss: 0.3826 - val_acc: 0.8663\n",
      "Epoch 9/30\n",
      "60000/60000 [==============================] - 43s 716us/step - loss: 0.3450 - acc: 0.8772 - val_loss: 0.3801 - val_acc: 0.8701\n",
      "Epoch 10/30\n",
      "60000/60000 [==============================] - 43s 714us/step - loss: 0.3341 - acc: 0.8809 - val_loss: 0.3813 - val_acc: 0.8677\n",
      "Epoch 11/30\n",
      "60000/60000 [==============================] - 43s 710us/step - loss: 0.3254 - acc: 0.8836 - val_loss: 0.3616 - val_acc: 0.8752\n",
      "Epoch 12/30\n",
      "60000/60000 [==============================] - 43s 709us/step - loss: 0.3195 - acc: 0.8866 - val_loss: 0.3856 - val_acc: 0.8681\n",
      "Epoch 13/30\n",
      "60000/60000 [==============================] - 43s 715us/step - loss: 0.3079 - acc: 0.8909 - val_loss: 0.3524 - val_acc: 0.8763\n",
      "Epoch 14/30\n",
      "60000/60000 [==============================] - 43s 712us/step - loss: 0.3033 - acc: 0.8913 - val_loss: 0.3678 - val_acc: 0.8724\n",
      "Epoch 15/30\n",
      "60000/60000 [==============================] - 43s 712us/step - loss: 0.3008 - acc: 0.8922 - val_loss: 0.3405 - val_acc: 0.8809\n",
      "Epoch 16/30\n",
      "60000/60000 [==============================] - 43s 713us/step - loss: 0.2925 - acc: 0.8955 - val_loss: 0.3450 - val_acc: 0.8809\n",
      "Epoch 17/30\n",
      "60000/60000 [==============================] - 43s 714us/step - loss: 0.2880 - acc: 0.8968 - val_loss: 0.3581 - val_acc: 0.8732\n",
      "Epoch 18/30\n",
      "60000/60000 [==============================] - 43s 715us/step - loss: 0.2795 - acc: 0.9003 - val_loss: 0.3280 - val_acc: 0.8851\n",
      "Epoch 19/30\n",
      "60000/60000 [==============================] - 43s 713us/step - loss: 0.2790 - acc: 0.9010 - val_loss: 0.3480 - val_acc: 0.8779\n",
      "Epoch 20/30\n",
      "60000/60000 [==============================] - 43s 717us/step - loss: 0.2754 - acc: 0.9013 - val_loss: 0.3357 - val_acc: 0.8838\n",
      "Epoch 21/30\n",
      "60000/60000 [==============================] - 43s 715us/step - loss: 0.2698 - acc: 0.9031 - val_loss: 0.3497 - val_acc: 0.8810\n",
      "Epoch 22/30\n",
      "60000/60000 [==============================] - 43s 714us/step - loss: 0.2677 - acc: 0.9038 - val_loss: 0.3396 - val_acc: 0.8855\n",
      "Epoch 23/30\n",
      "60000/60000 [==============================] - 43s 718us/step - loss: 0.2666 - acc: 0.9041 - val_loss: 0.3497 - val_acc: 0.8792\n",
      "Epoch 24/30\n",
      "60000/60000 [==============================] - 43s 715us/step - loss: 0.2612 - acc: 0.9067 - val_loss: 0.3301 - val_acc: 0.8854\n",
      "Epoch 25/30\n",
      "60000/60000 [==============================] - 43s 711us/step - loss: 0.2579 - acc: 0.9081 - val_loss: 0.3497 - val_acc: 0.8788\n",
      "Epoch 26/30\n",
      "60000/60000 [==============================] - 43s 710us/step - loss: 0.2574 - acc: 0.9084 - val_loss: 0.3238 - val_acc: 0.8917\n",
      "Epoch 27/30\n",
      "60000/60000 [==============================] - 43s 712us/step - loss: 0.2541 - acc: 0.9090 - val_loss: 0.3435 - val_acc: 0.8834\n",
      "Epoch 28/30\n",
      "60000/60000 [==============================] - 43s 717us/step - loss: 0.2514 - acc: 0.9097 - val_loss: 0.3298 - val_acc: 0.8859\n",
      "Epoch 29/30\n",
      "60000/60000 [==============================] - 43s 710us/step - loss: 0.2475 - acc: 0.9118 - val_loss: 0.3452 - val_acc: 0.8812\n",
      "Epoch 30/30\n",
      "60000/60000 [==============================] - 43s 709us/step - loss: 0.2454 - acc: 0.9114 - val_loss: 0.3396 - val_acc: 0.8836\n"
     ]
    }
   ],
   "source": [
    "history = model.fit(x_train,y_train,epochs=30,validation_data=(x_test,y_test))"
   ]
  },
  {
   "cell_type": "code",
   "execution_count": 51,
   "metadata": {},
   "outputs": [
    {
     "data": {
      "text/plain": [
       "dict_keys(['val_loss', 'val_acc', 'loss', 'acc'])"
      ]
     },
     "execution_count": 51,
     "metadata": {},
     "output_type": "execute_result"
    }
   ],
   "source": [
    "history.history.keys()"
   ]
  },
  {
   "cell_type": "code",
   "execution_count": 54,
   "metadata": {},
   "outputs": [
    {
     "data": {
      "text/plain": [
       "[<matplotlib.lines.Line2D at 0x7fa56c4e3ef0>]"
      ]
     },
     "execution_count": 54,
     "metadata": {},
     "output_type": "execute_result"
    },
    {
     "data": {
      "image/png": "[encoded data removed]",
      "text/plain": [
       "<Figure size 432x288 with 1 Axes>"
      ]
     },
     "metadata": {
      "needs_background": "light"
     },
     "output_type": "display_data"
    }
   ],
   "source": [
    "plt.plot(history.epoch,history.history.get('acc'),label='acc')\n",
    "plt.plot(history.epoch,history.history.get('val_acc'),label='val_acc')"
   ]
  },
  {
   "cell_type": "code",
   "execution_count": null,
   "metadata": {},
   "outputs": [],
   "source": []
  }
 ],
 "metadata": {
  "kernelspec": {
   "display_name": "Python 3",
   "language": "python",
   "name": "python3"
  },
  "language_info": {
   "codemirror_mode": {
    "name": "ipython",
    "version": 3
   },
   "file_extension": ".py",
   "mimetype": "text/x-python",
   "name": "python",
   "nbconvert_exporter": "python",
   "pygments_lexer": "ipython3",
   "version": "3.6.8"
  }
 },
 "nbformat": 4,
 "nbformat_minor": 2
}
