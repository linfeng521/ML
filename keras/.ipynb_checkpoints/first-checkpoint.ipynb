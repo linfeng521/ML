{
 "cells": [
  {
   "cell_type": "code",
   "execution_count": 1,
   "metadata": {},
   "outputs": [
    {
     "name": "stderr",
     "output_type": "stream",
     "text": [
      "Using TensorFlow backend.\n"
     ]
    }
   ],
   "source": [
    "import keras"
   ]
  },
  {
   "cell_type": "code",
   "execution_count": 2,
   "metadata": {},
   "outputs": [],
   "source": [
    "from keras.models import Sequential\n",
    "from keras.layers import Dense\n",
    "from keras.layers import Activation"
   ]
  },
  {
   "cell_type": "code",
   "execution_count": 3,
   "metadata": {},
   "outputs": [],
   "source": [
    "model = Sequential()\n",
    "model.add(Dense(32,input_shape=(16,)))\n",
    "model.add(Dense(32))"
   ]
  },
  {
   "cell_type": "code",
   "execution_count": 4,
   "metadata": {},
   "outputs": [
    {
     "name": "stdout",
     "output_type": "stream",
     "text": [
      "Model: \"sequential_1\"\n",
      "_________________________________________________________________\n",
      "Layer (type)                 Output Shape              Param #   \n",
      "=================================================================\n",
      "dense_1 (Dense)              (None, 32)                544       \n",
      "_________________________________________________________________\n",
      "dense_2 (Dense)              (None, 32)                1056      \n",
      "=================================================================\n",
      "Total params: 1,600\n",
      "Trainable params: 1,600\n",
      "Non-trainable params: 0\n",
      "_________________________________________________________________\n"
     ]
    }
   ],
   "source": [
    "model.summary()"
   ]
  },
  {
   "cell_type": "code",
   "execution_count": 5,
   "metadata": {},
   "outputs": [],
   "source": [
    "model.add(Activation('relu'))"
   ]
  },
  {
   "cell_type": "code",
   "execution_count": 6,
   "metadata": {},
   "outputs": [
    {
     "name": "stdout",
     "output_type": "stream",
     "text": [
      "Model: \"sequential_1\"\n",
      "_________________________________________________________________\n",
      "Layer (type)                 Output Shape              Param #   \n",
      "=================================================================\n",
      "dense_1 (Dense)              (None, 32)                544       \n",
      "_________________________________________________________________\n",
      "dense_2 (Dense)              (None, 32)                1056      \n",
      "_________________________________________________________________\n",
      "activation_1 (Activation)    (None, 32)                0         \n",
      "=================================================================\n",
      "Total params: 1,600\n",
      "Trainable params: 1,600\n",
      "Non-trainable params: 0\n",
      "_________________________________________________________________\n"
     ]
    }
   ],
   "source": [
    "model.summary()"
   ]
  },
  {
   "cell_type": "code",
   "execution_count": 7,
   "metadata": {},
   "outputs": [],
   "source": [
    "model.compile(optimizer='rmsprop',loss='mse',metrics=['accuracy'])"
   ]
  },
  {
   "cell_type": "code",
   "execution_count": 8,
   "metadata": {},
   "outputs": [
    {
     "data": {
      "text/plain": [
       "((1000, 100), (1000, 1))"
      ]
     },
     "execution_count": 8,
     "metadata": {},
     "output_type": "execute_result"
    }
   ],
   "source": [
    "# 生成虚拟数据\n",
    "import numpy as np\n",
    "data = np.random.random((1000, 100))\n",
    "labels = np.random.randint(2, size=(1000, 1))\n",
    "data.shape,labels.shape"
   ]
  },
  {
   "cell_type": "code",
   "execution_count": 9,
   "metadata": {},
   "outputs": [
    {
     "name": "stdout",
     "output_type": "stream",
     "text": [
      "WARNING:tensorflow:From /usr/local/lib/python3.6/site-packages/tensorflow/python/ops/nn_impl.py:182: add_dispatch_support.<locals>.wrapper (from tensorflow.python.ops.array_ops) is deprecated and will be removed in a future version.\n",
      "Instructions for updating:\n",
      "Use tf.where in 2.0, which has the same broadcast rule as np.where\n",
      "Epoch 1/100\n",
      "1000/1000 [==============================] - 1s 1ms/step - loss: 0.7136 - accuracy: 0.4730\n",
      "Epoch 2/100\n",
      "1000/1000 [==============================] - 0s 169us/step - loss: 0.7016 - accuracy: 0.5030\n",
      "Epoch 3/100\n",
      "1000/1000 [==============================] - 0s 157us/step - loss: 0.6985 - accuracy: 0.5080\n",
      "Epoch 4/100\n",
      "1000/1000 [==============================] - 0s 142us/step - loss: 0.6915 - accuracy: 0.5480\n",
      "Epoch 5/100\n",
      "1000/1000 [==============================] - 0s 162us/step - loss: 0.6859 - accuracy: 0.5510\n",
      "Epoch 6/100\n",
      "1000/1000 [==============================] - 0s 432us/step - loss: 0.6801 - accuracy: 0.5790\n",
      "Epoch 7/100\n",
      "1000/1000 [==============================] - 0s 144us/step - loss: 0.6798 - accuracy: 0.5740\n",
      "Epoch 8/100\n",
      "1000/1000 [==============================] - 0s 123us/step - loss: 0.6760 - accuracy: 0.5920\n",
      "Epoch 9/100\n",
      "1000/1000 [==============================] - 0s 138us/step - loss: 0.6722 - accuracy: 0.6060\n",
      "Epoch 10/100\n",
      "1000/1000 [==============================] - 0s 142us/step - loss: 0.6675 - accuracy: 0.6040\n",
      "Epoch 11/100\n",
      "1000/1000 [==============================] - 0s 139us/step - loss: 0.6638 - accuracy: 0.6140\n",
      "Epoch 12/100\n",
      "1000/1000 [==============================] - 0s 251us/step - loss: 0.6588 - accuracy: 0.6180\n",
      "Epoch 13/100\n",
      "1000/1000 [==============================] - 0s 155us/step - loss: 0.6563 - accuracy: 0.6230\n",
      "Epoch 14/100\n",
      "1000/1000 [==============================] - 0s 175us/step - loss: 0.6554 - accuracy: 0.6310\n",
      "Epoch 15/100\n",
      "1000/1000 [==============================] - 0s 191us/step - loss: 0.6483 - accuracy: 0.6620\n",
      "Epoch 16/100\n",
      "1000/1000 [==============================] - 0s 204us/step - loss: 0.6455 - accuracy: 0.6350\n",
      "Epoch 17/100\n",
      "1000/1000 [==============================] - 0s 182us/step - loss: 0.6460 - accuracy: 0.6410\n",
      "Epoch 18/100\n",
      "1000/1000 [==============================] - 0s 183us/step - loss: 0.6393 - accuracy: 0.6610\n",
      "Epoch 19/100\n",
      "1000/1000 [==============================] - 0s 191us/step - loss: 0.6350 - accuracy: 0.6550\n",
      "Epoch 20/100\n",
      "1000/1000 [==============================] - 0s 161us/step - loss: 0.6380 - accuracy: 0.6510\n",
      "Epoch 21/100\n",
      "1000/1000 [==============================] - 0s 200us/step - loss: 0.6304 - accuracy: 0.6650\n",
      "Epoch 22/100\n",
      "1000/1000 [==============================] - 0s 228us/step - loss: 0.6283 - accuracy: 0.6650\n",
      "Epoch 23/100\n",
      "1000/1000 [==============================] - 0s 174us/step - loss: 0.6231 - accuracy: 0.6740\n",
      "Epoch 24/100\n",
      "1000/1000 [==============================] - 0s 196us/step - loss: 0.6210 - accuracy: 0.6840\n",
      "Epoch 25/100\n",
      "1000/1000 [==============================] - 0s 231us/step - loss: 0.6187 - accuracy: 0.6820\n",
      "Epoch 26/100\n",
      "1000/1000 [==============================] - 0s 224us/step - loss: 0.6147 - accuracy: 0.6790\n",
      "Epoch 27/100\n",
      "1000/1000 [==============================] - 0s 181us/step - loss: 0.6138 - accuracy: 0.6910\n",
      "Epoch 28/100\n",
      "1000/1000 [==============================] - 0s 200us/step - loss: 0.6089 - accuracy: 0.6910\n",
      "Epoch 29/100\n",
      "1000/1000 [==============================] - 0s 169us/step - loss: 0.6048 - accuracy: 0.6990\n",
      "Epoch 30/100\n",
      "1000/1000 [==============================] - 0s 306us/step - loss: 0.6043 - accuracy: 0.6930\n",
      "Epoch 31/100\n",
      "1000/1000 [==============================] - 1s 521us/step - loss: 0.5951 - accuracy: 0.7060\n",
      "Epoch 32/100\n",
      "1000/1000 [==============================] - 0s 446us/step - loss: 0.5927 - accuracy: 0.6950\n",
      "Epoch 33/100\n",
      "1000/1000 [==============================] - 0s 262us/step - loss: 0.5927 - accuracy: 0.7060\n",
      "Epoch 34/100\n",
      "1000/1000 [==============================] - 0s 213us/step - loss: 0.5883 - accuracy: 0.7060\n",
      "Epoch 35/100\n",
      "1000/1000 [==============================] - 0s 160us/step - loss: 0.5799 - accuracy: 0.7190\n",
      "Epoch 36/100\n",
      "1000/1000 [==============================] - 0s 171us/step - loss: 0.5779 - accuracy: 0.7290\n",
      "Epoch 37/100\n",
      "1000/1000 [==============================] - 0s 175us/step - loss: 0.5761 - accuracy: 0.7250\n",
      "Epoch 38/100\n",
      "1000/1000 [==============================] - 0s 199us/step - loss: 0.5715 - accuracy: 0.7260\n",
      "Epoch 39/100\n",
      "1000/1000 [==============================] - 0s 191us/step - loss: 0.5703 - accuracy: 0.7250\n",
      "Epoch 40/100\n",
      "1000/1000 [==============================] - 0s 166us/step - loss: 0.5659 - accuracy: 0.7310\n",
      "Epoch 41/100\n",
      "1000/1000 [==============================] - 0s 176us/step - loss: 0.5611 - accuracy: 0.7250\n",
      "Epoch 42/100\n",
      "1000/1000 [==============================] - 0s 195us/step - loss: 0.5564 - accuracy: 0.7320\n",
      "Epoch 43/100\n",
      "1000/1000 [==============================] - 0s 225us/step - loss: 0.5547 - accuracy: 0.7390\n",
      "Epoch 44/100\n",
      "1000/1000 [==============================] - 0s 194us/step - loss: 0.5529 - accuracy: 0.7410\n",
      "Epoch 45/100\n",
      "1000/1000 [==============================] - 0s 195us/step - loss: 0.5455 - accuracy: 0.7510\n",
      "Epoch 46/100\n",
      "1000/1000 [==============================] - 0s 190us/step - loss: 0.5435 - accuracy: 0.7550\n",
      "Epoch 47/100\n",
      "1000/1000 [==============================] - 0s 172us/step - loss: 0.5390 - accuracy: 0.7550\n",
      "Epoch 48/100\n",
      "1000/1000 [==============================] - 0s 185us/step - loss: 0.5387 - accuracy: 0.7430\n",
      "Epoch 49/100\n",
      "1000/1000 [==============================] - 0s 174us/step - loss: 0.5313 - accuracy: 0.7600\n",
      "Epoch 50/100\n",
      "1000/1000 [==============================] - 0s 149us/step - loss: 0.5244 - accuracy: 0.7650\n",
      "Epoch 51/100\n",
      "1000/1000 [==============================] - 0s 182us/step - loss: 0.5235 - accuracy: 0.7600\n",
      "Epoch 52/100\n",
      "1000/1000 [==============================] - 0s 191us/step - loss: 0.5201 - accuracy: 0.7750\n",
      "Epoch 53/100\n",
      "1000/1000 [==============================] - 0s 178us/step - loss: 0.5157 - accuracy: 0.7700\n",
      "Epoch 54/100\n",
      "1000/1000 [==============================] - 0s 160us/step - loss: 0.5120 - accuracy: 0.7680\n",
      "Epoch 55/100\n",
      "1000/1000 [==============================] - 0s 155us/step - loss: 0.5045 - accuracy: 0.7810\n",
      "Epoch 56/100\n",
      "1000/1000 [==============================] - ETA: 0s - loss: 0.5049 - accuracy: 0.78 - 0s 152us/step - loss: 0.5059 - accuracy: 0.7850\n",
      "Epoch 57/100\n",
      "1000/1000 [==============================] - 0s 147us/step - loss: 0.4979 - accuracy: 0.7860\n",
      "Epoch 58/100\n",
      "1000/1000 [==============================] - 0s 179us/step - loss: 0.4968 - accuracy: 0.7930\n",
      "Epoch 59/100\n",
      "1000/1000 [==============================] - 0s 160us/step - loss: 0.4926 - accuracy: 0.8010\n",
      "Epoch 60/100\n",
      "1000/1000 [==============================] - 0s 158us/step - loss: 0.4896 - accuracy: 0.7800\n",
      "Epoch 61/100\n",
      "1000/1000 [==============================] - 0s 172us/step - loss: 0.4834 - accuracy: 0.7970\n",
      "Epoch 62/100\n",
      "1000/1000 [==============================] - 0s 169us/step - loss: 0.4823 - accuracy: 0.7990\n",
      "Epoch 63/100\n",
      "1000/1000 [==============================] - 0s 160us/step - loss: 0.4749 - accuracy: 0.8130\n",
      "Epoch 64/100\n",
      "1000/1000 [==============================] - 0s 320us/step - loss: 0.4726 - accuracy: 0.8140\n",
      "Epoch 65/100\n",
      "1000/1000 [==============================] - 1s 516us/step - loss: 0.4671 - accuracy: 0.8170\n",
      "Epoch 66/100\n",
      "1000/1000 [==============================] - 0s 163us/step - loss: 0.4653 - accuracy: 0.8140\n",
      "Epoch 67/100\n",
      "1000/1000 [==============================] - 0s 247us/step - loss: 0.4603 - accuracy: 0.8090\n",
      "Epoch 68/100\n",
      "1000/1000 [==============================] - 0s 229us/step - loss: 0.4549 - accuracy: 0.8190\n",
      "Epoch 69/100\n",
      "1000/1000 [==============================] - 0s 162us/step - loss: 0.4495 - accuracy: 0.8240\n",
      "Epoch 70/100\n",
      "1000/1000 [==============================] - 0s 206us/step - loss: 0.4505 - accuracy: 0.8340\n",
      "Epoch 71/100\n",
      "1000/1000 [==============================] - 0s 186us/step - loss: 0.4401 - accuracy: 0.8370\n",
      "Epoch 72/100\n",
      "1000/1000 [==============================] - 0s 271us/step - loss: 0.4385 - accuracy: 0.8290\n",
      "Epoch 73/100\n",
      "1000/1000 [==============================] - 0s 207us/step - loss: 0.4371 - accuracy: 0.8470\n",
      "Epoch 74/100\n"
     ]
    },
    {
     "name": "stdout",
     "output_type": "stream",
     "text": [
      "1000/1000 [==============================] - 0s 245us/step - loss: 0.4280 - accuracy: 0.8340\n",
      "Epoch 75/100\n",
      "1000/1000 [==============================] - 0s 352us/step - loss: 0.4272 - accuracy: 0.8430\n",
      "Epoch 76/100\n",
      "1000/1000 [==============================] - 0s 226us/step - loss: 0.4203 - accuracy: 0.8540\n",
      "Epoch 77/100\n",
      "1000/1000 [==============================] - 0s 237us/step - loss: 0.4245 - accuracy: 0.8360\n",
      "Epoch 78/100\n",
      "1000/1000 [==============================] - 0s 370us/step - loss: 0.4133 - accuracy: 0.8640\n",
      "Epoch 79/100\n",
      "1000/1000 [==============================] - 0s 263us/step - loss: 0.4094 - accuracy: 0.8600\n",
      "Epoch 80/100\n",
      "1000/1000 [==============================] - 0s 263us/step - loss: 0.4053 - accuracy: 0.8650\n",
      "Epoch 81/100\n",
      "1000/1000 [==============================] - 0s 235us/step - loss: 0.4019 - accuracy: 0.8690\n",
      "Epoch 82/100\n",
      "1000/1000 [==============================] - 0s 149us/step - loss: 0.4008 - accuracy: 0.8670\n",
      "Epoch 83/100\n",
      "1000/1000 [==============================] - 0s 220us/step - loss: 0.4002 - accuracy: 0.8480\n",
      "Epoch 84/100\n",
      "1000/1000 [==============================] - 0s 185us/step - loss: 0.3912 - accuracy: 0.8700\n",
      "Epoch 85/100\n",
      "1000/1000 [==============================] - 0s 265us/step - loss: 0.3882 - accuracy: 0.8830\n",
      "Epoch 86/100\n",
      "1000/1000 [==============================] - 0s 144us/step - loss: 0.3804 - accuracy: 0.8820\n",
      "Epoch 87/100\n",
      "1000/1000 [==============================] - 0s 127us/step - loss: 0.3771 - accuracy: 0.8860\n",
      "Epoch 88/100\n",
      "1000/1000 [==============================] - 0s 165us/step - loss: 0.3755 - accuracy: 0.8860\n",
      "Epoch 89/100\n",
      "1000/1000 [==============================] - 0s 139us/step - loss: 0.3690 - accuracy: 0.8790\n",
      "Epoch 90/100\n",
      "1000/1000 [==============================] - 0s 138us/step - loss: 0.3682 - accuracy: 0.8830\n",
      "Epoch 91/100\n",
      "1000/1000 [==============================] - 0s 163us/step - loss: 0.3623 - accuracy: 0.8870\n",
      "Epoch 92/100\n",
      "1000/1000 [==============================] - 0s 146us/step - loss: 0.3546 - accuracy: 0.9010\n",
      "Epoch 93/100\n",
      "1000/1000 [==============================] - 0s 155us/step - loss: 0.3548 - accuracy: 0.8970\n",
      "Epoch 94/100\n",
      "1000/1000 [==============================] - 0s 160us/step - loss: 0.3513 - accuracy: 0.9030\n",
      "Epoch 95/100\n",
      "1000/1000 [==============================] - 0s 160us/step - loss: 0.3529 - accuracy: 0.8940\n",
      "Epoch 96/100\n",
      "1000/1000 [==============================] - 0s 169us/step - loss: 0.3438 - accuracy: 0.9040\n",
      "Epoch 97/100\n",
      "1000/1000 [==============================] - 0s 477us/step - loss: 0.3401 - accuracy: 0.9050\n",
      "Epoch 98/100\n",
      "1000/1000 [==============================] - 0s 149us/step - loss: 0.3400 - accuracy: 0.9060\n",
      "Epoch 99/100\n",
      "1000/1000 [==============================] - 0s 188us/step - loss: 0.3336 - accuracy: 0.9090\n",
      "Epoch 100/100\n",
      "1000/1000 [==============================] - 0s 159us/step - loss: 0.3289 - accuracy: 0.9120\n"
     ]
    },
    {
     "data": {
      "text/plain": [
       "<keras.callbacks.callbacks.History at 0x7fbb882de4e0>"
      ]
     },
     "execution_count": 9,
     "metadata": {},
     "output_type": "execute_result"
    }
   ],
   "source": [
    "model = Sequential()\n",
    "model.add(Dense(32, activation='relu', input_dim=100))\n",
    "model.add(Dense(1, activation='sigmoid'))\n",
    "model.compile(optimizer='rmsprop',\n",
    "              loss='binary_crossentropy',\n",
    "              metrics=['accuracy'])\n",
    "\n",
    "\n",
    "\n",
    "# 训练模型，以 32 个样本为一个 batch 进行迭代\n",
    "model.fit(data, labels, epochs=100, batch_size=32)"
   ]
  },
  {
   "attachments": {},
   "cell_type": "markdown",
   "metadata": {},
   "source": [
    "## numpy.random 模块\n",
    "\n",
    "- rand(d0, d1, ..., dn)\n",
    "   - 均匀分布U~(0,1)\n",
    "   - Random values in a given shape.\n",
    "   \n",
    "-  np.random.random()\n",
    "\n",
    "    - 返回半开放区间内的随机浮点数[0.0,1.0]。\n",
    "    - 结果是在规定的时间间隔内的“连续均匀”分布。\n"
   ]
  },
  {
   "cell_type": "code",
   "execution_count": 10,
   "metadata": {},
   "outputs": [],
   "source": [
    "import numpy as np"
   ]
  },
  {
   "cell_type": "code",
   "execution_count": 11,
   "metadata": {},
   "outputs": [
    {
     "data": {
      "text/plain": [
       "0.5090854794437101"
      ]
     },
     "execution_count": 11,
     "metadata": {},
     "output_type": "execute_result"
    }
   ],
   "source": [
    "np.random.ranf()"
   ]
  },
  {
   "cell_type": "code",
   "execution_count": 12,
   "metadata": {},
   "outputs": [],
   "source": [
    "np.random.seed(0)"
   ]
  },
  {
   "cell_type": "code",
   "execution_count": 13,
   "metadata": {},
   "outputs": [
    {
     "data": {
      "text/plain": [
       "0.5488135039273248"
      ]
     },
     "execution_count": 13,
     "metadata": {},
     "output_type": "execute_result"
    }
   ],
   "source": [
    "np.random.rand()"
   ]
  },
  {
   "cell_type": "code",
   "execution_count": 14,
   "metadata": {},
   "outputs": [
    {
     "data": {
      "text/plain": [
       "0.7151893663724195"
      ]
     },
     "execution_count": 14,
     "metadata": {},
     "output_type": "execute_result"
    }
   ],
   "source": [
    "np.random.rand()"
   ]
  },
  {
   "cell_type": "code",
   "execution_count": 15,
   "metadata": {},
   "outputs": [
    {
     "data": {
      "text/plain": [
       "array([[0.60276338, 0.54488318, 0.4236548 ],\n",
       "       [0.64589411, 0.43758721, 0.891773  ]])"
      ]
     },
     "execution_count": 15,
     "metadata": {},
     "output_type": "execute_result"
    }
   ],
   "source": [
    "np.random.rand(2,3)"
   ]
  },
  {
   "cell_type": "code",
   "execution_count": 17,
   "metadata": {},
   "outputs": [
    {
     "data": {
      "text/plain": [
       "array([[ 1,  6,  7, 14],\n",
       "       [17,  5, 13,  8],\n",
       "       [ 9, 19, 16, 19],\n",
       "       [ 5, 15, 15,  0]])"
      ]
     },
     "execution_count": 17,
     "metadata": {},
     "output_type": "execute_result"
    }
   ],
   "source": [
    "np.random.randint(20,size=(4,4))"
   ]
  },
  {
   "cell_type": "code",
   "execution_count": 18,
   "metadata": {},
   "outputs": [
    {
     "data": {
      "text/plain": [
       "'\\n返回半开放区间内的随机浮点数[0.0,1.0]。\\n结果是在规定的时间间隔内的“连续均匀”分布。\\n'"
      ]
     },
     "execution_count": 18,
     "metadata": {},
     "output_type": "execute_result"
    }
   ],
   "source": [
    "np.random.random()\n",
    "'''\n",
    "返回半开放区间内的随机浮点数[0.0,1.0]。\n",
    "结果是在规定的时间间隔内的“连续均匀”分布。\n",
    "'''"
   ]
  }
 ],
 "metadata": {
  "kernelspec": {
   "display_name": "Python 3",
   "language": "python",
   "name": "python3"
  },
  "language_info": {
   "codemirror_mode": {
    "name": "ipython",
    "version": 3
   },
   "file_extension": ".py",
   "mimetype": "text/x-python",
   "name": "python",
   "nbconvert_exporter": "python",
   "pygments_lexer": "ipython3",
   "version": "3.6.8"
  }
 },
 "nbformat": 4,
 "nbformat_minor": 2
}
