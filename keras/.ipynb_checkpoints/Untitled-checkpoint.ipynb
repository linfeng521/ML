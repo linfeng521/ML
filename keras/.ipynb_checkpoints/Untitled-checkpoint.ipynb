{
 "cells": [
  {
   "cell_type": "code",
   "execution_count": 2,
   "metadata": {},
   "outputs": [
    {
     "name": "stdout",
     "output_type": "stream",
     "text": [
      ".\r\n",
      "|-- 2_class.ipynb\r\n",
      "|-- basic.ipynb\r\n",
      "|-- classification\r\n",
      "|   |-- mnist.ipynb\r\n",
      "|   `-- \\347\\214\\253\\345\\222\\252\\350\\257\\206\\345\\210\\253\\345\\231\\250.ipynb\r\n",
      "|-- cnn.ipynb\r\n",
      "|-- Dataset.ipynb\r\n",
      "|-- first\\ (2).ipynb\r\n",
      "|-- first.ipynb\r\n",
      "|-- regression\r\n",
      "|   |-- edu_income\\347\\272\\277\\346\\200\\247\\345\\233\\236\\345\\275\\222.ipynb\r\n",
      "|   |-- Income1.csv\r\n",
      "|   |-- \\346\\210\\277\\344\\273\\267\\351\\242\\204\\346\\265\\213.ipynb\r\n",
      "|   |-- \\347\\272\\277\\346\\200\\247\\345\\233\\236\\345\\275\\222.ipynb\r\n",
      "|   `-- \\351\\235\\236\\347\\272\\277\\346\\200\\247\\345\\233\\236\\345\\275\\222.ipynb\r\n",
      "`-- Untitled.ipynb\r\n",
      "\r\n",
      "2 directories, 14 files\r\n"
     ]
    }
   ],
   "source": [
    "!tree -L 2"
   ]
  },
  {
   "cell_type": "code",
   "execution_count": 3,
   "metadata": {},
   "outputs": [],
   "source": [
    "import tensorflow as tf\n",
    "import pathlib"
   ]
  },
  {
   "cell_type": "code",
   "execution_count": 13,
   "metadata": {},
   "outputs": [],
   "source": [
    "data_dir = '../datasets/air_lake'\n",
    "data_root = pathlib.Path(data_dir)"
   ]
  },
  {
   "cell_type": "code",
   "execution_count": 14,
   "metadata": {},
   "outputs": [
    {
     "data": {
      "text/plain": [
       "PosixPath('../datasets/air_lake')"
      ]
     },
     "execution_count": 14,
     "metadata": {},
     "output_type": "execute_result"
    }
   ],
   "source": [
    "data_root"
   ]
  },
  {
   "cell_type": "code",
   "execution_count": 15,
   "metadata": {},
   "outputs": [
    {
     "name": "stdout",
     "output_type": "stream",
     "text": [
      "../datasets/air_lake/lake\n",
      "../datasets/air_lake/airplane\n"
     ]
    }
   ],
   "source": [
    "for item in data_root.iterdir():\n",
    "    print(item)"
   ]
  },
  {
   "cell_type": "code",
   "execution_count": 16,
   "metadata": {},
   "outputs": [],
   "source": [
    "all_image_path = list(data_root.glob('*/*'))"
   ]
  },
  {
   "cell_type": "code",
   "execution_count": 17,
   "metadata": {},
   "outputs": [
    {
     "data": {
      "text/plain": [
       "[PosixPath('../datasets/air_lake/lake/lake_276.jpg'),\n",
       " PosixPath('../datasets/air_lake/lake/lake_645.jpg')]"
      ]
     },
     "execution_count": 17,
     "metadata": {},
     "output_type": "execute_result"
    }
   ],
   "source": [
    "all_image_path[:2]"
   ]
  },
  {
   "cell_type": "code",
   "execution_count": null,
   "metadata": {},
   "outputs": [],
   "source": [
    "image_count = len(all_image_path)"
   ]
  },
  {
   "cell_type": "code",
   "execution_count": 12,
   "metadata": {},
   "outputs": [
    {
     "data": {
      "text/plain": [
       "[PosixPath('data/airplane/airplane_224.jpg'),\n",
       " PosixPath('data/airplane/airplane_419.jpg'),\n",
       " PosixPath('data/airplane/airplane_689.jpg')]"
      ]
     },
     "execution_count": 12,
     "metadata": {},
     "output_type": "execute_result"
    }
   ],
   "source": [
    "all_image_path[-3:]"
   ]
  },
  {
   "cell_type": "code",
   "execution_count": 15,
   "metadata": {},
   "outputs": [
    {
     "data": {
      "text/plain": [
       "[PosixPath('data/lake/lake_276.jpg'),\n",
       " PosixPath('data/lake/lake_645.jpg'),\n",
       " PosixPath('data/lake/lake_301.jpg'),\n",
       " PosixPath('data/lake/lake_082.jpg'),\n",
       " PosixPath('data/lake/lake_329.jpg')]"
      ]
     },
     "execution_count": 15,
     "metadata": {},
     "output_type": "execute_result"
    }
   ],
   "source": [
    "all_image_path[:5]"
   ]
  },
  {
   "cell_type": "code",
   "execution_count": 17,
   "metadata": {},
   "outputs": [
    {
     "data": {
      "text/plain": [
       "['airplane', 'lake']"
      ]
     },
     "execution_count": 17,
     "metadata": {},
     "output_type": "execute_result"
    }
   ],
   "source": [
    "label_names = sorted(item.name for item in data_root.glob('*/') if item.is_dir())\n",
    "label_names"
   ]
  },
  {
   "cell_type": "code",
   "execution_count": 18,
   "metadata": {},
   "outputs": [
    {
     "data": {
      "text/plain": [
       "{'airplane': 0, 'lake': 1}"
      ]
     },
     "execution_count": 18,
     "metadata": {},
     "output_type": "execute_result"
    }
   ],
   "source": [
    "label_to_index = dict((name, index) for index,name in enumerate(label_names))\n",
    "label_to_index"
   ]
  },
  {
   "cell_type": "code",
   "execution_count": 20,
   "metadata": {},
   "outputs": [],
   "source": [
    "all_image_labels = [label_to_index[pathlib.Path(path).parent.name] for path in all_image_path]"
   ]
  },
  {
   "cell_type": "code",
   "execution_count": 21,
   "metadata": {},
   "outputs": [
    {
     "data": {
      "text/plain": [
       "[1, 1, 1]"
      ]
     },
     "execution_count": 21,
     "metadata": {},
     "output_type": "execute_result"
    }
   ],
   "source": [
    "all_image_labels[:3]"
   ]
  },
  {
   "cell_type": "code",
   "execution_count": 22,
   "metadata": {},
   "outputs": [],
   "source": [
    "import IPython.display as display"
   ]
  },
  {
   "cell_type": "code",
   "execution_count": 23,
   "metadata": {},
   "outputs": [],
   "source": [
    "def caption_image(label):\n",
    "    return {0: 'airplane', 1: 'lake'}.get(label)"
   ]
  },
  {
   "cell_type": "code",
   "execution_count": 40,
   "metadata": {},
   "outputs": [
    {
     "data": {
      "image/jpeg": "[encoded data removed]",
      "text/plain": [
       "<IPython.core.display.Image object>"
      ]
     },
     "metadata": {},
     "output_type": "display_data"
    },
    {
     "name": "stdout",
     "output_type": "stream",
     "text": [
      "lake\n",
      "\n"
     ]
    },
    {
     "data": {
      "image/jpeg": "[encoded data removed]",
      "text/plain": [
       "<IPython.core.display.Image object>"
      ]
     },
     "metadata": {},
     "output_type": "display_data"
    },
    {
     "name": "stdout",
     "output_type": "stream",
     "text": [
      "airplane\n",
      "\n"
     ]
    },
    {
     "data": {
      "image/jpeg": "[encoded data removed]",
      "text/plain": [
       "<IPython.core.display.Image object>"
      ]
     },
     "metadata": {},
     "output_type": "display_data"
    },
    {
     "name": "stdout",
     "output_type": "stream",
     "text": [
      "airplane\n",
      "\n"
     ]
    }
   ],
   "source": [
    "import random\n",
    "for n in range(3):\n",
    "    image_index = random.choice(range(len(all_image_path)))\n",
    "    display.display(display.Image(str(all_image_path[image_index])))\n",
    "    print(caption_image(all_image_labels[image_index]))\n",
    "    print()"
   ]
  },
  {
   "cell_type": "code",
   "execution_count": 45,
   "metadata": {},
   "outputs": [
    {
     "data": {
      "text/plain": [
       "['data/lake/lake_276.jpg',\n",
       " 'data/lake/lake_645.jpg',\n",
       " 'data/lake/lake_301.jpg',\n",
       " 'data/lake/lake_082.jpg',\n",
       " 'data/lake/lake_329.jpg',\n",
       " 'data/lake/lake_650.jpg',\n",
       " 'data/lake/lake_393.jpg',\n",
       " 'data/lake/lake_093.jpg',\n",
       " 'data/lake/lake_132.jpg',\n",
       " 'data/lake/lake_687.jpg',\n",
       " 'data/lake/lake_044.jpg',\n",
       " 'data/lake/lake_558.jpg',\n",
       " 'data/lake/lake_430.jpg',\n",
       " 'data/lake/lake_173.jpg',\n",
       " 'data/lake/lake_459.jpg',\n",
       " 'data/lake/lake_670.jpg',\n",
       " 'data/lake/lake_024.jpg',\n",
       " 'data/lake/lake_114.jpg',\n",
       " 'data/lake/lake_219.jpg',\n",
       " 'data/lake/lake_431.jpg',\n",
       " 'data/lake/lake_207.jpg',\n",
       " 'data/lake/lake_162.jpg',\n",
       " 'data/lake/lake_131.jpg',\n",
       " 'data/lake/lake_273.jpg',\n",
       " 'data/lake/lake_635.jpg',\n",
       " 'data/lake/lake_674.jpg',\n",
       " 'data/lake/lake_260.jpg',\n",
       " 'data/lake/lake_679.jpg',\n",
       " 'data/lake/lake_029.jpg',\n",
       " 'data/lake/lake_263.jpg',\n",
       " 'data/lake/lake_605.jpg',\n",
       " 'data/lake/lake_455.jpg',\n",
       " 'data/lake/lake_611.jpg',\n",
       " 'data/lake/lake_159.jpg',\n",
       " 'data/lake/lake_678.jpg',\n",
       " 'data/lake/lake_354.jpg',\n",
       " 'data/lake/lake_513.jpg',\n",
       " 'data/lake/lake_164.jpg',\n",
       " 'data/lake/lake_522.jpg',\n",
       " 'data/lake/lake_543.jpg',\n",
       " 'data/lake/lake_183.jpg',\n",
       " 'data/lake/lake_699.jpg',\n",
       " 'data/lake/lake_197.jpg',\n",
       " 'data/lake/lake_339.jpg',\n",
       " 'data/lake/lake_266.jpg',\n",
       " 'data/lake/lake_084.jpg',\n",
       " 'data/lake/lake_136.jpg',\n",
       " 'data/lake/lake_113.jpg',\n",
       " 'data/lake/lake_445.jpg',\n",
       " 'data/lake/lake_187.jpg',\n",
       " 'data/lake/lake_026.jpg',\n",
       " 'data/lake/lake_323.jpg',\n",
       " 'data/lake/lake_576.jpg',\n",
       " 'data/lake/lake_089.jpg',\n",
       " 'data/lake/lake_615.jpg',\n",
       " 'data/lake/lake_646.jpg',\n",
       " 'data/lake/lake_620.jpg',\n",
       " 'data/lake/lake_189.jpg',\n",
       " 'data/lake/lake_544.jpg',\n",
       " 'data/lake/lake_277.jpg',\n",
       " 'data/lake/lake_643.jpg',\n",
       " 'data/lake/lake_224.jpg',\n",
       " 'data/lake/lake_205.jpg',\n",
       " 'data/lake/lake_449.jpg',\n",
       " 'data/lake/lake_010.jpg',\n",
       " 'data/lake/lake_158.jpg',\n",
       " 'data/lake/lake_286.jpg',\n",
       " 'data/lake/lake_148.jpg',\n",
       " 'data/lake/lake_599.jpg',\n",
       " 'data/lake/lake_221.jpg',\n",
       " 'data/lake/lake_115.jpg',\n",
       " 'data/lake/lake_107.jpg',\n",
       " 'data/lake/lake_532.jpg',\n",
       " 'data/lake/lake_353.jpg',\n",
       " 'data/lake/lake_254.jpg',\n",
       " 'data/lake/lake_407.jpg',\n",
       " 'data/lake/lake_580.jpg',\n",
       " 'data/lake/lake_222.jpg',\n",
       " 'data/lake/lake_167.jpg',\n",
       " 'data/lake/lake_612.jpg',\n",
       " 'data/lake/lake_274.jpg',\n",
       " 'data/lake/lake_126.jpg',\n",
       " 'data/lake/lake_530.jpg',\n",
       " 'data/lake/lake_355.jpg',\n",
       " 'data/lake/lake_196.jpg',\n",
       " 'data/lake/lake_155.jpg',\n",
       " 'data/lake/lake_439.jpg',\n",
       " 'data/lake/lake_622.jpg',\n",
       " 'data/lake/lake_383.jpg',\n",
       " 'data/lake/lake_640.jpg',\n",
       " 'data/lake/lake_279.jpg',\n",
       " 'data/lake/lake_514.jpg',\n",
       " 'data/lake/lake_192.jpg',\n",
       " 'data/lake/lake_492.jpg',\n",
       " 'data/lake/lake_278.jpg',\n",
       " 'data/lake/lake_592.jpg',\n",
       " 'data/lake/lake_626.jpg',\n",
       " 'data/lake/lake_503.jpg',\n",
       " 'data/lake/lake_607.jpg',\n",
       " 'data/lake/lake_111.jpg',\n",
       " 'data/lake/lake_694.jpg',\n",
       " 'data/lake/lake_122.jpg',\n",
       " 'data/lake/lake_548.jpg',\n",
       " 'data/lake/lake_586.jpg',\n",
       " 'data/lake/lake_437.jpg',\n",
       " 'data/lake/lake_458.jpg',\n",
       " 'data/lake/lake_613.jpg',\n",
       " 'data/lake/lake_227.jpg',\n",
       " 'data/lake/lake_006.jpg',\n",
       " 'data/lake/lake_108.jpg',\n",
       " 'data/lake/lake_538.jpg',\n",
       " 'data/lake/lake_662.jpg',\n",
       " 'data/lake/lake_097.jpg',\n",
       " 'data/lake/lake_425.jpg',\n",
       " 'data/lake/lake_202.jpg',\n",
       " 'data/lake/lake_526.jpg',\n",
       " 'data/lake/lake_351.jpg',\n",
       " 'data/lake/lake_683.jpg',\n",
       " 'data/lake/lake_090.jpg',\n",
       " 'data/lake/lake_027.jpg',\n",
       " 'data/lake/lake_617.jpg',\n",
       " 'data/lake/lake_231.jpg',\n",
       " 'data/lake/lake_095.jpg',\n",
       " 'data/lake/lake_015.jpg',\n",
       " 'data/lake/lake_642.jpg',\n",
       " 'data/lake/lake_261.jpg',\n",
       " 'data/lake/lake_470.jpg',\n",
       " 'data/lake/lake_348.jpg',\n",
       " 'data/lake/lake_058.jpg',\n",
       " 'data/lake/lake_102.jpg',\n",
       " 'data/lake/lake_046.jpg',\n",
       " 'data/lake/lake_331.jpg',\n",
       " 'data/lake/lake_063.jpg',\n",
       " 'data/lake/lake_104.jpg',\n",
       " 'data/lake/lake_508.jpg',\n",
       " 'data/lake/lake_539.jpg',\n",
       " 'data/lake/lake_542.jpg',\n",
       " 'data/lake/lake_485.jpg',\n",
       " 'data/lake/lake_225.jpg',\n",
       " 'data/lake/lake_685.jpg',\n",
       " 'data/lake/lake_668.jpg',\n",
       " 'data/lake/lake_035.jpg',\n",
       " 'data/lake/lake_007.jpg',\n",
       " 'data/lake/lake_233.jpg',\n",
       " 'data/lake/lake_140.jpg',\n",
       " 'data/lake/lake_374.jpg',\n",
       " 'data/lake/lake_217.jpg',\n",
       " 'data/lake/lake_087.jpg',\n",
       " 'data/lake/lake_038.jpg',\n",
       " 'data/lake/lake_696.jpg',\n",
       " 'data/lake/lake_319.jpg',\n",
       " 'data/lake/lake_371.jpg',\n",
       " 'data/lake/lake_673.jpg',\n",
       " 'data/lake/lake_268.jpg',\n",
       " 'data/lake/lake_194.jpg',\n",
       " 'data/lake/lake_528.jpg',\n",
       " 'data/lake/lake_316.jpg',\n",
       " 'data/lake/lake_477.jpg',\n",
       " 'data/lake/lake_405.jpg',\n",
       " 'data/lake/lake_557.jpg',\n",
       " 'data/lake/lake_594.jpg',\n",
       " 'data/lake/lake_039.jpg',\n",
       " 'data/lake/lake_631.jpg',\n",
       " 'data/lake/lake_109.jpg',\n",
       " 'data/lake/lake_369.jpg',\n",
       " 'data/lake/lake_080.jpg',\n",
       " 'data/lake/lake_417.jpg',\n",
       " 'data/lake/lake_520.jpg',\n",
       " 'data/lake/lake_188.jpg',\n",
       " 'data/lake/lake_388.jpg',\n",
       " 'data/lake/lake_561.jpg',\n",
       " 'data/lake/lake_585.jpg',\n",
       " 'data/lake/lake_457.jpg',\n",
       " 'data/lake/lake_071.jpg',\n",
       " 'data/lake/lake_012.jpg',\n",
       " 'data/lake/lake_601.jpg',\n",
       " 'data/lake/lake_450.jpg',\n",
       " 'data/lake/lake_553.jpg',\n",
       " 'data/lake/lake_184.jpg',\n",
       " 'data/lake/lake_404.jpg',\n",
       " 'data/lake/lake_507.jpg',\n",
       " 'data/lake/lake_395.jpg',\n",
       " 'data/lake/lake_186.jpg',\n",
       " 'data/lake/lake_600.jpg',\n",
       " 'data/lake/lake_461.jpg',\n",
       " 'data/lake/lake_326.jpg',\n",
       " 'data/lake/lake_252.jpg',\n",
       " 'data/lake/lake_271.jpg',\n",
       " 'data/lake/lake_386.jpg',\n",
       " 'data/lake/lake_259.jpg',\n",
       " 'data/lake/lake_647.jpg',\n",
       " 'data/lake/lake_314.jpg',\n",
       " 'data/lake/lake_408.jpg',\n",
       " 'data/lake/lake_064.jpg',\n",
       " 'data/lake/lake_317.jpg',\n",
       " 'data/lake/lake_105.jpg',\n",
       " 'data/lake/lake_209.jpg',\n",
       " 'data/lake/lake_501.jpg',\n",
       " 'data/lake/lake_616.jpg',\n",
       " 'data/lake/lake_229.jpg',\n",
       " 'data/lake/lake_156.jpg',\n",
       " 'data/lake/lake_310.jpg',\n",
       " 'data/lake/lake_434.jpg',\n",
       " 'data/lake/lake_695.jpg',\n",
       " 'data/lake/lake_499.jpg',\n",
       " 'data/lake/lake_302.jpg',\n",
       " 'data/lake/lake_688.jpg',\n",
       " 'data/lake/lake_579.jpg',\n",
       " 'data/lake/lake_399.jpg',\n",
       " 'data/lake/lake_021.jpg',\n",
       " 'data/lake/lake_296.jpg',\n",
       " 'data/lake/lake_428.jpg',\n",
       " 'data/lake/lake_018.jpg',\n",
       " 'data/lake/lake_275.jpg',\n",
       " 'data/lake/lake_016.jpg',\n",
       " 'data/lake/lake_382.jpg',\n",
       " 'data/lake/lake_298.jpg',\n",
       " 'data/lake/lake_169.jpg',\n",
       " 'data/lake/lake_472.jpg',\n",
       " 'data/lake/lake_030.jpg',\n",
       " 'data/lake/lake_527.jpg',\n",
       " 'data/lake/lake_389.jpg',\n",
       " 'data/lake/lake_671.jpg',\n",
       " 'data/lake/lake_390.jpg',\n",
       " 'data/lake/lake_151.jpg',\n",
       " 'data/lake/lake_639.jpg',\n",
       " 'data/lake/lake_352.jpg',\n",
       " 'data/lake/lake_602.jpg',\n",
       " 'data/lake/lake_085.jpg',\n",
       " 'data/lake/lake_655.jpg',\n",
       " 'data/lake/lake_232.jpg',\n",
       " 'data/lake/lake_139.jpg',\n",
       " 'data/lake/lake_478.jpg',\n",
       " 'data/lake/lake_411.jpg',\n",
       " 'data/lake/lake_362.jpg',\n",
       " 'data/lake/lake_346.jpg',\n",
       " 'data/lake/lake_489.jpg',\n",
       " 'data/lake/lake_267.jpg',\n",
       " 'data/lake/lake_693.jpg',\n",
       " 'data/lake/lake_361.jpg',\n",
       " 'data/lake/lake_079.jpg',\n",
       " 'data/lake/lake_397.jpg',\n",
       " 'data/lake/lake_463.jpg',\n",
       " 'data/lake/lake_201.jpg',\n",
       " 'data/lake/lake_490.jpg',\n",
       " 'data/lake/lake_627.jpg',\n",
       " 'data/lake/lake_415.jpg',\n",
       " 'data/lake/lake_318.jpg',\n",
       " 'data/lake/lake_234.jpg',\n",
       " 'data/lake/lake_028.jpg',\n",
       " 'data/lake/lake_128.jpg',\n",
       " 'data/lake/lake_495.jpg',\n",
       " 'data/lake/lake_306.jpg',\n",
       " 'data/lake/lake_491.jpg',\n",
       " 'data/lake/lake_394.jpg',\n",
       " 'data/lake/lake_014.jpg',\n",
       " 'data/lake/lake_013.jpg',\n",
       " 'data/lake/lake_379.jpg',\n",
       " 'data/lake/lake_086.jpg',\n",
       " 'data/lake/lake_533.jpg',\n",
       " 'data/lake/lake_483.jpg',\n",
       " 'data/lake/lake_436.jpg',\n",
       " 'data/lake/lake_137.jpg',\n",
       " 'data/lake/lake_567.jpg',\n",
       " 'data/lake/lake_166.jpg',\n",
       " 'data/lake/lake_413.jpg',\n",
       " 'data/lake/lake_427.jpg',\n",
       " 'data/lake/lake_070.jpg',\n",
       " 'data/lake/lake_283.jpg',\n",
       " 'data/lake/lake_313.jpg',\n",
       " 'data/lake/lake_243.jpg',\n",
       " 'data/lake/lake_280.jpg',\n",
       " 'data/lake/lake_446.jpg',\n",
       " 'data/lake/lake_549.jpg',\n",
       " 'data/lake/lake_488.jpg',\n",
       " 'data/lake/lake_537.jpg',\n",
       " 'data/lake/lake_555.jpg',\n",
       " 'data/lake/lake_484.jpg',\n",
       " 'data/lake/lake_284.jpg',\n",
       " 'data/lake/lake_177.jpg',\n",
       " 'data/lake/lake_370.jpg',\n",
       " 'data/lake/lake_001.jpg',\n",
       " 'data/lake/lake_545.jpg',\n",
       " 'data/lake/lake_171.jpg',\n",
       " 'data/lake/lake_214.jpg',\n",
       " 'data/lake/lake_628.jpg',\n",
       " 'data/lake/lake_290.jpg',\n",
       " 'data/lake/lake_447.jpg',\n",
       " 'data/lake/lake_469.jpg',\n",
       " 'data/lake/lake_591.jpg',\n",
       " 'data/lake/lake_198.jpg',\n",
       " 'data/lake/lake_327.jpg',\n",
       " 'data/lake/lake_400.jpg',\n",
       " 'data/lake/lake_264.jpg',\n",
       " 'data/lake/lake_216.jpg',\n",
       " 'data/lake/lake_060.jpg',\n",
       " 'data/lake/lake_493.jpg',\n",
       " 'data/lake/lake_062.jpg',\n",
       " 'data/lake/lake_357.jpg',\n",
       " 'data/lake/lake_691.jpg',\n",
       " 'data/lake/lake_571.jpg',\n",
       " 'data/lake/lake_552.jpg',\n",
       " 'data/lake/lake_135.jpg',\n",
       " 'data/lake/lake_515.jpg',\n",
       " 'data/lake/lake_509.jpg',\n",
       " 'data/lake/lake_637.jpg',\n",
       " 'data/lake/lake_226.jpg',\n",
       " 'data/lake/lake_593.jpg',\n",
       " 'data/lake/lake_421.jpg',\n",
       " 'data/lake/lake_255.jpg',\n",
       " 'data/lake/lake_582.jpg',\n",
       " 'data/lake/lake_482.jpg',\n",
       " 'data/lake/lake_356.jpg',\n",
       " 'data/lake/lake_120.jpg',\n",
       " 'data/lake/lake_161.jpg',\n",
       " 'data/lake/lake_292.jpg',\n",
       " 'data/lake/lake_195.jpg',\n",
       " 'data/lake/lake_689.jpg',\n",
       " 'data/lake/lake_048.jpg',\n",
       " 'data/lake/lake_004.jpg',\n",
       " 'data/lake/lake_052.jpg',\n",
       " 'data/lake/lake_619.jpg',\n",
       " 'data/lake/lake_496.jpg',\n",
       " 'data/lake/lake_110.jpg',\n",
       " 'data/lake/lake_036.jpg',\n",
       " 'data/lake/lake_076.jpg',\n",
       " 'data/lake/lake_596.jpg',\n",
       " 'data/lake/lake_285.jpg',\n",
       " 'data/lake/lake_176.jpg',\n",
       " 'data/lake/lake_300.jpg',\n",
       " 'data/lake/lake_588.jpg',\n",
       " 'data/lake/lake_342.jpg',\n",
       " 'data/lake/lake_583.jpg',\n",
       " 'data/lake/lake_464.jpg',\n",
       " 'data/lake/lake_068.jpg',\n",
       " 'data/lake/lake_551.jpg',\n",
       " 'data/lake/lake_272.jpg',\n",
       " 'data/lake/lake_142.jpg',\n",
       " 'data/lake/lake_521.jpg',\n",
       " 'data/lake/lake_022.jpg',\n",
       " 'data/lake/lake_075.jpg',\n",
       " 'data/lake/lake_289.jpg',\n",
       " 'data/lake/lake_475.jpg',\n",
       " 'data/lake/lake_042.jpg',\n",
       " 'data/lake/lake_510.jpg',\n",
       " 'data/lake/lake_360.jpg',\n",
       " 'data/lake/lake_512.jpg',\n",
       " 'data/lake/lake_009.jpg',\n",
       " 'data/lake/lake_045.jpg',\n",
       " 'data/lake/lake_067.jpg',\n",
       " 'data/lake/lake_049.jpg',\n",
       " 'data/lake/lake_505.jpg',\n",
       " 'data/lake/lake_265.jpg',\n",
       " 'data/lake/lake_190.jpg',\n",
       " 'data/lake/lake_433.jpg',\n",
       " 'data/lake/lake_281.jpg',\n",
       " 'data/lake/lake_524.jpg',\n",
       " 'data/lake/lake_033.jpg',\n",
       " 'data/lake/lake_208.jpg',\n",
       " 'data/lake/lake_664.jpg',\n",
       " 'data/lake/lake_308.jpg',\n",
       " 'data/lake/lake_410.jpg',\n",
       " 'data/lake/lake_402.jpg',\n",
       " 'data/lake/lake_309.jpg',\n",
       " 'data/lake/lake_535.jpg',\n",
       " 'data/lake/lake_373.jpg',\n",
       " 'data/lake/lake_043.jpg',\n",
       " 'data/lake/lake_652.jpg',\n",
       " 'data/lake/lake_239.jpg',\n",
       " 'data/lake/lake_211.jpg',\n",
       " 'data/lake/lake_564.jpg',\n",
       " 'data/lake/lake_287.jpg',\n",
       " 'data/lake/lake_429.jpg',\n",
       " 'data/lake/lake_191.jpg',\n",
       " 'data/lake/lake_223.jpg',\n",
       " 'data/lake/lake_307.jpg',\n",
       " 'data/lake/lake_358.jpg',\n",
       " 'data/lake/lake_629.jpg',\n",
       " 'data/lake/lake_563.jpg',\n",
       " 'data/lake/lake_238.jpg',\n",
       " 'data/lake/lake_432.jpg',\n",
       " 'data/lake/lake_550.jpg',\n",
       " 'data/lake/lake_237.jpg',\n",
       " 'data/lake/lake_565.jpg',\n",
       " 'data/lake/lake_454.jpg',\n",
       " 'data/lake/lake_125.jpg',\n",
       " 'data/lake/lake_333.jpg',\n",
       " 'data/lake/lake_257.jpg',\n",
       " 'data/lake/lake_441.jpg',\n",
       " 'data/lake/lake_476.jpg',\n",
       " 'data/lake/lake_598.jpg',\n",
       " 'data/lake/lake_473.jpg',\n",
       " 'data/lake/lake_098.jpg',\n",
       " 'data/lake/lake_341.jpg',\n",
       " 'data/lake/lake_368.jpg',\n",
       " 'data/lake/lake_072.jpg',\n",
       " 'data/lake/lake_540.jpg',\n",
       " 'data/lake/lake_621.jpg',\n",
       " 'data/lake/lake_230.jpg',\n",
       " 'data/lake/lake_051.jpg',\n",
       " 'data/lake/lake_403.jpg',\n",
       " 'data/lake/lake_116.jpg',\n",
       " 'data/lake/lake_675.jpg',\n",
       " 'data/lake/lake_145.jpg',\n",
       " 'data/lake/lake_340.jpg',\n",
       " 'data/lake/lake_529.jpg',\n",
       " 'data/lake/lake_334.jpg',\n",
       " 'data/lake/lake_203.jpg',\n",
       " 'data/lake/lake_560.jpg',\n",
       " 'data/lake/lake_253.jpg',\n",
       " 'data/lake/lake_213.jpg',\n",
       " 'data/lake/lake_023.jpg',\n",
       " 'data/lake/lake_303.jpg',\n",
       " 'data/lake/lake_465.jpg',\n",
       " 'data/lake/lake_129.jpg',\n",
       " 'data/lake/lake_069.jpg',\n",
       " 'data/lake/lake_160.jpg',\n",
       " 'data/lake/lake_581.jpg',\n",
       " 'data/lake/lake_138.jpg',\n",
       " 'data/lake/lake_633.jpg',\n",
       " 'data/lake/lake_562.jpg',\n",
       " 'data/lake/lake_452.jpg',\n",
       " 'data/lake/lake_608.jpg',\n",
       " 'data/lake/lake_363.jpg',\n",
       " 'data/lake/lake_480.jpg',\n",
       " 'data/lake/lake_653.jpg',\n",
       " 'data/lake/lake_377.jpg',\n",
       " 'data/lake/lake_448.jpg',\n",
       " 'data/lake/lake_055.jpg',\n",
       " 'data/lake/lake_053.jpg',\n",
       " 'data/lake/lake_481.jpg',\n",
       " 'data/lake/lake_153.jpg',\n",
       " 'data/lake/lake_517.jpg',\n",
       " 'data/lake/lake_330.jpg',\n",
       " 'data/lake/lake_170.jpg',\n",
       " 'data/lake/lake_236.jpg',\n",
       " 'data/lake/lake_210.jpg',\n",
       " 'data/lake/lake_081.jpg',\n",
       " 'data/lake/lake_572.jpg',\n",
       " 'data/lake/lake_077.jpg',\n",
       " 'data/lake/lake_577.jpg',\n",
       " 'data/lake/lake_364.jpg',\n",
       " 'data/lake/lake_212.jpg',\n",
       " 'data/lake/lake_554.jpg',\n",
       " 'data/lake/lake_649.jpg',\n",
       " 'data/lake/lake_409.jpg',\n",
       " 'data/lake/lake_467.jpg',\n",
       " 'data/lake/lake_438.jpg',\n",
       " 'data/lake/lake_174.jpg',\n",
       " 'data/lake/lake_149.jpg',\n",
       " 'data/lake/lake_460.jpg',\n",
       " 'data/lake/lake_040.jpg',\n",
       " 'data/lake/lake_534.jpg',\n",
       " 'data/lake/lake_584.jpg',\n",
       " 'data/lake/lake_066.jpg',\n",
       " 'data/lake/lake_398.jpg',\n",
       " 'data/lake/lake_251.jpg',\n",
       " 'data/lake/lake_088.jpg',\n",
       " 'data/lake/lake_059.jpg',\n",
       " 'data/lake/lake_359.jpg',\n",
       " 'data/lake/lake_676.jpg',\n",
       " 'data/lake/lake_034.jpg',\n",
       " 'data/lake/lake_228.jpg',\n",
       " 'data/lake/lake_146.jpg',\n",
       " 'data/lake/lake_453.jpg',\n",
       " 'data/lake/lake_468.jpg',\n",
       " 'data/lake/lake_435.jpg',\n",
       " 'data/lake/lake_420.jpg',\n",
       " 'data/lake/lake_291.jpg',\n",
       " 'data/lake/lake_147.jpg',\n",
       " 'data/lake/lake_056.jpg',\n",
       " 'data/lake/lake_005.jpg',\n",
       " 'data/lake/lake_566.jpg',\n",
       " 'data/lake/lake_350.jpg',\n",
       " 'data/lake/lake_293.jpg',\n",
       " 'data/lake/lake_193.jpg',\n",
       " 'data/lake/lake_456.jpg',\n",
       " 'data/lake/lake_623.jpg',\n",
       " 'data/lake/lake_682.jpg',\n",
       " 'data/lake/lake_073.jpg',\n",
       " 'data/lake/lake_636.jpg',\n",
       " 'data/lake/lake_304.jpg',\n",
       " 'data/lake/lake_074.jpg',\n",
       " 'data/lake/lake_305.jpg',\n",
       " 'data/lake/lake_423.jpg',\n",
       " 'data/lake/lake_568.jpg',\n",
       " 'data/lake/lake_054.jpg',\n",
       " 'data/lake/lake_099.jpg',\n",
       " 'data/lake/lake_424.jpg',\n",
       " 'data/lake/lake_523.jpg',\n",
       " 'data/lake/lake_559.jpg',\n",
       " 'data/lake/lake_245.jpg',\n",
       " 'data/lake/lake_165.jpg',\n",
       " 'data/lake/lake_466.jpg',\n",
       " 'data/lake/lake_401.jpg',\n",
       " 'data/lake/lake_412.jpg',\n",
       " 'data/lake/lake_117.jpg',\n",
       " 'data/lake/lake_387.jpg',\n",
       " 'data/lake/lake_008.jpg',\n",
       " 'data/lake/lake_419.jpg',\n",
       " 'data/lake/lake_384.jpg',\n",
       " 'data/lake/lake_092.jpg',\n",
       " 'data/lake/lake_632.jpg',\n",
       " 'data/lake/lake_124.jpg',\n",
       " 'data/lake/lake_345.jpg',\n",
       " 'data/lake/lake_123.jpg',\n",
       " 'data/lake/lake_320.jpg',\n",
       " 'data/lake/lake_547.jpg',\n",
       " 'data/lake/lake_181.jpg',\n",
       " 'data/lake/lake_101.jpg',\n",
       " 'data/lake/lake_047.jpg',\n",
       " 'data/lake/lake_121.jpg',\n",
       " 'data/lake/lake_597.jpg',\n",
       " 'data/lake/lake_494.jpg',\n",
       " 'data/lake/lake_638.jpg',\n",
       " 'data/lake/lake_168.jpg',\n",
       " 'data/lake/lake_378.jpg',\n",
       " 'data/lake/lake_003.jpg',\n",
       " 'data/lake/lake_366.jpg',\n",
       " 'data/lake/lake_396.jpg',\n",
       " 'data/lake/lake_241.jpg',\n",
       " 'data/lake/lake_444.jpg',\n",
       " 'data/lake/lake_686.jpg',\n",
       " 'data/lake/lake_328.jpg',\n",
       " 'data/lake/lake_375.jpg',\n",
       " 'data/lake/lake_587.jpg',\n",
       " 'data/lake/lake_541.jpg',\n",
       " 'data/lake/lake_381.jpg',\n",
       " 'data/lake/lake_614.jpg',\n",
       " 'data/lake/lake_624.jpg',\n",
       " 'data/lake/lake_474.jpg',\n",
       " 'data/lake/lake_365.jpg',\n",
       " 'data/lake/lake_299.jpg',\n",
       " 'data/lake/lake_163.jpg',\n",
       " 'data/lake/lake_172.jpg',\n",
       " 'data/lake/lake_143.jpg',\n",
       " 'data/lake/lake_651.jpg',\n",
       " 'data/lake/lake_011.jpg',\n",
       " 'data/lake/lake_657.jpg',\n",
       " 'data/lake/lake_250.jpg',\n",
       " 'data/lake/lake_338.jpg',\n",
       " 'data/lake/lake_603.jpg',\n",
       " 'data/lake/lake_297.jpg',\n",
       " 'data/lake/lake_604.jpg',\n",
       " 'data/lake/lake_182.jpg',\n",
       " 'data/lake/lake_322.jpg',\n",
       " 'data/lake/lake_660.jpg',\n",
       " 'data/lake/lake_315.jpg',\n",
       " 'data/lake/lake_531.jpg',\n",
       " 'data/lake/lake_497.jpg',\n",
       " 'data/lake/lake_152.jpg',\n",
       " 'data/lake/lake_648.jpg',\n",
       " 'data/lake/lake_269.jpg',\n",
       " 'data/lake/lake_119.jpg',\n",
       " 'data/lake/lake_519.jpg',\n",
       " 'data/lake/lake_590.jpg',\n",
       " 'data/lake/lake_100.jpg',\n",
       " 'data/lake/lake_692.jpg',\n",
       " 'data/lake/lake_025.jpg',\n",
       " 'data/lake/lake_175.jpg',\n",
       " 'data/lake/lake_083.jpg',\n",
       " 'data/lake/lake_589.jpg',\n",
       " 'data/lake/lake_644.jpg',\n",
       " 'data/lake/lake_204.jpg',\n",
       " 'data/lake/lake_506.jpg',\n",
       " 'data/lake/lake_634.jpg',\n",
       " 'data/lake/lake_324.jpg',\n",
       " 'data/lake/lake_625.jpg',\n",
       " 'data/lake/lake_258.jpg',\n",
       " 'data/lake/lake_498.jpg',\n",
       " 'data/lake/lake_442.jpg',\n",
       " 'data/lake/lake_656.jpg',\n",
       " 'data/lake/lake_262.jpg',\n",
       " 'data/lake/lake_677.jpg',\n",
       " 'data/lake/lake_680.jpg',\n",
       " 'data/lake/lake_133.jpg',\n",
       " 'data/lake/lake_658.jpg',\n",
       " 'data/lake/lake_130.jpg',\n",
       " 'data/lake/lake_665.jpg',\n",
       " 'data/lake/lake_106.jpg',\n",
       " 'data/lake/lake_462.jpg',\n",
       " 'data/lake/lake_416.jpg',\n",
       " 'data/lake/lake_020.jpg',\n",
       " 'data/lake/lake_199.jpg',\n",
       " 'data/lake/lake_376.jpg',\n",
       " 'data/lake/lake_248.jpg',\n",
       " 'data/lake/lake_618.jpg',\n",
       " 'data/lake/lake_041.jpg',\n",
       " 'data/lake/lake_344.jpg',\n",
       " 'data/lake/lake_426.jpg',\n",
       " 'data/lake/lake_663.jpg',\n",
       " 'data/lake/lake_017.jpg',\n",
       " 'data/lake/lake_037.jpg',\n",
       " 'data/lake/lake_684.jpg',\n",
       " 'data/lake/lake_321.jpg',\n",
       " 'data/lake/lake_246.jpg',\n",
       " 'data/lake/lake_078.jpg',\n",
       " 'data/lake/lake_244.jpg',\n",
       " 'data/lake/lake_179.jpg',\n",
       " 'data/lake/lake_573.jpg',\n",
       " 'data/lake/lake_609.jpg',\n",
       " 'data/lake/lake_288.jpg',\n",
       " 'data/lake/lake_235.jpg',\n",
       " 'data/lake/lake_516.jpg',\n",
       " 'data/lake/lake_091.jpg',\n",
       " 'data/lake/lake_610.jpg',\n",
       " 'data/lake/lake_312.jpg',\n",
       " 'data/lake/lake_294.jpg',\n",
       " 'data/lake/lake_667.jpg',\n",
       " 'data/lake/lake_065.jpg',\n",
       " 'data/lake/lake_249.jpg',\n",
       " 'data/lake/lake_406.jpg',\n",
       " 'data/lake/lake_518.jpg',\n",
       " 'data/lake/lake_096.jpg',\n",
       " 'data/lake/lake_335.jpg',\n",
       " 'data/lake/lake_578.jpg',\n",
       " 'data/lake/lake_349.jpg',\n",
       " 'data/lake/lake_569.jpg',\n",
       " 'data/lake/lake_347.jpg',\n",
       " 'data/lake/lake_061.jpg',\n",
       " 'data/lake/lake_134.jpg',\n",
       " 'data/lake/lake_141.jpg',\n",
       " 'data/lake/lake_127.jpg',\n",
       " 'data/lake/lake_094.jpg',\n",
       " 'data/lake/lake_595.jpg',\n",
       " 'data/lake/lake_630.jpg',\n",
       " 'data/lake/lake_270.jpg',\n",
       " 'data/lake/lake_487.jpg',\n",
       " 'data/lake/lake_536.jpg',\n",
       " 'data/lake/lake_697.jpg',\n",
       " 'data/lake/lake_654.jpg',\n",
       " 'data/lake/lake_414.jpg',\n",
       " 'data/lake/lake_240.jpg',\n",
       " 'data/lake/lake_200.jpg',\n",
       " 'data/lake/lake_157.jpg',\n",
       " 'data/lake/lake_311.jpg',\n",
       " 'data/lake/lake_392.jpg',\n",
       " 'data/lake/lake_690.jpg',\n",
       " 'data/lake/lake_500.jpg',\n",
       " 'data/lake/lake_057.jpg',\n",
       " 'data/lake/lake_242.jpg',\n",
       " 'data/lake/lake_050.jpg',\n",
       " 'data/lake/lake_504.jpg',\n",
       " 'data/lake/lake_019.jpg',\n",
       " 'data/lake/lake_185.jpg',\n",
       " 'data/lake/lake_218.jpg',\n",
       " 'data/lake/lake_641.jpg',\n",
       " 'data/lake/lake_575.jpg',\n",
       " 'data/lake/lake_511.jpg',\n",
       " 'data/lake/lake_471.jpg',\n",
       " 'data/lake/lake_367.jpg',\n",
       " 'data/lake/lake_546.jpg',\n",
       " 'data/lake/lake_574.jpg',\n",
       " 'data/lake/lake_343.jpg',\n",
       " 'data/lake/lake_486.jpg',\n",
       " 'data/lake/lake_150.jpg',\n",
       " 'data/lake/lake_666.jpg',\n",
       " 'data/lake/lake_256.jpg',\n",
       " 'data/lake/lake_380.jpg',\n",
       " 'data/lake/lake_282.jpg',\n",
       " 'data/lake/lake_440.jpg',\n",
       " 'data/lake/lake_422.jpg',\n",
       " 'data/lake/lake_178.jpg',\n",
       " 'data/lake/lake_031.jpg',\n",
       " 'data/lake/lake_525.jpg',\n",
       " 'data/lake/lake_336.jpg',\n",
       " 'data/lake/lake_103.jpg',\n",
       " 'data/lake/lake_002.jpg',\n",
       " 'data/lake/lake_337.jpg',\n",
       " 'data/lake/lake_556.jpg',\n",
       " 'data/lake/lake_659.jpg',\n",
       " 'data/lake/lake_247.jpg',\n",
       " 'data/lake/lake_681.jpg',\n",
       " 'data/lake/lake_032.jpg',\n",
       " 'data/lake/lake_418.jpg',\n",
       " 'data/lake/lake_443.jpg',\n",
       " 'data/lake/lake_385.jpg',\n",
       " 'data/lake/lake_206.jpg',\n",
       " 'data/lake/lake_220.jpg',\n",
       " 'data/lake/lake_372.jpg',\n",
       " 'data/lake/lake_144.jpg',\n",
       " 'data/lake/lake_325.jpg',\n",
       " 'data/lake/lake_215.jpg',\n",
       " 'data/lake/lake_112.jpg',\n",
       " 'data/lake/lake_391.jpg',\n",
       " 'data/lake/lake_451.jpg',\n",
       " 'data/lake/lake_672.jpg',\n",
       " 'data/lake/lake_700.jpg',\n",
       " 'data/lake/lake_479.jpg',\n",
       " 'data/lake/lake_118.jpg',\n",
       " 'data/lake/lake_154.jpg',\n",
       " 'data/lake/lake_332.jpg',\n",
       " 'data/lake/lake_502.jpg',\n",
       " 'data/lake/lake_669.jpg',\n",
       " 'data/lake/lake_570.jpg',\n",
       " 'data/lake/lake_295.jpg',\n",
       " 'data/lake/lake_698.jpg',\n",
       " 'data/lake/lake_661.jpg',\n",
       " 'data/lake/lake_180.jpg',\n",
       " 'data/lake/lake_606.jpg',\n",
       " 'data/airplane/airplane_029.jpg',\n",
       " 'data/airplane/airplane_605.jpg',\n",
       " 'data/airplane/airplane_268.jpg',\n",
       " 'data/airplane/airplane_178.jpg',\n",
       " 'data/airplane/airplane_550.jpg',\n",
       " 'data/airplane/airplane_388.jpg',\n",
       " 'data/airplane/airplane_583.jpg',\n",
       " 'data/airplane/airplane_263.jpg',\n",
       " 'data/airplane/airplane_486.jpg',\n",
       " 'data/airplane/airplane_158.jpg',\n",
       " 'data/airplane/airplane_511.jpg',\n",
       " 'data/airplane/airplane_647.jpg',\n",
       " 'data/airplane/airplane_564.jpg',\n",
       " 'data/airplane/airplane_692.jpg',\n",
       " 'data/airplane/airplane_075.jpg',\n",
       " 'data/airplane/airplane_462.jpg',\n",
       " 'data/airplane/airplane_133.jpg',\n",
       " 'data/airplane/airplane_269.jpg',\n",
       " 'data/airplane/airplane_580.jpg',\n",
       " 'data/airplane/airplane_635.jpg',\n",
       " 'data/airplane/airplane_300.jpg',\n",
       " 'data/airplane/airplane_399.jpg',\n",
       " 'data/airplane/airplane_609.jpg',\n",
       " 'data/airplane/airplane_401.jpg',\n",
       " 'data/airplane/airplane_340.jpg',\n",
       " 'data/airplane/airplane_403.jpg',\n",
       " 'data/airplane/airplane_468.jpg',\n",
       " 'data/airplane/airplane_065.jpg',\n",
       " 'data/airplane/airplane_130.jpg',\n",
       " 'data/airplane/airplane_577.jpg',\n",
       " 'data/airplane/airplane_592.jpg',\n",
       " 'data/airplane/airplane_528.jpg',\n",
       " 'data/airplane/airplane_345.jpg',\n",
       " 'data/airplane/airplane_509.jpg',\n",
       " 'data/airplane/airplane_460.jpg',\n",
       " 'data/airplane/airplane_576.jpg',\n",
       " 'data/airplane/airplane_328.jpg',\n",
       " 'data/airplane/airplane_387.jpg',\n",
       " 'data/airplane/airplane_673.jpg',\n",
       " 'data/airplane/airplane_560.jpg',\n",
       " 'data/airplane/airplane_424.jpg',\n",
       " 'data/airplane/airplane_149.jpg',\n",
       " 'data/airplane/airplane_434.jpg',\n",
       " 'data/airplane/airplane_277.jpg',\n",
       " 'data/airplane/airplane_471.jpg',\n",
       " 'data/airplane/airplane_012.jpg',\n",
       " 'data/airplane/airplane_342.jpg',\n",
       " 'data/airplane/airplane_090.jpg',\n",
       " 'data/airplane/airplane_250.jpg',\n",
       " 'data/airplane/airplane_282.jpg',\n",
       " 'data/airplane/airplane_530.jpg',\n",
       " 'data/airplane/airplane_080.jpg',\n",
       " 'data/airplane/airplane_099.jpg',\n",
       " 'data/airplane/airplane_039.jpg',\n",
       " 'data/airplane/airplane_241.jpg',\n",
       " 'data/airplane/airplane_058.jpg',\n",
       " 'data/airplane/airplane_563.jpg',\n",
       " 'data/airplane/airplane_361.jpg',\n",
       " 'data/airplane/airplane_201.jpg',\n",
       " 'data/airplane/airplane_409.jpg',\n",
       " 'data/airplane/airplane_666.jpg',\n",
       " 'data/airplane/airplane_642.jpg',\n",
       " 'data/airplane/airplane_356.jpg',\n",
       " 'data/airplane/airplane_575.jpg',\n",
       " 'data/airplane/airplane_408.jpg',\n",
       " 'data/airplane/airplane_355.jpg',\n",
       " 'data/airplane/airplane_348.jpg',\n",
       " 'data/airplane/airplane_697.jpg',\n",
       " 'data/airplane/airplane_523.jpg',\n",
       " 'data/airplane/airplane_276.jpg',\n",
       " 'data/airplane/airplane_393.jpg',\n",
       " 'data/airplane/airplane_097.jpg',\n",
       " 'data/airplane/airplane_159.jpg',\n",
       " 'data/airplane/airplane_044.jpg',\n",
       " 'data/airplane/airplane_597.jpg',\n",
       " 'data/airplane/airplane_390.jpg',\n",
       " 'data/airplane/airplane_111.jpg',\n",
       " 'data/airplane/airplane_649.jpg',\n",
       " 'data/airplane/airplane_026.jpg',\n",
       " 'data/airplane/airplane_089.jpg',\n",
       " 'data/airplane/airplane_037.jpg',\n",
       " 'data/airplane/airplane_657.jpg',\n",
       " 'data/airplane/airplane_191.jpg',\n",
       " 'data/airplane/airplane_155.jpg',\n",
       " 'data/airplane/airplane_038.jpg',\n",
       " 'data/airplane/airplane_307.jpg',\n",
       " 'data/airplane/airplane_526.jpg',\n",
       " 'data/airplane/airplane_208.jpg',\n",
       " 'data/airplane/airplane_451.jpg',\n",
       " 'data/airplane/airplane_273.jpg',\n",
       " 'data/airplane/airplane_613.jpg',\n",
       " 'data/airplane/airplane_190.jpg',\n",
       " 'data/airplane/airplane_497.jpg',\n",
       " 'data/airplane/airplane_115.jpg',\n",
       " 'data/airplane/airplane_643.jpg',\n",
       " 'data/airplane/airplane_140.jpg',\n",
       " 'data/airplane/airplane_488.jpg',\n",
       " 'data/airplane/airplane_379.jpg',\n",
       " 'data/airplane/airplane_374.jpg',\n",
       " 'data/airplane/airplane_373.jpg',\n",
       " 'data/airplane/airplane_651.jpg',\n",
       " 'data/airplane/airplane_281.jpg',\n",
       " 'data/airplane/airplane_685.jpg',\n",
       " 'data/airplane/airplane_588.jpg',\n",
       " 'data/airplane/airplane_645.jpg',\n",
       " 'data/airplane/airplane_288.jpg',\n",
       " 'data/airplane/airplane_691.jpg',\n",
       " 'data/airplane/airplane_032.jpg',\n",
       " 'data/airplane/airplane_078.jpg',\n",
       " 'data/airplane/airplane_020.jpg',\n",
       " 'data/airplane/airplane_417.jpg',\n",
       " 'data/airplane/airplane_546.jpg',\n",
       " 'data/airplane/airplane_200.jpg',\n",
       " 'data/airplane/airplane_316.jpg',\n",
       " 'data/airplane/airplane_428.jpg',\n",
       " 'data/airplane/airplane_031.jpg',\n",
       " 'data/airplane/airplane_398.jpg',\n",
       " 'data/airplane/airplane_422.jpg',\n",
       " 'data/airplane/airplane_305.jpg',\n",
       " 'data/airplane/airplane_294.jpg',\n",
       " 'data/airplane/airplane_176.jpg',\n",
       " 'data/airplane/airplane_128.jpg',\n",
       " 'data/airplane/airplane_519.jpg',\n",
       " 'data/airplane/airplane_341.jpg',\n",
       " 'data/airplane/airplane_544.jpg',\n",
       " 'data/airplane/airplane_010.jpg',\n",
       " 'data/airplane/airplane_153.jpg',\n",
       " 'data/airplane/airplane_135.jpg',\n",
       " 'data/airplane/airplane_623.jpg',\n",
       " 'data/airplane/airplane_445.jpg',\n",
       " 'data/airplane/airplane_147.jpg',\n",
       " 'data/airplane/airplane_616.jpg',\n",
       " 'data/airplane/airplane_014.jpg',\n",
       " 'data/airplane/airplane_698.jpg',\n",
       " 'data/airplane/airplane_473.jpg',\n",
       " 'data/airplane/airplane_464.jpg',\n",
       " 'data/airplane/airplane_067.jpg',\n",
       " 'data/airplane/airplane_571.jpg',\n",
       " 'data/airplane/airplane_541.jpg',\n",
       " 'data/airplane/airplane_275.jpg',\n",
       " 'data/airplane/airplane_637.jpg',\n",
       " 'data/airplane/airplane_274.jpg',\n",
       " 'data/airplane/airplane_073.jpg',\n",
       " 'data/airplane/airplane_380.jpg',\n",
       " 'data/airplane/airplane_064.jpg',\n",
       " 'data/airplane/airplane_060.jpg',\n",
       " 'data/airplane/airplane_125.jpg',\n",
       " 'data/airplane/airplane_525.jpg',\n",
       " 'data/airplane/airplane_259.jpg',\n",
       " 'data/airplane/airplane_491.jpg',\n",
       " 'data/airplane/airplane_333.jpg',\n",
       " 'data/airplane/airplane_179.jpg',\n",
       " 'data/airplane/airplane_512.jpg',\n",
       " 'data/airplane/airplane_056.jpg',\n",
       " 'data/airplane/airplane_482.jpg',\n",
       " 'data/airplane/airplane_694.jpg',\n",
       " 'data/airplane/airplane_481.jpg',\n",
       " 'data/airplane/airplane_598.jpg',\n",
       " 'data/airplane/airplane_413.jpg',\n",
       " 'data/airplane/airplane_376.jpg',\n",
       " 'data/airplane/airplane_603.jpg',\n",
       " 'data/airplane/airplane_069.jpg',\n",
       " 'data/airplane/airplane_161.jpg',\n",
       " 'data/airplane/airplane_458.jpg',\n",
       " 'data/airplane/airplane_671.jpg',\n",
       " 'data/airplane/airplane_045.jpg',\n",
       " 'data/airplane/airplane_313.jpg',\n",
       " 'data/airplane/airplane_688.jpg',\n",
       " 'data/airplane/airplane_123.jpg',\n",
       " 'data/airplane/airplane_291.jpg',\n",
       " 'data/airplane/airplane_289.jpg',\n",
       " 'data/airplane/airplane_011.jpg',\n",
       " 'data/airplane/airplane_568.jpg',\n",
       " 'data/airplane/airplane_410.jpg',\n",
       " 'data/airplane/airplane_690.jpg',\n",
       " 'data/airplane/airplane_100.jpg',\n",
       " 'data/airplane/airplane_217.jpg',\n",
       " 'data/airplane/airplane_083.jpg',\n",
       " 'data/airplane/airplane_171.jpg',\n",
       " 'data/airplane/airplane_574.jpg',\n",
       " 'data/airplane/airplane_169.jpg',\n",
       " 'data/airplane/airplane_543.jpg',\n",
       " 'data/airplane/airplane_684.jpg',\n",
       " 'data/airplane/airplane_081.jpg',\n",
       " 'data/airplane/airplane_687.jpg',\n",
       " 'data/airplane/airplane_518.jpg',\n",
       " 'data/airplane/airplane_213.jpg',\n",
       " 'data/airplane/airplane_017.jpg',\n",
       " 'data/airplane/airplane_198.jpg',\n",
       " 'data/airplane/airplane_450.jpg',\n",
       " 'data/airplane/airplane_455.jpg',\n",
       " 'data/airplane/airplane_402.jpg',\n",
       " 'data/airplane/airplane_652.jpg',\n",
       " 'data/airplane/airplane_063.jpg',\n",
       " 'data/airplane/airplane_009.jpg',\n",
       " 'data/airplane/airplane_599.jpg',\n",
       " 'data/airplane/airplane_554.jpg',\n",
       " 'data/airplane/airplane_192.jpg',\n",
       " 'data/airplane/airplane_151.jpg',\n",
       " 'data/airplane/airplane_207.jpg',\n",
       " 'data/airplane/airplane_041.jpg',\n",
       " 'data/airplane/airplane_362.jpg',\n",
       " 'data/airplane/airplane_228.jpg',\n",
       " 'data/airplane/airplane_150.jpg',\n",
       " 'data/airplane/airplane_615.jpg',\n",
       " 'data/airplane/airplane_431.jpg',\n",
       " 'data/airplane/airplane_152.jpg',\n",
       " 'data/airplane/airplane_347.jpg',\n",
       " 'data/airplane/airplane_280.jpg',\n",
       " 'data/airplane/airplane_248.jpg',\n",
       " 'data/airplane/airplane_532.jpg',\n",
       " 'data/airplane/airplane_205.jpg',\n",
       " 'data/airplane/airplane_203.jpg',\n",
       " 'data/airplane/airplane_626.jpg',\n",
       " 'data/airplane/airplane_322.jpg',\n",
       " 'data/airplane/airplane_298.jpg',\n",
       " 'data/airplane/airplane_606.jpg',\n",
       " 'data/airplane/airplane_102.jpg',\n",
       " 'data/airplane/airplane_231.jpg',\n",
       " 'data/airplane/airplane_219.jpg',\n",
       " 'data/airplane/airplane_311.jpg',\n",
       " 'data/airplane/airplane_233.jpg',\n",
       " 'data/airplane/airplane_591.jpg',\n",
       " 'data/airplane/airplane_397.jpg',\n",
       " 'data/airplane/airplane_202.jpg',\n",
       " 'data/airplane/airplane_484.jpg',\n",
       " 'data/airplane/airplane_018.jpg',\n",
       " 'data/airplane/airplane_160.jpg',\n",
       " 'data/airplane/airplane_244.jpg',\n",
       " 'data/airplane/airplane_383.jpg',\n",
       " 'data/airplane/airplane_660.jpg',\n",
       " 'data/airplane/airplane_246.jpg',\n",
       " 'data/airplane/airplane_253.jpg',\n",
       " 'data/airplane/airplane_596.jpg',\n",
       " 'data/airplane/airplane_502.jpg',\n",
       " 'data/airplane/airplane_214.jpg',\n",
       " 'data/airplane/airplane_662.jpg',\n",
       " 'data/airplane/airplane_520.jpg',\n",
       " 'data/airplane/airplane_499.jpg',\n",
       " 'data/airplane/airplane_019.jpg',\n",
       " 'data/airplane/airplane_284.jpg',\n",
       " 'data/airplane/airplane_648.jpg',\n",
       " 'data/airplane/airplane_209.jpg',\n",
       " 'data/airplane/airplane_286.jpg',\n",
       " 'data/airplane/airplane_545.jpg',\n",
       " 'data/airplane/airplane_510.jpg',\n",
       " 'data/airplane/airplane_524.jpg',\n",
       " 'data/airplane/airplane_237.jpg',\n",
       " 'data/airplane/airplane_527.jpg',\n",
       " 'data/airplane/airplane_561.jpg',\n",
       " 'data/airplane/airplane_076.jpg',\n",
       " 'data/airplane/airplane_053.jpg',\n",
       " 'data/airplane/airplane_251.jpg',\n",
       " 'data/airplane/airplane_309.jpg',\n",
       " 'data/airplane/airplane_567.jpg',\n",
       " 'data/airplane/airplane_239.jpg',\n",
       " 'data/airplane/airplane_496.jpg',\n",
       " 'data/airplane/airplane_602.jpg',\n",
       " 'data/airplane/airplane_025.jpg',\n",
       " 'data/airplane/airplane_578.jpg',\n",
       " 'data/airplane/airplane_317.jpg',\n",
       " 'data/airplane/airplane_337.jpg',\n",
       " 'data/airplane/airplane_098.jpg',\n",
       " 'data/airplane/airplane_324.jpg',\n",
       " 'data/airplane/airplane_440.jpg',\n",
       " 'data/airplane/airplane_614.jpg',\n",
       " 'data/airplane/airplane_234.jpg',\n",
       " 'data/airplane/airplane_622.jpg',\n",
       " 'data/airplane/airplane_247.jpg',\n",
       " 'data/airplane/airplane_013.jpg',\n",
       " 'data/airplane/airplane_467.jpg',\n",
       " 'data/airplane/airplane_423.jpg',\n",
       " 'data/airplane/airplane_215.jpg',\n",
       " 'data/airplane/airplane_641.jpg',\n",
       " 'data/airplane/airplane_312.jpg',\n",
       " 'data/airplane/airplane_594.jpg',\n",
       " 'data/airplane/airplane_139.jpg',\n",
       " 'data/airplane/airplane_320.jpg',\n",
       " 'data/airplane/airplane_232.jpg',\n",
       " 'data/airplane/airplane_555.jpg',\n",
       " 'data/airplane/airplane_245.jpg',\n",
       " 'data/airplane/airplane_131.jpg',\n",
       " 'data/airplane/airplane_492.jpg',\n",
       " 'data/airplane/airplane_261.jpg',\n",
       " 'data/airplane/airplane_091.jpg',\n",
       " 'data/airplane/airplane_529.jpg',\n",
       " 'data/airplane/airplane_088.jpg',\n",
       " 'data/airplane/airplane_558.jpg',\n",
       " 'data/airplane/airplane_472.jpg',\n",
       " 'data/airplane/airplane_610.jpg',\n",
       " 'data/airplane/airplane_682.jpg',\n",
       " 'data/airplane/airplane_134.jpg',\n",
       " 'data/airplane/airplane_442.jpg',\n",
       " 'data/airplane/airplane_023.jpg',\n",
       " 'data/airplane/airplane_638.jpg',\n",
       " 'data/airplane/airplane_432.jpg',\n",
       " 'data/airplane/airplane_180.jpg',\n",
       " 'data/airplane/airplane_675.jpg',\n",
       " 'data/airplane/airplane_553.jpg',\n",
       " 'data/airplane/airplane_589.jpg',\n",
       " ...]"
      ]
     },
     "execution_count": 45,
     "metadata": {},
     "output_type": "execute_result"
    }
   ],
   "source": [
    "all_image_path = [str(x) for x in all_image_path]\n",
    "img_path = all_image_path\n",
    "img_path"
   ]
  },
  {
   "cell_type": "code",
   "execution_count": 47,
   "metadata": {},
   "outputs": [
    {
     "name": "stdout",
     "output_type": "stream",
     "text": [
      "<tf.Tensor: id=3, shape=(), dtype=string, numpy=b'\\xff\\xd8\\xff\\xe0\\x00\\x10JFIF\\x00\\x01\\x01\\x00\\x00\\x...\n"
     ]
    }
   ],
   "source": [
    "img_raw = tf.io.read_file(img_path[0])\n",
    "print(repr(img_raw)[:100]+\"...\")"
   ]
  },
  {
   "cell_type": "code",
   "execution_count": 48,
   "metadata": {},
   "outputs": [
    {
     "name": "stdout",
     "output_type": "stream",
     "text": [
      "(256, 256, 3)\n",
      "<dtype: 'uint8'>\n"
     ]
    }
   ],
   "source": [
    "img_tensor = tf.image.decode_image(img_raw)\n",
    "\n",
    "print(img_tensor.shape)\n",
    "print(img_tensor.dtype)"
   ]
  },
  {
   "cell_type": "code",
   "execution_count": 49,
   "metadata": {},
   "outputs": [],
   "source": [
    "img_tensor = tf.cast(img_tensor, tf.float32)\n"
   ]
  },
  {
   "cell_type": "code",
   "execution_count": 50,
   "metadata": {},
   "outputs": [
    {
     "data": {
      "text/plain": [
       "tf.float32"
      ]
     },
     "execution_count": 50,
     "metadata": {},
     "output_type": "execute_result"
    }
   ],
   "source": [
    "img_tensor.dtype"
   ]
  },
  {
   "cell_type": "code",
   "execution_count": 51,
   "metadata": {},
   "outputs": [
    {
     "name": "stdout",
     "output_type": "stream",
     "text": [
      "(256, 256, 3)\n",
      "0.0\n",
      "1.0\n"
     ]
    }
   ],
   "source": [
    "img_final = img_tensor/255.0\n",
    "print(img_final.shape)\n",
    "print(img_final.numpy().min())\n",
    "print(img_final.numpy().max())"
   ]
  },
  {
   "cell_type": "code",
   "execution_count": 52,
   "metadata": {},
   "outputs": [],
   "source": [
    "def load_and_preprocess_image(path):\n",
    "    image = tf.io.read_file(path)\n",
    "    image = tf.image.decode_jpeg(image, channels=3)\n",
    "    image = tf.image.resize(image, [256, 256])\n",
    "    image = tf.cast(image, tf.float32)\n",
    "    image = image/255.0  # normalize to [0,1] range\n",
    "    return image"
   ]
  },
  {
   "cell_type": "code",
   "execution_count": 58,
   "metadata": {},
   "outputs": [
    {
     "name": "stdout",
     "output_type": "stream",
     "text": [
      "data/lake/lake_276.jpg\n",
      "\n"
     ]
    },
    {
     "data": {
      "image/png": "[encoded data removed]",
      "text/plain": [
       "<Figure size 432x288 with 1 Axes>"
      ]
     },
     "metadata": {
      "needs_background": "light"
     },
     "output_type": "display_data"
    }
   ],
   "source": [
    "import matplotlib.pyplot as plt\n",
    "\n",
    "image_path = all_image_path[0]\n",
    "label = all_image_labels[0]\n",
    "print(image_path)\n",
    "plt.imshow(load_and_preprocess_image(image_path))\n",
    "plt.grid(False)\n",
    "plt.xlabel(caption_image(label))\n",
    "print()"
   ]
  },
  {
   "cell_type": "code",
   "execution_count": 59,
   "metadata": {},
   "outputs": [],
   "source": [
    "path_ds = tf.data.Dataset.from_tensor_slices(all_image_path)"
   ]
  },
  {
   "cell_type": "code",
   "execution_count": 61,
   "metadata": {},
   "outputs": [
    {
     "name": "stdout",
     "output_type": "stream",
     "text": [
      "b'data/lake/lake_276.jpg'\n",
      "b'data/lake/lake_645.jpg'\n",
      "b'data/lake/lake_301.jpg'\n"
     ]
    }
   ],
   "source": [
    "for item in path_ds.take(3):\n",
    "    print(item.numpy())"
   ]
  },
  {
   "cell_type": "code",
   "execution_count": 62,
   "metadata": {},
   "outputs": [],
   "source": [
    "AUTOTUNE = tf.data.experimental.AUTOTUNE\n",
    "image_ds = path_ds.map(load_and_preprocess_image, num_parallel_calls=AUTOTUNE)"
   ]
  },
  {
   "cell_type": "code",
   "execution_count": 63,
   "metadata": {},
   "outputs": [],
   "source": [
    "label_ds = tf.data.Dataset.from_tensor_slices(tf.cast(all_image_labels, tf.int64))"
   ]
  },
  {
   "cell_type": "code",
   "execution_count": 64,
   "metadata": {},
   "outputs": [
    {
     "name": "stdout",
     "output_type": "stream",
     "text": [
      "1\n",
      "1\n",
      "1\n"
     ]
    }
   ],
   "source": [
    "for item in label_ds.take(3):\n",
    "    print(item.numpy())"
   ]
  },
  {
   "cell_type": "code",
   "execution_count": 65,
   "metadata": {},
   "outputs": [
    {
     "name": "stdout",
     "output_type": "stream",
     "text": [
      "lake\n",
      "lake\n",
      "lake\n",
      "lake\n",
      "lake\n",
      "lake\n",
      "lake\n",
      "lake\n",
      "lake\n",
      "lake\n"
     ]
    }
   ],
   "source": [
    "for label in label_ds.take(10):\n",
    "    print(label_names[label.numpy()])"
   ]
  },
  {
   "cell_type": "code",
   "execution_count": 66,
   "metadata": {},
   "outputs": [],
   "source": [
    "image_label_ds = tf.data.Dataset.zip((image_ds, label_ds))"
   ]
  },
  {
   "cell_type": "code",
   "execution_count": 70,
   "metadata": {},
   "outputs": [
    {
     "data": {
      "text/plain": [
       "<ZipDataset shapes: ((256, 256, 3), ()), types: (tf.float32, tf.int64)>"
      ]
     },
     "execution_count": 70,
     "metadata": {},
     "output_type": "execute_result"
    }
   ],
   "source": [
    "image_label_ds"
   ]
  },
  {
   "cell_type": "code",
   "execution_count": 71,
   "metadata": {},
   "outputs": [],
   "source": [
    "test_count = int(image_count*0.2)\n",
    "train_count = image_count - test_count"
   ]
  },
  {
   "cell_type": "code",
   "execution_count": 72,
   "metadata": {},
   "outputs": [],
   "source": [
    "train_data = image_label_ds.skip(test_count)\n",
    "\n",
    "test_data = image_label_ds.take(test_count)"
   ]
  },
  {
   "cell_type": "code",
   "execution_count": 73,
   "metadata": {},
   "outputs": [],
   "source": [
    "BATCH_SIZE = 32"
   ]
  },
  {
   "cell_type": "code",
   "execution_count": 74,
   "metadata": {},
   "outputs": [
    {
     "name": "stdout",
     "output_type": "stream",
     "text": [
      "WARNING:tensorflow:From <ipython-input-74-cd8aa89d6580>:2: shuffle_and_repeat (from tensorflow.python.data.experimental.ops.shuffle_ops) is deprecated and will be removed in a future version.\n",
      "Instructions for updating:\n",
      "Use `tf.data.Dataset.shuffle(buffer_size, seed)` followed by `tf.data.Dataset.repeat(count)`. Static tf.data optimizations will take care of using the fused implementation.\n"
     ]
    },
    {
     "data": {
      "text/plain": [
       "<PrefetchDataset shapes: ((None, 256, 256, 3), (None,)), types: (tf.float32, tf.int64)>"
      ]
     },
     "execution_count": 74,
     "metadata": {},
     "output_type": "execute_result"
    }
   ],
   "source": [
    "train_data = train_data.apply(\n",
    "tf.data.experimental.shuffle_and_repeat(buffer_size=train_count))\n",
    "train_data = train_data.batch(BATCH_SIZE)\n",
    "train_data = train_data.prefetch(buffer_size=AUTOTUNE)\n",
    "train_data"
   ]
  },
  {
   "cell_type": "code",
   "execution_count": 76,
   "metadata": {},
   "outputs": [],
   "source": [
    "test_data = test_data.batch(BATCH_SIZE)"
   ]
  },
  {
   "cell_type": "code",
   "execution_count": 77,
   "metadata": {},
   "outputs": [],
   "source": [
    "model = tf.keras.Sequential()   #顺序模型\n",
    "model.add(tf.keras.layers.Conv2D(64, (3, 3), input_shape=(256, 256, 3), activation='relu'))\n",
    "model.add(tf.keras.layers.Conv2D(64, (3, 3), activation='relu'))\n",
    "model.add(tf.keras.layers.MaxPooling2D())\n",
    "model.add(tf.keras.layers.Conv2D(128, (3, 3), activation='relu'))\n",
    "model.add(tf.keras.layers.Conv2D(128, (3, 3), activation='relu'))\n",
    "model.add(tf.keras.layers.MaxPooling2D())\n",
    "model.add(tf.keras.layers.Conv2D(256, (3, 3), activation='relu'))\n",
    "model.add(tf.keras.layers.Conv2D(256, (3, 3), activation='relu'))\n",
    "model.add(tf.keras.layers.MaxPooling2D())\n",
    "model.add(tf.keras.layers.Conv2D(512, (3, 3), activation='relu'))\n",
    "model.add(tf.keras.layers.MaxPooling2D())\n",
    "model.add(tf.keras.layers.Conv2D(512, (3, 3), activation='relu'))\n",
    "model.add(tf.keras.layers.MaxPooling2D())\n",
    "model.add(tf.keras.layers.Conv2D(1024, (3, 3), activation='relu'))\n",
    "model.add(tf.keras.layers.GlobalAveragePooling2D())\n",
    "model.add(tf.keras.layers.Dense(1024, activation='relu'))\n",
    "model.add(tf.keras.layers.Dense(256, activation='relu'))\n",
    "model.add(tf.keras.layers.Dense(10, activation='softmax'))"
   ]
  },
  {
   "cell_type": "code",
   "execution_count": 78,
   "metadata": {},
   "outputs": [],
   "source": [
    "model.compile(optimizer='adam',\n",
    "              loss='sparse_categorical_crossentropy',\n",
    "              metrics=['acc']\n",
    ")"
   ]
  },
  {
   "cell_type": "code",
   "execution_count": 79,
   "metadata": {},
   "outputs": [],
   "source": [
    "steps_per_epoch = train_count//BATCH_SIZE\n",
    "validation_steps = test_count//BATCH_SIZE"
   ]
  },
  {
   "cell_type": "code",
   "execution_count": null,
   "metadata": {},
   "outputs": [
    {
     "name": "stdout",
     "output_type": "stream",
     "text": [
      "Epoch 1/30\n",
      "WARNING:tensorflow:From /usr/local/lib/python3.6/site-packages/tensorflow/python/ops/math_grad.py:1250: add_dispatch_support.<locals>.wrapper (from tensorflow.python.ops.array_ops) is deprecated and will be removed in a future version.\n",
      "Instructions for updating:\n",
      "Use tf.where in 2.0, which has the same broadcast rule as np.where\n"
     ]
    }
   ],
   "source": [
    "history = model.fit(train_data, epochs=30, steps_per_epoch=steps_per_epoch, validation_data=test_data, validation_steps=validation_steps)"
   ]
  },
  {
   "cell_type": "code",
   "execution_count": null,
   "metadata": {},
   "outputs": [],
   "source": []
  }
 ],
 "metadata": {
  "kernelspec": {
   "display_name": "Python 3",
   "language": "python",
   "name": "python3"
  },
  "language_info": {
   "codemirror_mode": {
    "name": "ipython",
    "version": 3
   },
   "file_extension": ".py",
   "mimetype": "text/x-python",
   "name": "python",
   "nbconvert_exporter": "python",
   "pygments_lexer": "ipython3",
   "version": "3.6.8"
  }
 },
 "nbformat": 4,
 "nbformat_minor": 2
}
