{
 "cells": [
  {
   "cell_type": "code",
   "execution_count": 1,
   "metadata": {},
   "outputs": [],
   "source": [
    "import tensorflow as tf"
   ]
  },
  {
   "cell_type": "code",
   "execution_count": 2,
   "metadata": {},
   "outputs": [
    {
     "name": "stdout",
     "output_type": "stream",
     "text": [
      "Tensorflow Version: 2.0.0-beta1\n"
     ]
    }
   ],
   "source": [
    "print('Tensorflow Version: {}'.format(tf.__version__))"
   ]
  },
  {
   "cell_type": "code",
   "execution_count": 10,
   "metadata": {},
   "outputs": [
    {
     "ename": "NameError",
     "evalue": "name 'credit' is not defined",
     "output_type": "error",
     "traceback": [
      "\u001b[0;31m---------------------------------------------------------------------------\u001b[0m",
      "\u001b[0;31mNameError\u001b[0m                                 Traceback (most recent call last)",
      "\u001b[0;32m<ipython-input-10-db0057de7fa5>\u001b[0m in \u001b[0;36m<module>\u001b[0;34m\u001b[0m\n\u001b[0;32m----> 1\u001b[0;31m \u001b[0mcredit\u001b[0m\u001b[0;34m-\u001b[0m\u001b[0ma\u001b[0m\u001b[0;34m.\u001b[0m\u001b[0mcsv\u001b[0m\u001b[0;34m\u001b[0m\u001b[0;34m\u001b[0m\u001b[0m\n\u001b[0m",
      "\u001b[0;31mNameError\u001b[0m: name 'credit' is not defined"
     ]
    }
   ],
   "source": [
    "credit-a.csv"
   ]
  },
  {
   "cell_type": "code",
   "execution_count": 3,
   "metadata": {},
   "outputs": [],
   "source": [
    "import pandas as pd\n",
    "import numpy as np\n",
    "import matplotlib.pyplot as plt\n",
    "%matplotlib inline"
   ]
  },
  {
   "cell_type": "code",
   "execution_count": 11,
   "metadata": {},
   "outputs": [],
   "source": [
    "data = pd.read_csv('../../credit-a.csv', header=None)"
   ]
  },
  {
   "cell_type": "code",
   "execution_count": 12,
   "metadata": {},
   "outputs": [
    {
     "data": {
      "text/html": [
       "<div>\n",
       "<style scoped>\n",
       "    .dataframe tbody tr th:only-of-type {\n",
       "        vertical-align: middle;\n",
       "    }\n",
       "\n",
       "    .dataframe tbody tr th {\n",
       "        vertical-align: top;\n",
       "    }\n",
       "\n",
       "    .dataframe thead th {\n",
       "        text-align: right;\n",
       "    }\n",
       "</style>\n",
       "<table border=\"1\" class=\"dataframe\">\n",
       "  <thead>\n",
       "    <tr style=\"text-align: right;\">\n",
       "      <th></th>\n",
       "      <th>0</th>\n",
       "      <th>1</th>\n",
       "      <th>2</th>\n",
       "      <th>3</th>\n",
       "      <th>4</th>\n",
       "      <th>5</th>\n",
       "      <th>6</th>\n",
       "      <th>7</th>\n",
       "      <th>8</th>\n",
       "      <th>9</th>\n",
       "      <th>10</th>\n",
       "      <th>11</th>\n",
       "      <th>12</th>\n",
       "      <th>13</th>\n",
       "      <th>14</th>\n",
       "      <th>15</th>\n",
       "    </tr>\n",
       "  </thead>\n",
       "  <tbody>\n",
       "    <tr>\n",
       "      <th>0</th>\n",
       "      <td>0</td>\n",
       "      <td>30.83</td>\n",
       "      <td>0.000</td>\n",
       "      <td>0</td>\n",
       "      <td>0</td>\n",
       "      <td>9</td>\n",
       "      <td>0</td>\n",
       "      <td>1.25</td>\n",
       "      <td>0</td>\n",
       "      <td>0</td>\n",
       "      <td>1</td>\n",
       "      <td>1</td>\n",
       "      <td>0</td>\n",
       "      <td>202</td>\n",
       "      <td>0.0</td>\n",
       "      <td>-1</td>\n",
       "    </tr>\n",
       "    <tr>\n",
       "      <th>1</th>\n",
       "      <td>1</td>\n",
       "      <td>58.67</td>\n",
       "      <td>4.460</td>\n",
       "      <td>0</td>\n",
       "      <td>0</td>\n",
       "      <td>8</td>\n",
       "      <td>1</td>\n",
       "      <td>3.04</td>\n",
       "      <td>0</td>\n",
       "      <td>0</td>\n",
       "      <td>6</td>\n",
       "      <td>1</td>\n",
       "      <td>0</td>\n",
       "      <td>43</td>\n",
       "      <td>560.0</td>\n",
       "      <td>-1</td>\n",
       "    </tr>\n",
       "    <tr>\n",
       "      <th>2</th>\n",
       "      <td>1</td>\n",
       "      <td>24.50</td>\n",
       "      <td>0.500</td>\n",
       "      <td>0</td>\n",
       "      <td>0</td>\n",
       "      <td>8</td>\n",
       "      <td>1</td>\n",
       "      <td>1.50</td>\n",
       "      <td>0</td>\n",
       "      <td>1</td>\n",
       "      <td>0</td>\n",
       "      <td>1</td>\n",
       "      <td>0</td>\n",
       "      <td>280</td>\n",
       "      <td>824.0</td>\n",
       "      <td>-1</td>\n",
       "    </tr>\n",
       "    <tr>\n",
       "      <th>3</th>\n",
       "      <td>0</td>\n",
       "      <td>27.83</td>\n",
       "      <td>1.540</td>\n",
       "      <td>0</td>\n",
       "      <td>0</td>\n",
       "      <td>9</td>\n",
       "      <td>0</td>\n",
       "      <td>3.75</td>\n",
       "      <td>0</td>\n",
       "      <td>0</td>\n",
       "      <td>5</td>\n",
       "      <td>0</td>\n",
       "      <td>0</td>\n",
       "      <td>100</td>\n",
       "      <td>3.0</td>\n",
       "      <td>-1</td>\n",
       "    </tr>\n",
       "    <tr>\n",
       "      <th>4</th>\n",
       "      <td>0</td>\n",
       "      <td>20.17</td>\n",
       "      <td>5.625</td>\n",
       "      <td>0</td>\n",
       "      <td>0</td>\n",
       "      <td>9</td>\n",
       "      <td>0</td>\n",
       "      <td>1.71</td>\n",
       "      <td>0</td>\n",
       "      <td>1</td>\n",
       "      <td>0</td>\n",
       "      <td>1</td>\n",
       "      <td>2</td>\n",
       "      <td>120</td>\n",
       "      <td>0.0</td>\n",
       "      <td>-1</td>\n",
       "    </tr>\n",
       "  </tbody>\n",
       "</table>\n",
       "</div>"
      ],
      "text/plain": [
       "   0      1      2   3   4   5   6     7   8   9   10  11  12   13     14  15\n",
       "0   0  30.83  0.000   0   0   9   0  1.25   0   0   1   1   0  202    0.0  -1\n",
       "1   1  58.67  4.460   0   0   8   1  3.04   0   0   6   1   0   43  560.0  -1\n",
       "2   1  24.50  0.500   0   0   8   1  1.50   0   1   0   1   0  280  824.0  -1\n",
       "3   0  27.83  1.540   0   0   9   0  3.75   0   0   5   0   0  100    3.0  -1\n",
       "4   0  20.17  5.625   0   0   9   0  1.71   0   1   0   1   2  120    0.0  -1"
      ]
     },
     "execution_count": 12,
     "metadata": {},
     "output_type": "execute_result"
    }
   ],
   "source": [
    "data.head()"
   ]
  },
  {
   "cell_type": "code",
   "execution_count": 13,
   "metadata": {},
   "outputs": [
    {
     "data": {
      "text/plain": [
       " 1    357\n",
       "-1    296\n",
       "Name: 15, dtype: int64"
      ]
     },
     "execution_count": 13,
     "metadata": {},
     "output_type": "execute_result"
    }
   ],
   "source": [
    "data.iloc[:, -1].value_counts()"
   ]
  },
  {
   "cell_type": "code",
   "execution_count": 14,
   "metadata": {},
   "outputs": [],
   "source": [
    "x = data.iloc[:, :-1]\n",
    "y = data.iloc[:, -1].replace(-1, 0)"
   ]
  },
  {
   "cell_type": "code",
   "execution_count": 15,
   "metadata": {},
   "outputs": [],
   "source": [
    "model = tf.keras.Sequential()"
   ]
  },
  {
   "cell_type": "code",
   "execution_count": 16,
   "metadata": {},
   "outputs": [],
   "source": [
    "model.add(tf.keras.layers.Dense(4, input_shape=(15,), activation='relu'))\n",
    "model.add(tf.keras.layers.Dense(4, activation='relu'))\n",
    "model.add(tf.keras.layers.Dense(1, activation='sigmoid'))"
   ]
  },
  {
   "cell_type": "code",
   "execution_count": 17,
   "metadata": {},
   "outputs": [
    {
     "name": "stdout",
     "output_type": "stream",
     "text": [
      "Model: \"sequential\"\n",
      "_________________________________________________________________\n",
      "Layer (type)                 Output Shape              Param #   \n",
      "=================================================================\n",
      "dense (Dense)                (None, 4)                 64        \n",
      "_________________________________________________________________\n",
      "dense_1 (Dense)              (None, 4)                 20        \n",
      "_________________________________________________________________\n",
      "dense_2 (Dense)              (None, 1)                 5         \n",
      "=================================================================\n",
      "Total params: 89\n",
      "Trainable params: 89\n",
      "Non-trainable params: 0\n",
      "_________________________________________________________________\n"
     ]
    }
   ],
   "source": [
    "model.summary()"
   ]
  },
  {
   "cell_type": "code",
   "execution_count": 18,
   "metadata": {},
   "outputs": [],
   "source": [
    "model.compile(optimizer='adam',\n",
    "              loss='binary_crossentropy',\n",
    "              metrics=['acc']\n",
    ")"
   ]
  },
  {
   "cell_type": "code",
   "execution_count": 19,
   "metadata": {},
   "outputs": [
    {
     "name": "stdout",
     "output_type": "stream",
     "text": [
      "WARNING:tensorflow:From /usr/local/lib/python3.6/site-packages/tensorflow/python/ops/math_grad.py:1250: add_dispatch_support.<locals>.wrapper (from tensorflow.python.ops.array_ops) is deprecated and will be removed in a future version.\n",
      "Instructions for updating:\n",
      "Use tf.where in 2.0, which has the same broadcast rule as np.where\n",
      "Train on 653 samples\n",
      "Epoch 1/100\n",
      "653/653 [==============================] - 0s 346us/sample - loss: 3.8534 - acc: 0.6799\n",
      "Epoch 2/100\n",
      "653/653 [==============================] - 0s 42us/sample - loss: 3.8023 - acc: 0.6753\n",
      "Epoch 3/100\n",
      "653/653 [==============================] - 0s 40us/sample - loss: 3.7291 - acc: 0.6753\n",
      "Epoch 4/100\n",
      "653/653 [==============================] - 0s 37us/sample - loss: 3.6115 - acc: 0.6738\n",
      "Epoch 5/100\n",
      "653/653 [==============================] - 0s 40us/sample - loss: 3.4930 - acc: 0.6723\n",
      "Epoch 6/100\n",
      "653/653 [==============================] - 0s 40us/sample - loss: 3.3473 - acc: 0.6662\n",
      "Epoch 7/100\n",
      "653/653 [==============================] - 0s 37us/sample - loss: 3.1646 - acc: 0.6600\n",
      "Epoch 8/100\n",
      "653/653 [==============================] - 0s 40us/sample - loss: 2.9628 - acc: 0.6616\n",
      "Epoch 9/100\n",
      "653/653 [==============================] - 0s 43us/sample - loss: 2.7241 - acc: 0.6616\n",
      "Epoch 10/100\n",
      "653/653 [==============================] - 0s 37us/sample - loss: 2.4942 - acc: 0.6600\n",
      "Epoch 11/100\n",
      "653/653 [==============================] - 0s 39us/sample - loss: 2.3342 - acc: 0.6539\n",
      "Epoch 12/100\n",
      "653/653 [==============================] - 0s 37us/sample - loss: 2.2022 - acc: 0.6508\n",
      "Epoch 13/100\n",
      "653/653 [==============================] - 0s 39us/sample - loss: 2.0238 - acc: 0.6217\n",
      "Epoch 14/100\n",
      "653/653 [==============================] - 0s 39us/sample - loss: 1.7518 - acc: 0.6003\n",
      "Epoch 15/100\n",
      "653/653 [==============================] - 0s 46us/sample - loss: 1.5020 - acc: 0.5926\n",
      "Epoch 16/100\n",
      "653/653 [==============================] - 0s 39us/sample - loss: 1.2035 - acc: 0.5559\n",
      "Epoch 17/100\n",
      "653/653 [==============================] - 0s 40us/sample - loss: 0.9827 - acc: 0.5191\n",
      "Epoch 18/100\n",
      "653/653 [==============================] - 0s 44us/sample - loss: 0.8139 - acc: 0.4931\n",
      "Epoch 19/100\n",
      "653/653 [==============================] - 0s 40us/sample - loss: 0.7612 - acc: 0.4900\n",
      "Epoch 20/100\n",
      "653/653 [==============================] - 0s 43us/sample - loss: 0.7354 - acc: 0.4855\n",
      "Epoch 21/100\n",
      "653/653 [==============================] - 0s 40us/sample - loss: 0.7240 - acc: 0.4732\n",
      "Epoch 22/100\n",
      "653/653 [==============================] - 0s 39us/sample - loss: 0.7162 - acc: 0.4625\n",
      "Epoch 23/100\n",
      "653/653 [==============================] - 0s 39us/sample - loss: 0.7094 - acc: 0.6187\n",
      "Epoch 24/100\n",
      "653/653 [==============================] - 0s 40us/sample - loss: 0.7054 - acc: 0.6539\n",
      "Epoch 25/100\n",
      "653/653 [==============================] - 0s 39us/sample - loss: 0.6971 - acc: 0.6616\n",
      "Epoch 26/100\n",
      "653/653 [==============================] - 0s 40us/sample - loss: 0.6794 - acc: 0.6554\n",
      "Epoch 27/100\n",
      "653/653 [==============================] - 0s 40us/sample - loss: 0.6604 - acc: 0.6554\n",
      "Epoch 28/100\n",
      "653/653 [==============================] - 0s 39us/sample - loss: 0.6757 - acc: 0.6692\n",
      "Epoch 29/100\n",
      "653/653 [==============================] - 0s 37us/sample - loss: 0.6544 - acc: 0.6631\n",
      "Epoch 30/100\n",
      "653/653 [==============================] - 0s 42us/sample - loss: 0.6792 - acc: 0.6631\n",
      "Epoch 31/100\n",
      "653/653 [==============================] - 0s 41us/sample - loss: 0.6742 - acc: 0.6524\n",
      "Epoch 32/100\n",
      "653/653 [==============================] - 0s 49us/sample - loss: 0.6564 - acc: 0.6570\n",
      "Epoch 33/100\n",
      "653/653 [==============================] - 0s 39us/sample - loss: 0.6417 - acc: 0.6631\n",
      "Epoch 34/100\n",
      "653/653 [==============================] - 0s 58us/sample - loss: 0.6381 - acc: 0.6600\n",
      "Epoch 35/100\n",
      "653/653 [==============================] - 0s 44us/sample - loss: 0.6407 - acc: 0.6708\n",
      "Epoch 36/100\n",
      "653/653 [==============================] - 0s 39us/sample - loss: 0.6274 - acc: 0.6738\n",
      "Epoch 37/100\n",
      "653/653 [==============================] - 0s 47us/sample - loss: 0.6226 - acc: 0.6769\n",
      "Epoch 38/100\n",
      "653/653 [==============================] - 0s 42us/sample - loss: 0.6346 - acc: 0.6662\n",
      "Epoch 39/100\n",
      "653/653 [==============================] - 0s 46us/sample - loss: 0.6218 - acc: 0.6753\n",
      "Epoch 40/100\n",
      "653/653 [==============================] - 0s 41us/sample - loss: 0.6154 - acc: 0.6769\n",
      "Epoch 41/100\n",
      "653/653 [==============================] - 0s 51us/sample - loss: 0.6216 - acc: 0.6738\n",
      "Epoch 42/100\n",
      "653/653 [==============================] - 0s 41us/sample - loss: 0.6171 - acc: 0.6769\n",
      "Epoch 43/100\n",
      "653/653 [==============================] - 0s 43us/sample - loss: 0.6122 - acc: 0.6784\n",
      "Epoch 44/100\n",
      "653/653 [==============================] - 0s 43us/sample - loss: 0.6163 - acc: 0.6753\n",
      "Epoch 45/100\n",
      "653/653 [==============================] - 0s 42us/sample - loss: 0.6150 - acc: 0.6753\n",
      "Epoch 46/100\n",
      "653/653 [==============================] - 0s 38us/sample - loss: 0.6279 - acc: 0.6708\n",
      "Epoch 47/100\n",
      "653/653 [==============================] - 0s 39us/sample - loss: 0.6090 - acc: 0.6738\n",
      "Epoch 48/100\n",
      "653/653 [==============================] - 0s 37us/sample - loss: 0.6135 - acc: 0.6753\n",
      "Epoch 49/100\n",
      "653/653 [==============================] - 0s 40us/sample - loss: 0.6106 - acc: 0.6784\n",
      "Epoch 50/100\n",
      "653/653 [==============================] - 0s 41us/sample - loss: 0.6057 - acc: 0.6753\n",
      "Epoch 51/100\n",
      "653/653 [==============================] - 0s 39us/sample - loss: 0.6073 - acc: 0.6769\n",
      "Epoch 52/100\n",
      "653/653 [==============================] - 0s 38us/sample - loss: 0.6058 - acc: 0.6784\n",
      "Epoch 53/100\n",
      "653/653 [==============================] - 0s 39us/sample - loss: 0.6071 - acc: 0.6753\n",
      "Epoch 54/100\n",
      "653/653 [==============================] - 0s 38us/sample - loss: 0.6061 - acc: 0.6784\n",
      "Epoch 55/100\n",
      "653/653 [==============================] - 0s 38us/sample - loss: 0.6029 - acc: 0.6769\n",
      "Epoch 56/100\n",
      "653/653 [==============================] - 0s 46us/sample - loss: 0.6010 - acc: 0.6769\n",
      "Epoch 57/100\n",
      "653/653 [==============================] - 0s 41us/sample - loss: 0.6023 - acc: 0.6753\n",
      "Epoch 58/100\n",
      "653/653 [==============================] - 0s 40us/sample - loss: 0.6015 - acc: 0.6815\n",
      "Epoch 59/100\n",
      "653/653 [==============================] - 0s 40us/sample - loss: 0.5990 - acc: 0.6753\n",
      "Epoch 60/100\n",
      "653/653 [==============================] - 0s 42us/sample - loss: 0.6076 - acc: 0.6769\n",
      "Epoch 61/100\n",
      "653/653 [==============================] - 0s 39us/sample - loss: 0.6174 - acc: 0.6784\n",
      "Epoch 62/100\n",
      "653/653 [==============================] - 0s 43us/sample - loss: 0.6048 - acc: 0.6876\n",
      "Epoch 63/100\n",
      "653/653 [==============================] - 0s 40us/sample - loss: 0.6081 - acc: 0.6830\n",
      "Epoch 64/100\n",
      "653/653 [==============================] - 0s 40us/sample - loss: 0.6089 - acc: 0.6784\n",
      "Epoch 65/100\n",
      "653/653 [==============================] - 0s 39us/sample - loss: 0.6039 - acc: 0.6907\n",
      "Epoch 66/100\n",
      "653/653 [==============================] - 0s 40us/sample - loss: 0.6012 - acc: 0.6922\n",
      "Epoch 67/100\n",
      "653/653 [==============================] - 0s 39us/sample - loss: 0.5986 - acc: 0.6907\n",
      "Epoch 68/100\n",
      "653/653 [==============================] - 0s 41us/sample - loss: 0.5985 - acc: 0.6876\n",
      "Epoch 69/100\n",
      "653/653 [==============================] - 0s 38us/sample - loss: 0.5973 - acc: 0.6845\n",
      "Epoch 70/100\n",
      "653/653 [==============================] - 0s 39us/sample - loss: 0.5938 - acc: 0.6845\n",
      "Epoch 71/100\n",
      "653/653 [==============================] - 0s 41us/sample - loss: 0.6088 - acc: 0.6845\n",
      "Epoch 72/100\n",
      "653/653 [==============================] - 0s 39us/sample - loss: 0.5952 - acc: 0.6953\n",
      "Epoch 73/100\n",
      "653/653 [==============================] - 0s 41us/sample - loss: 0.5939 - acc: 0.6861\n",
      "Epoch 74/100\n",
      "653/653 [==============================] - 0s 40us/sample - loss: 0.5932 - acc: 0.6937\n",
      "Epoch 75/100\n",
      "653/653 [==============================] - 0s 39us/sample - loss: 0.5913 - acc: 0.6922\n",
      "Epoch 76/100\n",
      "653/653 [==============================] - 0s 40us/sample - loss: 0.5915 - acc: 0.6876\n",
      "Epoch 77/100\n",
      "653/653 [==============================] - 0s 41us/sample - loss: 0.6726 - acc: 0.6708\n",
      "Epoch 78/100\n",
      "653/653 [==============================] - 0s 39us/sample - loss: 0.6789 - acc: 0.6677\n",
      "Epoch 79/100\n"
     ]
    },
    {
     "name": "stdout",
     "output_type": "stream",
     "text": [
      "653/653 [==============================] - 0s 38us/sample - loss: 0.6481 - acc: 0.6784\n",
      "Epoch 80/100\n",
      "653/653 [==============================] - 0s 40us/sample - loss: 0.6366 - acc: 0.6708\n",
      "Epoch 81/100\n",
      "653/653 [==============================] - 0s 38us/sample - loss: 0.6256 - acc: 0.6753\n",
      "Epoch 82/100\n",
      "653/653 [==============================] - 0s 39us/sample - loss: 0.6207 - acc: 0.6769\n",
      "Epoch 83/100\n",
      "653/653 [==============================] - 0s 38us/sample - loss: 0.6208 - acc: 0.6799\n",
      "Epoch 84/100\n",
      "653/653 [==============================] - 0s 38us/sample - loss: 0.6144 - acc: 0.6830\n",
      "Epoch 85/100\n",
      "653/653 [==============================] - 0s 38us/sample - loss: 0.6113 - acc: 0.6845\n",
      "Epoch 86/100\n",
      "653/653 [==============================] - 0s 38us/sample - loss: 0.6102 - acc: 0.6845\n",
      "Epoch 87/100\n",
      "653/653 [==============================] - 0s 44us/sample - loss: 0.6074 - acc: 0.6861\n",
      "Epoch 88/100\n",
      "653/653 [==============================] - 0s 39us/sample - loss: 0.6047 - acc: 0.6861\n",
      "Epoch 89/100\n",
      "653/653 [==============================] - 0s 38us/sample - loss: 0.6001 - acc: 0.6845\n",
      "Epoch 90/100\n",
      "653/653 [==============================] - 0s 38us/sample - loss: 0.5919 - acc: 0.6907\n",
      "Epoch 91/100\n",
      "653/653 [==============================] - 0s 37us/sample - loss: 0.5875 - acc: 0.6922\n",
      "Epoch 92/100\n",
      "653/653 [==============================] - 0s 37us/sample - loss: 0.5884 - acc: 0.6891\n",
      "Epoch 93/100\n",
      "653/653 [==============================] - 0s 36us/sample - loss: 0.5824 - acc: 0.6983\n",
      "Epoch 94/100\n",
      "653/653 [==============================] - 0s 39us/sample - loss: 0.5893 - acc: 0.6968\n",
      "Epoch 95/100\n",
      "653/653 [==============================] - 0s 37us/sample - loss: 0.5845 - acc: 0.6937\n",
      "Epoch 96/100\n",
      "653/653 [==============================] - 0s 41us/sample - loss: 0.5783 - acc: 0.6937\n",
      "Epoch 97/100\n",
      "653/653 [==============================] - 0s 38us/sample - loss: 0.5780 - acc: 0.7029\n",
      "Epoch 98/100\n",
      "653/653 [==============================] - 0s 41us/sample - loss: 0.5769 - acc: 0.7014\n",
      "Epoch 99/100\n",
      "653/653 [==============================] - 0s 43us/sample - loss: 0.5822 - acc: 0.7014\n",
      "Epoch 100/100\n",
      "653/653 [==============================] - 0s 42us/sample - loss: 0.5781 - acc: 0.6968\n"
     ]
    }
   ],
   "source": [
    "history = model.fit(x, y, epochs=100)"
   ]
  },
  {
   "cell_type": "code",
   "execution_count": 20,
   "metadata": {},
   "outputs": [
    {
     "data": {
      "text/plain": [
       "dict_keys(['loss', 'acc'])"
      ]
     },
     "execution_count": 20,
     "metadata": {},
     "output_type": "execute_result"
    }
   ],
   "source": [
    "history.history.keys()"
   ]
  },
  {
   "cell_type": "code",
   "execution_count": 21,
   "metadata": {},
   "outputs": [
    {
     "data": {
      "text/plain": [
       "[<matplotlib.lines.Line2D at 0x7fb5c905fb38>]"
      ]
     },
     "execution_count": 21,
     "metadata": {},
     "output_type": "execute_result"
    },
    {
     "data": {
      "image/png": "[encoded data removed]",
      "text/plain": [
       "<Figure size 432x288 with 1 Axes>"
      ]
     },
     "metadata": {
      "needs_background": "light"
     },
     "output_type": "display_data"
    }
   ],
   "source": [
    "plt.plot(history.epoch, history.history.get('loss'))"
   ]
  },
  {
   "cell_type": "code",
   "execution_count": 22,
   "metadata": {},
   "outputs": [
    {
     "data": {
      "text/plain": [
       "[<matplotlib.lines.Line2D at 0x7fb5c8f7f2e8>]"
      ]
     },
     "execution_count": 22,
     "metadata": {},
     "output_type": "execute_result"
    },
    {
     "data": {
      "image/png": "[encoded data removed]",
      "text/plain": [
       "<Figure size 432x288 with 1 Axes>"
      ]
     },
     "metadata": {
      "needs_background": "light"
     },
     "output_type": "display_data"
    }
   ],
   "source": [
    "plt.plot(history.epoch, history.history.get('acc'))"
   ]
  },
  {
   "cell_type": "code",
   "execution_count": 27,
   "metadata": {},
   "outputs": [
    {
     "name": "stdout",
     "output_type": "stream",
     "text": [
      "{'class2', 'class1'}\n",
      "{'class2': 0, 'class1': 1}\n"
     ]
    }
   ],
   "source": [
    "import pandas as pd\n",
    "df = pd.DataFrame([\n",
    "            ['green', 'M', 10.1, 'class1'], \n",
    "            ['red', 'L', 13.5, 'class2'], \n",
    "            ['blue', 'XL', 15.3, 'class1']])\n",
    " \n",
    "df.columns = ['color', 'size', 'prize', 'class label']\n",
    " \n",
    "size_mapping = {\n",
    "           'XL': 3,\n",
    "           'L': 2,\n",
    "           'M': 1}\n",
    "df['size'] = df['size'].map(size_mapping)\n",
    " \n",
    "class_mapping = {label:idx for idx,label in enumerate(set(df['class label']))}\n",
    "print(set(df['class label']))\n",
    "print(class_mapping)\n",
    "df['class label'] = df['class label'].map(class_mapping)"
   ]
  },
  {
   "cell_type": "code",
   "execution_count": 24,
   "metadata": {},
   "outputs": [
    {
     "data": {
      "text/html": [
       "<div>\n",
       "<style scoped>\n",
       "    .dataframe tbody tr th:only-of-type {\n",
       "        vertical-align: middle;\n",
       "    }\n",
       "\n",
       "    .dataframe tbody tr th {\n",
       "        vertical-align: top;\n",
       "    }\n",
       "\n",
       "    .dataframe thead th {\n",
       "        text-align: right;\n",
       "    }\n",
       "</style>\n",
       "<table border=\"1\" class=\"dataframe\">\n",
       "  <thead>\n",
       "    <tr style=\"text-align: right;\">\n",
       "      <th></th>\n",
       "      <th>color</th>\n",
       "      <th>size</th>\n",
       "      <th>prize</th>\n",
       "      <th>class label</th>\n",
       "    </tr>\n",
       "  </thead>\n",
       "  <tbody>\n",
       "    <tr>\n",
       "      <th>0</th>\n",
       "      <td>green</td>\n",
       "      <td>1</td>\n",
       "      <td>10.1</td>\n",
       "      <td>1</td>\n",
       "    </tr>\n",
       "    <tr>\n",
       "      <th>1</th>\n",
       "      <td>red</td>\n",
       "      <td>2</td>\n",
       "      <td>13.5</td>\n",
       "      <td>0</td>\n",
       "    </tr>\n",
       "    <tr>\n",
       "      <th>2</th>\n",
       "      <td>blue</td>\n",
       "      <td>3</td>\n",
       "      <td>15.3</td>\n",
       "      <td>1</td>\n",
       "    </tr>\n",
       "  </tbody>\n",
       "</table>\n",
       "</div>"
      ],
      "text/plain": [
       "   color  size  prize  class label\n",
       "0  green     1   10.1            1\n",
       "1    red     2   13.5            0\n",
       "2   blue     3   15.3            1"
      ]
     },
     "execution_count": 24,
     "metadata": {},
     "output_type": "execute_result"
    }
   ],
   "source": [
    "df"
   ]
  },
  {
   "cell_type": "code",
   "execution_count": null,
   "metadata": {},
   "outputs": [],
   "source": []
  }
 ],
 "metadata": {
  "kernelspec": {
   "display_name": "Python 3",
   "language": "python",
   "name": "python3"
  },
  "language_info": {
   "codemirror_mode": {
    "name": "ipython",
    "version": 3
   },
   "file_extension": ".py",
   "mimetype": "text/x-python",
   "name": "python",
   "nbconvert_exporter": "python",
   "pygments_lexer": "ipython3",
   "version": "3.6.8"
  }
 },
 "nbformat": 4,
 "nbformat_minor": 2
}
