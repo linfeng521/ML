{
 "cells": [
  {
   "cell_type": "code",
   "execution_count": 0,
   "metadata": {
    "colab": {},
    "colab_type": "code",
    "id": "GPzVtld8bYWA"
   },
   "outputs": [],
   "source": []
  },
  {
   "cell_type": "code",
   "execution_count": 0,
   "metadata": {
    "colab": {},
    "colab_type": "code",
    "id": "u4RyNpyMd2Fc"
   },
   "outputs": [],
   "source": [
    "import numpy as np\n",
    "import tensorflow as tf\n",
    "import pathlib\n",
    "from matplotlib import pyplot as plt"
   ]
  },
  {
   "cell_type": "code",
   "execution_count": 0,
   "metadata": {
    "colab": {},
    "colab_type": "code",
    "id": "Wubwn-Q0d8rr"
   },
   "outputs": [],
   "source": [
    "pathRoot = './drive/My Drive/datasets/air_lake/'\n",
    "pathRoot = pathlib.Path(pathRoot)"
   ]
  },
  {
   "cell_type": "code",
   "execution_count": 16,
   "metadata": {
    "colab": {
     "base_uri": "https://localhost:8080/",
     "height": 35
    },
    "colab_type": "code",
    "executionInfo": {
     "elapsed": 3821,
     "status": "ok",
     "timestamp": 1585561520715,
     "user": {
      "displayName": "feng lin",
      "photoUrl": "",
      "userId": "05422059954190925799"
     },
     "user_tz": -480
    },
    "id": "pjEH74DHd9q0",
    "outputId": "1879be88-ba35-45c0-d73d-9e6ad47aa808"
   },
   "outputs": [
    {
     "name": "stdout",
     "output_type": "stream",
     "text": [
      "1400\n"
     ]
    }
   ],
   "source": [
    "x_train_savepath = './drive/My Drive/datasets/air_lake_x_train.npy'\n",
    "y_train_savepath = './drive/My Drive/datasets/air_lake_y_train.npy'\n",
    "import random\n",
    "random.seed(1)\n",
    "all_image_path = pathRoot.glob('*/*')\n",
    "all_image_path = [str(path) for path in all_image_path]\n",
    "random.shuffle(all_image_path)\n",
    "image_count = len(all_image_path)\n",
    "print(image_count)"
   ]
  },
  {
   "cell_type": "code",
   "execution_count": 0,
   "metadata": {
    "colab": {},
    "colab_type": "code",
    "id": "sdyEqQgceOz-"
   },
   "outputs": [],
   "source": [
    "label_names = sorted(item.name for item in pathRoot.glob('*/') if item.is_dir())\n",
    "label_to_index = dict((name, index) for index, name in enumerate(label_names))\n",
    "index_to_label=dict((index,name) for name,index in label_to_index.items())"
   ]
  },
  {
   "cell_type": "code",
   "execution_count": 0,
   "metadata": {
    "colab": {},
    "colab_type": "code",
    "id": "YJa0oFP0eVFI"
   },
   "outputs": [],
   "source": [
    "all_image_label = [label_to_index[pathlib.Path(path).parent.name] for path in all_image_path]"
   ]
  },
  {
   "cell_type": "code",
   "execution_count": 0,
   "metadata": {
    "colab": {},
    "colab_type": "code",
    "id": "3falaLM8eWOx"
   },
   "outputs": [],
   "source": [
    "all_image_path_label=list(zip(all_image_path,all_image_label))"
   ]
  },
  {
   "cell_type": "code",
   "execution_count": 0,
   "metadata": {
    "colab": {},
    "colab_type": "code",
    "id": "Q-793DvSeasR"
   },
   "outputs": [],
   "source": [
    "def generate(all_image_path_label):\n",
    "    x, y_ = [], []  # 建立空列表\n",
    "    for img_path,label in all_image_path_label:\n",
    "        img = Image.open(img_path)  # 读入图片\n",
    "        #img = np.array(img.convert('L'))  # 图片变为8位宽灰度值的np.array格式\n",
    "        img = np.array(img,dtype='float')\n",
    "        img = img / 255.  # 数据归一化 （实现预处理）\n",
    "        x.append(img)  # 归一化后的数据，贴到列表x\n",
    "        y_.append(label)\n",
    "    x = np.array(x)  # 变为np.array格式\n",
    "    y_ = np.array(y_)  # 变为np.array格式\n",
    "    y_ = y_.astype(np.int64)  # 变为64位整型\n",
    "    return x, y_  # 返回输入特征x，返回标签y_"
   ]
  },
  {
   "cell_type": "code",
   "execution_count": 21,
   "metadata": {
    "colab": {
     "base_uri": "https://localhost:8080/",
     "height": 53
    },
    "colab_type": "code",
    "executionInfo": {
     "elapsed": 44618,
     "status": "ok",
     "timestamp": 1585561561820,
     "user": {
      "displayName": "feng lin",
      "photoUrl": "",
      "userId": "05422059954190925799"
     },
     "user_tz": -480
    },
    "id": "NzPz9b31eff7",
    "outputId": "bb72a6d1-6eb7-4af9-bfa7-fbbd87b85a0a"
   },
   "outputs": [
    {
     "name": "stdout",
     "output_type": "stream",
     "text": [
      "-------------Generate Datasets-----------------\n",
      "-------------Save Datasets-----------------\n"
     ]
    }
   ],
   "source": [
    "import os\n",
    "from PIL import Image\n",
    "if os.path.exists(x_train_savepath) and os.path.exists(y_train_savepath):\n",
    "    print('-------------Load Datasets-----------------')\n",
    "    x_train_save = np.load(x_train_savepath)\n",
    "    y_train = np.load(y_train_savepath)\n",
    "    x_train = np.reshape(x_train_save, (len(x_train_save), 256,256,3))\n",
    "else:\n",
    "    print('-------------Generate Datasets-----------------')\n",
    "    x_train, y_train = generate(all_image_path_label)\n",
    "\n",
    "    print('-------------Save Datasets-----------------')\n",
    "    x_train_save = np.reshape(x_train, (len(x_train), -1))\n",
    "    np.save(x_train_savepath, x_train_save)\n",
    "    np.save(y_train_savepath, y_train)\n"
   ]
  },
  {
   "cell_type": "code",
   "execution_count": 0,
   "metadata": {
    "colab": {},
    "colab_type": "code",
    "id": "02BNN2pqeiRk"
   },
   "outputs": [],
   "source": [
    "model = tf.keras.Sequential()   #顺序模型\n",
    "model.add(tf.keras.layers.Conv2D(32,(3,3),input_shape=(256,256,3),activation='relu',padding='same'))\n",
    "model.add(tf.keras.layers.Conv2D(32,(3,3),activation='relu',padding='same'))\n",
    "model.add(tf.keras.layers.MaxPool2D())\n",
    "model.add(tf.keras.layers.Dropout(0.5))\n",
    "model.add(tf.keras.layers.Conv2D(64,(3,3),activation='relu',padding='same'))\n",
    "model.add(tf.keras.layers.Conv2D(64,(3,3),activation='relu',padding='same'))\n",
    "model.add(tf.keras.layers.MaxPool2D())\n",
    "model.add(tf.keras.layers.Dropout(0.5))\n",
    "model.add(tf.keras.layers.Conv2D(256,(3,3),activation='relu',padding='same'))\n",
    "model.add(tf.keras.layers.Conv2D(256,(3,3),activation='relu',padding='same'))\n",
    "model.add(tf.keras.layers.MaxPool2D())\n",
    "model.add(tf.keras.layers.Dropout(0.5))\n",
    "model.add(tf.keras.layers.Conv2D(512,(3,3),activation='relu',padding='same'))\n",
    "model.add(tf.keras.layers.Conv2D(512,(3,3),activation='relu',padding='same'))\n",
    "model.add(tf.keras.layers.MaxPool2D())\n",
    "model.add(tf.keras.layers.Dropout(0.5))\n",
    "model.add(tf.keras.layers.GlobalAveragePooling2D())\n",
    "model.add(tf.keras.layers.Dense(256,activation='relu'))\n",
    "model.add(tf.keras.layers.Dense(64,activation='relu'))\n",
    "model.add(tf.keras.layers.Dense(2,activation='softmax'))"
   ]
  },
  {
   "cell_type": "code",
   "execution_count": 23,
   "metadata": {
    "colab": {
     "base_uri": "https://localhost:8080/",
     "height": 35
    },
    "colab_type": "code",
    "executionInfo": {
     "elapsed": 45659,
     "status": "ok",
     "timestamp": 1585561563038,
     "user": {
      "displayName": "feng lin",
      "photoUrl": "",
      "userId": "05422059954190925799"
     },
     "user_tz": -480
    },
    "id": "THyG6Y7kfTIz",
    "outputId": "8855b2b8-0668-456b-b82d-2cd8da1b5f2d"
   },
   "outputs": [
    {
     "data": {
      "text/plain": [
       "(1400, 256, 256, 3)"
      ]
     },
     "execution_count": 23,
     "metadata": {
      "tags": []
     },
     "output_type": "execute_result"
    }
   ],
   "source": [
    "x_train.shape"
   ]
  },
  {
   "cell_type": "code",
   "execution_count": 0,
   "metadata": {
    "colab": {},
    "colab_type": "code",
    "id": "MAFnrBlwimCw"
   },
   "outputs": [],
   "source": [
    "model.compile(optimizer='adam',\n",
    "              loss=tf.keras.losses.SparseCategoricalCrossentropy(from_logits=False),\n",
    "              metrics=['sparse_categorical_accuracy'])\n"
   ]
  },
  {
   "cell_type": "code",
   "execution_count": 25,
   "metadata": {
    "colab": {
     "base_uri": "https://localhost:8080/",
     "height": 1000
    },
    "colab_type": "code",
    "executionInfo": {
     "elapsed": 655740,
     "status": "ok",
     "timestamp": 1585562173348,
     "user": {
      "displayName": "feng lin",
      "photoUrl": "",
      "userId": "05422059954190925799"
     },
     "user_tz": -480
    },
    "id": "i3pePxbykKBE",
    "outputId": "b987d659-7c70-4582-db00-1508c47f5837"
   },
   "outputs": [
    {
     "name": "stdout",
     "output_type": "stream",
     "text": [
      "Epoch 1/50\n",
      "44/44 [==============================] - 12s 283ms/step - loss: 0.5398 - sparse_categorical_accuracy: 0.7621\n",
      "Epoch 2/50\n",
      "44/44 [==============================] - 12s 282ms/step - loss: 0.2602 - sparse_categorical_accuracy: 0.9021\n",
      "Epoch 3/50\n",
      "44/44 [==============================] - 12s 275ms/step - loss: 0.2849 - sparse_categorical_accuracy: 0.9114\n",
      "Epoch 4/50\n",
      "44/44 [==============================] - 12s 271ms/step - loss: 0.1564 - sparse_categorical_accuracy: 0.9571\n",
      "Epoch 5/50\n",
      "44/44 [==============================] - 12s 270ms/step - loss: 0.1234 - sparse_categorical_accuracy: 0.9650\n",
      "Epoch 6/50\n",
      "44/44 [==============================] - 12s 270ms/step - loss: 0.0942 - sparse_categorical_accuracy: 0.9671\n",
      "Epoch 7/50\n",
      "44/44 [==============================] - 12s 272ms/step - loss: 0.0983 - sparse_categorical_accuracy: 0.9707\n",
      "Epoch 8/50\n",
      "44/44 [==============================] - 12s 274ms/step - loss: 0.1107 - sparse_categorical_accuracy: 0.9686\n",
      "Epoch 9/50\n",
      "44/44 [==============================] - 12s 273ms/step - loss: 0.0944 - sparse_categorical_accuracy: 0.9679\n",
      "Epoch 10/50\n",
      "44/44 [==============================] - 12s 273ms/step - loss: 0.1040 - sparse_categorical_accuracy: 0.9707\n",
      "Epoch 11/50\n",
      "44/44 [==============================] - 12s 272ms/step - loss: 0.1699 - sparse_categorical_accuracy: 0.9493\n",
      "Epoch 12/50\n",
      "44/44 [==============================] - 12s 271ms/step - loss: 0.1708 - sparse_categorical_accuracy: 0.9357\n",
      "Epoch 13/50\n",
      "44/44 [==============================] - 12s 270ms/step - loss: 0.1716 - sparse_categorical_accuracy: 0.9571\n",
      "Epoch 14/50\n",
      "44/44 [==============================] - 12s 271ms/step - loss: 0.1262 - sparse_categorical_accuracy: 0.9593\n",
      "Epoch 15/50\n",
      "44/44 [==============================] - 12s 271ms/step - loss: 0.1239 - sparse_categorical_accuracy: 0.9643\n",
      "Epoch 16/50\n",
      "44/44 [==============================] - 12s 271ms/step - loss: 0.1157 - sparse_categorical_accuracy: 0.9671\n",
      "Epoch 17/50\n",
      "44/44 [==============================] - 12s 271ms/step - loss: 0.1520 - sparse_categorical_accuracy: 0.9529\n",
      "Epoch 18/50\n",
      "44/44 [==============================] - 12s 272ms/step - loss: 0.1128 - sparse_categorical_accuracy: 0.9629\n",
      "Epoch 19/50\n",
      "44/44 [==============================] - 12s 271ms/step - loss: 0.1259 - sparse_categorical_accuracy: 0.9614\n",
      "Epoch 20/50\n",
      "44/44 [==============================] - 12s 270ms/step - loss: 0.1010 - sparse_categorical_accuracy: 0.9714\n",
      "Epoch 21/50\n",
      "44/44 [==============================] - 12s 270ms/step - loss: 0.0907 - sparse_categorical_accuracy: 0.9764\n",
      "Epoch 22/50\n",
      "44/44 [==============================] - 12s 270ms/step - loss: 0.0821 - sparse_categorical_accuracy: 0.9721\n",
      "Epoch 23/50\n",
      "44/44 [==============================] - 12s 271ms/step - loss: 0.0916 - sparse_categorical_accuracy: 0.9757\n",
      "Epoch 24/50\n",
      "44/44 [==============================] - 12s 270ms/step - loss: 0.1029 - sparse_categorical_accuracy: 0.9686\n",
      "Epoch 25/50\n",
      "44/44 [==============================] - 12s 270ms/step - loss: 0.1037 - sparse_categorical_accuracy: 0.9614\n",
      "Epoch 26/50\n",
      "44/44 [==============================] - 12s 270ms/step - loss: 0.1121 - sparse_categorical_accuracy: 0.9671\n",
      "Epoch 27/50\n",
      "44/44 [==============================] - 12s 269ms/step - loss: 0.0730 - sparse_categorical_accuracy: 0.9793\n",
      "Epoch 28/50\n",
      "44/44 [==============================] - 12s 270ms/step - loss: 0.0744 - sparse_categorical_accuracy: 0.9743\n",
      "Epoch 29/50\n",
      "44/44 [==============================] - 12s 270ms/step - loss: 0.0740 - sparse_categorical_accuracy: 0.9743\n",
      "Epoch 30/50\n",
      "44/44 [==============================] - 12s 269ms/step - loss: 0.1182 - sparse_categorical_accuracy: 0.9600\n",
      "Epoch 31/50\n",
      "44/44 [==============================] - 12s 269ms/step - loss: 0.0737 - sparse_categorical_accuracy: 0.9779\n",
      "Epoch 32/50\n",
      "44/44 [==============================] - 12s 270ms/step - loss: 0.0877 - sparse_categorical_accuracy: 0.9729\n",
      "Epoch 33/50\n",
      "44/44 [==============================] - 12s 270ms/step - loss: 0.0946 - sparse_categorical_accuracy: 0.9764\n",
      "Epoch 34/50\n",
      "44/44 [==============================] - 12s 270ms/step - loss: 0.0905 - sparse_categorical_accuracy: 0.9743\n",
      "Epoch 35/50\n",
      "44/44 [==============================] - 12s 269ms/step - loss: 0.0890 - sparse_categorical_accuracy: 0.9743\n",
      "Epoch 36/50\n",
      "44/44 [==============================] - 12s 270ms/step - loss: 0.0733 - sparse_categorical_accuracy: 0.9771\n",
      "Epoch 37/50\n",
      "44/44 [==============================] - 12s 269ms/step - loss: 0.0747 - sparse_categorical_accuracy: 0.9757\n",
      "Epoch 38/50\n",
      "44/44 [==============================] - 12s 269ms/step - loss: 0.0547 - sparse_categorical_accuracy: 0.9850\n",
      "Epoch 39/50\n",
      "44/44 [==============================] - 12s 270ms/step - loss: 0.0543 - sparse_categorical_accuracy: 0.9864\n",
      "Epoch 40/50\n",
      "44/44 [==============================] - 12s 270ms/step - loss: 0.0806 - sparse_categorical_accuracy: 0.9793\n",
      "Epoch 41/50\n",
      "44/44 [==============================] - 12s 269ms/step - loss: 0.0892 - sparse_categorical_accuracy: 0.9686\n",
      "Epoch 42/50\n",
      "44/44 [==============================] - 12s 269ms/step - loss: 0.0606 - sparse_categorical_accuracy: 0.9793\n",
      "Epoch 43/50\n",
      "44/44 [==============================] - 12s 269ms/step - loss: 0.0526 - sparse_categorical_accuracy: 0.9814\n",
      "Epoch 44/50\n",
      "44/44 [==============================] - 12s 269ms/step - loss: 0.0540 - sparse_categorical_accuracy: 0.9836\n",
      "Epoch 45/50\n",
      "44/44 [==============================] - 12s 269ms/step - loss: 0.0820 - sparse_categorical_accuracy: 0.9743\n",
      "Epoch 46/50\n",
      "44/44 [==============================] - 12s 269ms/step - loss: 0.0694 - sparse_categorical_accuracy: 0.9736\n",
      "Epoch 47/50\n",
      "44/44 [==============================] - 12s 269ms/step - loss: 0.0959 - sparse_categorical_accuracy: 0.9743\n",
      "Epoch 48/50\n",
      "44/44 [==============================] - 12s 269ms/step - loss: 0.0714 - sparse_categorical_accuracy: 0.9757\n",
      "Epoch 49/50\n",
      "44/44 [==============================] - 12s 268ms/step - loss: 0.0722 - sparse_categorical_accuracy: 0.9836\n",
      "Epoch 50/50\n",
      "44/44 [==============================] - 12s 268ms/step - loss: 0.0591 - sparse_categorical_accuracy: 0.9807\n"
     ]
    }
   ],
   "source": [
    "history = model.fit(x_train, y_train, batch_size=32, epochs=50, validation_freq=1)"
   ]
  },
  {
   "cell_type": "code",
   "execution_count": 0,
   "metadata": {
    "colab": {},
    "colab_type": "code",
    "id": "Lh4TUWpUkjMs"
   },
   "outputs": [],
   "source": [
    "model.save('air_lake.h5')"
   ]
  },
  {
   "cell_type": "code",
   "execution_count": 0,
   "metadata": {
    "colab": {},
    "colab_type": "code",
    "id": "aScq7u-Xkqr2"
   },
   "outputs": [],
   "source": []
  }
 ],
 "metadata": {
  "accelerator": "GPU",
  "colab": {
   "authorship_tag": "ABX9TyOHBk/Ginbul/txnwcCvlEv",
   "mount_file_id": "1DpJW5jCwYvcKcI9hLL-oDmJ3RTZcLJ74",
   "name": "air_lake_conv2d.ipynb",
   "provenance": [],
   "toc_visible": true
  },
  "kernelspec": {
   "display_name": "Python 3",
   "language": "python",
   "name": "python3"
  },
  "language_info": {
   "codemirror_mode": {
    "name": "ipython",
    "version": 3
   },
   "file_extension": ".py",
   "mimetype": "text/x-python",
   "name": "python",
   "nbconvert_exporter": "python",
   "pygments_lexer": "ipython3",
   "version": "3.6.8"
  }
 },
 "nbformat": 4,
 "nbformat_minor": 1
}
