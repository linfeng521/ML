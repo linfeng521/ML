{
 "cells": [
  {
   "cell_type": "code",
   "execution_count": 1,
   "metadata": {},
   "outputs": [],
   "source": [
    "from IPython.core.interactiveshell import InteractiveShell\n",
    "InteractiveShell.ast_node_interactivity = \"none\" \n",
    "import matplotlib.pyplot as plt\n",
    "%matplotlib inline"
   ]
  },
  {
   "cell_type": "markdown",
   "metadata": {},
   "source": [
    "## OpenCV中的绘图函数\n",
    "line()，cv2.circle()，cv2.rectangle()，cv2.ellipse()，cv2.putText()\n",
    "\n",
    "\n",
    "上面所有的这些绘图函数需要设置下面这些参数：\n",
    "\n",
    "    • img：你想要绘制图形的那幅图像。\n",
    "\n",
    "    • color：形状的颜色。以RGB 为例，需要传入一个元组，例如：（255,0,0）代表蓝色。对于灰度图只需要传入灰度值。\n",
    "\n",
    "    • thickness：线条的粗细。如果给一个闭合图形设置为-1，那么这个图形就会被填充。默认值是1.\n",
    "\n",
    "    • linetype：线条的类型，8 连接，抗锯齿等。默认情况是8 连接。cv2.LINE_AA为抗锯齿，这样看起来会非常平滑。"
   ]
  },
  {
   "cell_type": "code",
   "execution_count": 16,
   "metadata": {},
   "outputs": [
    {
     "data": {
      "image/png": "[encoded data removed]",
      "text/plain": [
       "<Figure size 432x288 with 1 Axes>"
      ]
     },
     "metadata": {
      "needs_background": "light"
     },
     "output_type": "display_data"
    }
   ],
   "source": [
    "import numpy as np\n",
    "import cv2\n",
    "# Create a black image\n",
    "img=np.zeros((512,512,3), np.uint8)\n",
    "# Draw a diagonal blue line with thickness of 5 px\n",
    "cv2.line(img,(0,0),(511,511),(255,0,0),5)\n",
    "cv2.line(img,(0,511),(511,0),(0,255,0),10)\n",
    "cv2.circle(img,(512//2,512//2),100,(0,0,255),10)\n",
    "plt.imshow(img)\n",
    "# cv2.waitKey(0)\n",
    "# #释放窗口\n",
    "# cv2.destroyAllWindows()"
   ]
  },
  {
   "cell_type": "markdown",
   "metadata": {},
   "source": [
    "### 画线——设置起点和终点，颜色，线条宽度"
   ]
  },
  {
   "cell_type": "code",
   "execution_count": 17,
   "metadata": {},
   "outputs": [],
   "source": [
    "cv2.line(img,(10,10),(200,200),(0,255,0),3)#绿色，3个像素宽度"
   ]
  },
  {
   "cell_type": "markdown",
   "metadata": {},
   "source": [
    "### 画矩形——设置左上顶点和右下顶点，颜色，线条宽度"
   ]
  },
  {
   "cell_type": "code",
   "execution_count": 14,
   "metadata": {},
   "outputs": [],
   "source": [
    "cv2.rectangle(img,(10,10),(300,400),(134,2,34),10)"
   ]
  },
  {
   "cell_type": "markdown",
   "metadata": {},
   "source": [
    "### 圆——指定圆心和半径\n",
    "\n",
    "cv2.circle(img,(60,60),30,(0,0,213),-1)"
   ]
  },
  {
   "cell_type": "markdown",
   "metadata": {},
   "source": [
    "### 画椭圆——需要输入中心点位置，长轴和短轴的长度，椭圆沿逆时针选择角度，椭圆沿顺时针方向起始角度和结束角度\n",
    "\n",
    "cv2.ellipse(img,(256,256),(100,50),0,0,180,(20,213,79),-1) #线型-1表示填充"
   ]
  },
  {
   "cell_type": "markdown",
   "metadata": {},
   "source": [
    "### 多边形\n",
    "画多边形——需要指定每个顶点的坐标"
   ]
  },
  {
   "cell_type": "code",
   "execution_count": 15,
   "metadata": {},
   "outputs": [
    {
     "data": {
      "image/png": "[encoded data removed]",
      "text/plain": [
       "<Figure size 432x288 with 1 Axes>"
      ]
     },
     "metadata": {
      "needs_background": "light"
     },
     "output_type": "display_data"
    }
   ],
   "source": [
    "import numpy as np\n",
    "pts=np.array([[10,3],[48,19],[60,3],[98,19]],np.int32) #数据类型必须是int32\n",
    "pts=pts.reshape((-1,1,2)) \n",
    "'''这里 reshape 的第一个参数为-1, 表明这一维的长度是根据后面的维度的计算出来的。\n",
    "   如果第三个参数是 False，我们得到的多边形是不闭合的（首尾不相连）。\n",
    "'''\n",
    "cv2.polylines(img,[pts],True,(0,0,255),1) # 图像，点集，是否闭合，颜色，线条粗\n",
    "plt.imshow(img)"
   ]
  },
  {
   "cell_type": "markdown",
   "metadata": {},
   "source": [
    "### 添加文字\n",
    "设置参数——绘制的文字，位置，字型，字体大小，文字颜色，线型\n",
    "\n"
   ]
  },
  {
   "cell_type": "code",
   "execution_count": 20,
   "metadata": {},
   "outputs": [
    {
     "data": {
      "image/png": "[encoded data removed]",
      "text/plain": [
       "<Figure size 432x288 with 1 Axes>"
      ]
     },
     "metadata": {
      "needs_background": "light"
     },
     "output_type": "display_data"
    }
   ],
   "source": [
    "font=cv2.FONT_HERSHEY_SIMPLEX\n",
    "\n",
    "cv2.putText(img,'opencv',(80,90), font, 2,(255,0,0),3)\n",
    "plt.imshow(img)"
   ]
  },
  {
   "cell_type": "markdown",
   "metadata": {},
   "source": [
    "## 事件响应\n",
    "OpenCV 处理鼠标事件\n",
    "\n",
    "### cv2.setMouseCallback()\n",
    "\n",
    "创建一个鼠标事件回调函数，但鼠标事件发生是他就会被执行。\n",
    "鼠标事件可以是鼠标上的任何动作，比如左键按下，左键松开，左键双击等。\n",
    "我们可以通过鼠标事件获得与鼠标对应的图片上的坐标。根据这些信息我们可\n",
    "以做任何我们想做的事。你可以通过执行下列代码查看所有被支持的鼠标事件。"
   ]
  },
  {
   "cell_type": "code",
   "execution_count": 29,
   "metadata": {},
   "outputs": [],
   "source": [
    "import cv2\n",
    "import numpy as np\n",
    "#mouse callback function\n",
    "def draw_circle(event,x,y,flags,param):\n",
    "    print(event)\n",
    "    if event==cv2.EVENT_LBUTTONDBLCLK:\n",
    "        cv2.circle(img,(x,y),20,(255,0,0),-1)\n",
    "# 创建图像与窗口并将窗口与回调函数绑定\n",
    "img=np.zeros((512,512,3),np.uint8)\n",
    "cv2.namedWindow('image')\n",
    "cv2.setMouseCallback('image',draw_circle)\n",
    "while(1):\n",
    "    cv2.imshow('image',img)\n",
    "    if cv2.waitKey(20)&0xFF==27:\n",
    "        break\n",
    "cv2.destroyAllWindows()"
   ]
  },
  {
   "cell_type": "code",
   "execution_count": 31,
   "metadata": {},
   "outputs": [
    {
     "name": "stdout",
     "output_type": "stream",
     "text": [
      "event_flag_altkey\n",
      "event_flag_ctrlkey\n",
      "event_flag_lbutton\n",
      "event_flag_mbutton\n",
      "event_flag_rbutton\n",
      "event_flag_shiftkey\n",
      "event_lbuttondblclk\n",
      "event_lbuttondown\n",
      "event_lbuttonup\n",
      "event_mbuttondblclk\n",
      "event_mbuttondown\n",
      "event_mbuttonup\n",
      "event_mousehwheel\n",
      "event_mousemove\n",
      "event_mousewheel\n",
      "event_rbuttondblclk\n",
      "event_rbuttondown\n",
      "event_rbuttonup\n"
     ]
    }
   ],
   "source": [
    "import cv2\n",
    "events=[i for i in dir(cv2) if 'EVENT'in i]\n",
    "for i in events:\n",
    "    print(i.lower())"
   ]
  },
  {
   "cell_type": "code",
   "execution_count": null,
   "metadata": {},
   "outputs": [],
   "source": [
    "import cv2\n",
    "img = cv2.imread('hi.png')\n",
    "blur = cv2.blur(img,(5,5))\n",
    "\n",
    "cv2.imshow(\"img\",img)\n",
    "cv2.imshow(\"blur\",blur)\n",
    "cv2.waitKey(0)\n",
    "cv2.destroyAllWindows()"
   ]
  },
  {
   "cell_type": "code",
   "execution_count": null,
   "metadata": {},
   "outputs": [],
   "source": []
  }
 ],
 "metadata": {
  "kernelspec": {
   "display_name": "Python 3",
   "language": "python",
   "name": "python3"
  },
  "language_info": {
   "codemirror_mode": {
    "name": "ipython",
    "version": 3
   },
   "file_extension": ".py",
   "mimetype": "text/x-python",
   "name": "python",
   "nbconvert_exporter": "python",
   "pygments_lexer": "ipython3",
   "version": "3.6.8"
  }
 },
 "nbformat": 4,
 "nbformat_minor": 2
}
