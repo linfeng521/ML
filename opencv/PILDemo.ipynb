{
 "cells": [
  {
   "cell_type": "markdown",
   "metadata": {},
   "source": [
    "# <center style=\"color:#f40\">PIL(Python Imaging Library)</center>"
   ]
  },
  {
   "cell_type": "code",
   "execution_count": 14,
   "metadata": {},
   "outputs": [],
   "source": [
    "from PIL import Image\n",
    "\n",
    "im  = Image.open(\"me.png\")"
   ]
  },
  {
   "cell_type": "code",
   "execution_count": 4,
   "metadata": {},
   "outputs": [
    {
     "name": "stdout",
     "output_type": "stream",
     "text": [
      "PNG (1920, 1296) RGBA\n"
     ]
    }
   ],
   "source": [
    "print(im.format,im.size,im.mode)"
   ]
  },
  {
   "cell_type": "code",
   "execution_count": 6,
   "metadata": {},
   "outputs": [],
   "source": [
    "im.show() #生成一张临时图片,之后调用xv显示图片"
   ]
  },
  {
   "cell_type": "markdown",
   "metadata": {},
   "source": [
    "## 2.图片操作\n",
    "### Reading and Writing Images "
   ]
  },
  {
   "cell_type": "code",
   "execution_count": 23,
   "metadata": {},
   "outputs": [
    {
     "name": "stdout",
     "output_type": "stream",
     "text": [
      "old: (1920, 1296)\n",
      "new: (960, 648)\n"
     ]
    }
   ],
   "source": [
    "from PIL import Image,ImageFilter\n",
    "im  = Image.open(\"me.png\")\n",
    "print(\"old: {}\".format(im.size))\n",
    "# 缩放图片\n",
    "im.thumbnail(tuple([x/2 for x in im.size]))\n",
    "im.show()\n",
    "print(\"new: {}\".format(im.size))\n",
    "# 模糊效果\n",
    "im2 = im.filter(ImageFilter.BLUR)\n",
    "im2.show()"
   ]
  },
  {
   "cell_type": "code",
   "execution_count": null,
   "metadata": {},
   "outputs": [],
   "source": []
  }
 ],
 "metadata": {
  "kernelspec": {
   "display_name": "Python 3",
   "language": "python",
   "name": "python3"
  },
  "language_info": {
   "codemirror_mode": {
    "name": "ipython",
    "version": 3
   },
   "file_extension": ".py",
   "mimetype": "text/x-python",
   "name": "python",
   "nbconvert_exporter": "python",
   "pygments_lexer": "ipython3",
   "version": "3.7.0"
  }
 },
 "nbformat": 4,
 "nbformat_minor": 2
}
