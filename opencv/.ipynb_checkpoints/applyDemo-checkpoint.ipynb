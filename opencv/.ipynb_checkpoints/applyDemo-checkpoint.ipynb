{
 "cells": [
  {
   "cell_type": "markdown",
   "metadata": {},
   "source": [
    "## 圆检测\n",
    "cv2.HoughCircles(image, method, dp, minDist, circles, param1, param2, minRadius, maxRadius)\n",
    "\n",
    "    image：输入图像 ,必须是8位的单通道灰度图像\n",
    "    method：定义检测图像中圆的方法。目前唯一实现的方法是cv2.HOUGH_GRADIENT。\n",
    "    dp：累加器分辨率与图像分辨率的反比。dp获取越大，累加器数组越小。\n",
    "    minDist：检测到的圆的中心，（x,y）坐标之间的最小距离。如果minDist太小，则可能导致检测到多个相邻的圆。如果minDist太大，则可能导致很多圆检测不到。\n",
    "    circles：输出结果，发现的圆信息\n",
    "    param1：用于处理边缘检测的梯度值方法。\n",
    "    param2：cv2.HOUGH_GRADIENT方法的累加器阈值。阈值越小，检测到的圈子越多。\n",
    "    minRadius：最小半径"
   ]
  },
  {
   "cell_type": "code",
   "execution_count": 6,
   "metadata": {},
   "outputs": [
    {
     "name": "stdout",
     "output_type": "stream",
     "text": [
      "(380, 500, 3)\n",
      "[[[ 73.5 297.5  56.1]\n",
      "  [297.5 178.5  55. ]\n",
      "  [410.5 183.5  52.8]\n",
      "  [303.5 293.5  56.1]\n",
      "  [184.5 177.5  56.1]\n",
      "  [241.5  77.5  51.7]\n",
      "  [350.5  79.5  56.1]\n",
      "  [421.5 294.5  55. ]\n",
      "  [ 74.5 189.5  59.4]\n",
      "  [126.5  76.5  59.4]\n",
      "  [188.5 291.5  57.2]]]\n",
      "[[ 73.5 297.5  56.1]\n",
      " [297.5 178.5  55. ]\n",
      " [410.5 183.5  52.8]\n",
      " [303.5 293.5  56.1]\n",
      " [184.5 177.5  56.1]\n",
      " [241.5  77.5  51.7]\n",
      " [350.5  79.5  56.1]\n",
      " [421.5 294.5  55. ]\n",
      " [ 74.5 189.5  59.4]\n",
      " [126.5  76.5  59.4]\n",
      " [188.5 291.5  57.2]]\n",
      "11\n",
      "------------------------------\n",
      "56.1\n",
      "55.0\n",
      "52.8\n",
      "56.1\n",
      "56.1\n",
      "51.7\n",
      "56.1\n",
      "55.0\n",
      "59.4\n",
      "59.4\n",
      "57.2\n"
     ]
    }
   ],
   "source": [
    "import cv2\n",
    "\n",
    "# 载入并显示图片\n",
    "img = cv2.imread('coin_nums.png')\n",
    "cv2.imshow('img', img)\n",
    "# 灰度化\n",
    "gray = cv2.cvtColor(img, cv2.COLOR_BGR2GRAY)\n",
    "# 输出图像大小，方便根据图像大小调节minRadius和maxRadius\n",
    "print(img.shape)\n",
    "# 霍夫变换圆检测\n",
    "circles = cv2.HoughCircles(gray, cv2.HOUGH_GRADIENT, 1,\n",
    "                           100, param1=100, param2=30, minRadius=50, maxRadius=60)\n",
    "# 输出返回值，方便查看类型\n",
    "print(circles)\n",
    "print(circles[0])\n",
    "# 输出检测到圆的个数\n",
    "print(len(circles[0]))\n",
    "\n",
    "print('------------------------------')\n",
    "# 根据检测到圆的信息，画出每一个圆\n",
    "for circle in circles[0]:\n",
    "    # 圆的基本信息\n",
    "    print(circle[2])\n",
    "    # 坐标行列\n",
    "    x = int(circle[0])\n",
    "    y = int(circle[1])\n",
    "    # 半径\n",
    "    r = int(circle[2])\n",
    "    # 在原图用指定颜色标记出圆的位置\n",
    "    img = cv2.circle(img, (x, y), r, (0, 0, 255), 3)\n",
    "    img = cv2.circle(img, (x, y), 2, (255, 255, 0), -1)\n",
    "# 显示新图像\n",
    "cv2.imshow('res', img)\n",
    "\n",
    "# 按任意键退出\n",
    "cv2.waitKey(0)\n",
    "cv2.destroyAllWindows()"
   ]
  },
  {
   "cell_type": "code",
   "execution_count": null,
   "metadata": {},
   "outputs": [],
   "source": []
  }
 ],
 "metadata": {
  "kernelspec": {
   "display_name": "Python 3",
   "language": "python",
   "name": "python3"
  },
  "language_info": {
   "codemirror_mode": {
    "name": "ipython",
    "version": 3
   },
   "file_extension": ".py",
   "mimetype": "text/x-python",
   "name": "python",
   "nbconvert_exporter": "python",
   "pygments_lexer": "ipython3",
   "version": "3.7.0"
  }
 },
 "nbformat": 4,
 "nbformat_minor": 2
}
