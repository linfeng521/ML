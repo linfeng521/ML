{
 "cells": [
  {
   "cell_type": "code",
   "execution_count": 1,
   "metadata": {},
   "outputs": [],
   "source": [
    "import matplotlib.pyplot as plt\n",
    "import tensorflow as tf\n",
    "from tensorflow import keras\n",
    "from tensorflow.keras import layers, optimizers, datasets\n",
    "import numpy as np"
   ]
  },
  {
   "cell_type": "code",
   "execution_count": 2,
   "metadata": {},
   "outputs": [],
   "source": [
    "(x_train, y_train), (x_test, y_test) = datasets.mnist.load_data()"
   ]
  },
  {
   "cell_type": "code",
   "execution_count": 3,
   "metadata": {},
   "outputs": [
    {
     "name": "stdout",
     "output_type": "stream",
     "text": [
      "1.0\n",
      "(60000, 28, 28) (60000,)\n"
     ]
    }
   ],
   "source": [
    "x_train = x_train/255.0\n",
    "print(np.max(x_train[0]))\n",
    "x_test = x_test/255.0\n",
    "#y_train = tf.one_hot(y_train,depth=10)\n",
    "print(x_train.shape,y_train.shape)"
   ]
  },
  {
   "cell_type": "code",
   "execution_count": 4,
   "metadata": {},
   "outputs": [
    {
     "data": {
      "text/plain": [
       "5"
      ]
     },
     "execution_count": 4,
     "metadata": {},
     "output_type": "execute_result"
    }
   ],
   "source": [
    "y_train[0]"
   ]
  },
  {
   "cell_type": "code",
   "execution_count": 5,
   "metadata": {},
   "outputs": [
    {
     "data": {
      "text/plain": [
       "<TensorSliceDataset shapes: ((28, 28), ()), types: (tf.float64, tf.uint8)>"
      ]
     },
     "execution_count": 5,
     "metadata": {},
     "output_type": "execute_result"
    }
   ],
   "source": [
    "train_dataset = tf.data.Dataset.from_tensor_slices((x_train,y_train))\n",
    "train_dataset"
   ]
  },
  {
   "cell_type": "code",
   "execution_count": 6,
   "metadata": {},
   "outputs": [],
   "source": [
    "train_dataset = train_dataset.shuffle(x_train.shape[0]).repeat().batch(64)"
   ]
  },
  {
   "cell_type": "code",
   "execution_count": 7,
   "metadata": {},
   "outputs": [],
   "source": [
    "# model = keras.Sequential([\n",
    "#     layers.Dense(512, activation='relu',input_shape=(28,28)),\n",
    "#     layers.Dense(256, activation='relu'),\n",
    "#     layers.Dense(10,  activation='softmax')])\n",
    "model = keras.Sequential([\n",
    "    tf.keras.layers.Flatten(input_shape=(28,28)),\n",
    "    tf.keras.layers.Dense(128,activation='relu'),\n",
    "    tf.keras.layers.Dense(10,activation='softmax')])"
   ]
  },
  {
   "cell_type": "code",
   "execution_count": 8,
   "metadata": {},
   "outputs": [],
   "source": [
    "#model.compile(optimizer='SGD',loss=keras.losses.CategoricalCrossentropy(from_logits=False),metrics=['categorical_accuracy'])\n",
    "model.compile(optimizer='adam',loss=tf.keras.losses.SparseCategoricalCrossentropy(from_logits=False),metrics=['sparse_categorical_accuracy'])"
   ]
  },
  {
   "cell_type": "code",
   "execution_count": 9,
   "metadata": {},
   "outputs": [
    {
     "name": "stdout",
     "output_type": "stream",
     "text": [
      "Model: \"sequential\"\n",
      "_________________________________________________________________\n",
      "Layer (type)                 Output Shape              Param #   \n",
      "=================================================================\n",
      "flatten (Flatten)            (None, 784)               0         \n",
      "_________________________________________________________________\n",
      "dense (Dense)                (None, 128)               100480    \n",
      "_________________________________________________________________\n",
      "dense_1 (Dense)              (None, 10)                1290      \n",
      "=================================================================\n",
      "Total params: 101,770\n",
      "Trainable params: 101,770\n",
      "Non-trainable params: 0\n",
      "_________________________________________________________________\n"
     ]
    }
   ],
   "source": [
    "model.summary()# 784*128+128=100 480 ! 128*10+10"
   ]
  },
  {
   "cell_type": "code",
   "execution_count": 10,
   "metadata": {},
   "outputs": [
    {
     "name": "stdout",
     "output_type": "stream",
     "text": [
      "Epoch 1/10\n",
      "WARNING:tensorflow:From /usr/local/lib/python3.6/site-packages/tensorflow/python/ops/math_grad.py:1250: add_dispatch_support.<locals>.wrapper (from tensorflow.python.ops.array_ops) is deprecated and will be removed in a future version.\n",
      "Instructions for updating:\n",
      "Use tf.where in 2.0, which has the same broadcast rule as np.where\n",
      "937/937 [==============================] - 11s 12ms/step - loss: 0.2958 - sparse_categorical_accuracy: 0.9166\n",
      "Epoch 2/10\n",
      "937/937 [==============================] - 15s 16ms/step - loss: 0.1325 - sparse_categorical_accuracy: 0.9616\n",
      "Epoch 3/10\n",
      "937/937 [==============================] - 5s 5ms/step - loss: 0.0910 - sparse_categorical_accuracy: 0.9732\n",
      "Epoch 4/10\n",
      "937/937 [==============================] - 4s 5ms/step - loss: 0.0695 - sparse_categorical_accuracy: 0.9793\n",
      "Epoch 5/10\n",
      "937/937 [==============================] - 4s 5ms/step - loss: 0.0550 - sparse_categorical_accuracy: 0.9836\n",
      "Epoch 6/10\n",
      "937/937 [==============================] - 4s 4ms/step - loss: 0.0444 - sparse_categorical_accuracy: 0.9867\n",
      "Epoch 7/10\n",
      "937/937 [==============================] - 4s 4ms/step - loss: 0.0358 - sparse_categorical_accuracy: 0.9891\n",
      "Epoch 8/10\n",
      "937/937 [==============================] - 4s 5ms/step - loss: 0.0294 - sparse_categorical_accuracy: 0.9919\n",
      "Epoch 9/10\n",
      "937/937 [==============================] - 4s 4ms/step - loss: 0.0236 - sparse_categorical_accuracy: 0.9933\n",
      "Epoch 10/10\n",
      "937/937 [==============================] - 4s 4ms/step - loss: 0.0194 - sparse_categorical_accuracy: 0.9946\n"
     ]
    },
    {
     "data": {
      "text/plain": [
       "<tensorflow.python.keras.callbacks.History at 0x7f1aa82e2cf8>"
      ]
     },
     "execution_count": 10,
     "metadata": {},
     "output_type": "execute_result"
    }
   ],
   "source": [
    "model.fit(train_dataset,steps_per_epoch=60000//64,epochs=10)"
   ]
  },
  {
   "cell_type": "code",
   "execution_count": null,
   "metadata": {},
   "outputs": [],
   "source": []
  }
 ],
 "metadata": {
  "kernelspec": {
   "display_name": "Python 3",
   "language": "python",
   "name": "python3"
  },
  "language_info": {
   "codemirror_mode": {
    "name": "ipython",
    "version": 3
   },
   "file_extension": ".py",
   "mimetype": "text/x-python",
   "name": "python",
   "nbconvert_exporter": "python",
   "pygments_lexer": "ipython3",
   "version": "3.6.8"
  }
 },
 "nbformat": 4,
 "nbformat_minor": 2
}
